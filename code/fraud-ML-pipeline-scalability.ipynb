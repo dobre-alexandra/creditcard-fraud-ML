{
 "cells": [
  {
   "cell_type": "markdown",
   "id": "3c5f7fff",
   "metadata": {},
   "source": [
    "# Modelling and scalability analysis\n",
    "\n",
    "This notebook implements a systematic scalability evaluation of four fraud-detection models—Logistic Regression, LightGBM, Isolation Forest, and Random Forest—running on Apache Spark in a GCP Dataproc cluster. \n",
    "\n",
    "1. **Data Sampling & Partitioning**  \n",
    "   - For each target fraction (e.g. 5 %, 25 %, 100 % of the full 4 M-row training set), we stratify-sample to preserve the 0.17 % fraud rate. \n",
    "   - Each sampled DataFrame is repartitioned into 16 partitions and cached.\n",
    "   \n",
    "2. **Model Definition**  \n",
    "   - A shared `VectorAssembler` converts the feature columns into a single `features` vector.  \n",
    "   - Four separate `Pipeline` objects encapsulate each algorithm’s hyperparameters and training logic.\n",
    "\n",
    "3. **Training & Evaluation Loop**  \n",
    "   - We iterate over each sample fraction and model pipeline:  \n",
    "     1. **Fit** the pipeline on the sampled training data and record training time.  \n",
    "     2. **Transform** the hold-out test set to generate predictions and probability/anomaly scores.  \n",
    "     3. **Pull** the relevant columns into Pandas and compute classification metrics (accuracy, precision, recall, F1, ROC-AUC, PR-AUC).  \n",
    "     4. **Log** all timings, metrics, and partition counts into a master DataFrame.\n",
    "\n",
    "4. **System Metrics Collection**  \n",
    "   - After model runs, we fetch cluster resource metrics (CPU utilization, disk I/O, memory and YARN allocation) via the GCP Monitoring UI for the same time window, enabling joint analysis of compute performance and resource usage.\n",
    "\n",
    "By automating these steps, we obtain a complete runtime and accuracy profile across data scales and algorithms, allowing us to pinpoint where model performance, training speed, and cluster efficiency intersect.\n",
    "\n",
    "## Cluster configuration settings\n",
    "\n",
    "We used the following command to instantiate our cluster in the GCP Cloud Shell.\n",
    "\n",
    "We spin up two separate clusters, one with 2 worker nodes and the other with 4 worker nodes to test scalability.\n",
    "\n",
    "```\n",
    "gcloud dataproc clusters create st446-final-proj \\\n",
    "  --region=europe-west2 \\\n",
    "  --zone=europe-west2-c \\\n",
    "  --master-machine-type=n2-standard-2 \\\n",
    "  --master-boot-disk-type=pd-balanced \\\n",
    "  --master-boot-disk-size=100 \\\n",
    "  --num-workers=2 \\\n",
    "  --worker-machine-type=n2-standard-2 \\\n",
    "  --worker-boot-disk-type=pd-balanced \\\n",
    "  --worker-boot-disk-size=100 \\\n",
    "  --image-version=2.2-debian12 \\\n",
    "  --optional-components=JUPYTER \\\n",
    "  --enable-component-gateway \\\n",
    "  --public-ip-address \\\n",
    "  --project=st446-wt2025-id \\\n",
    "  --properties='^#^spark:spark.jars.packages=com.microsoft.azure:synapseml_2.12:0.11.1,ml.dmlc:xgboost4j-spark_2.12:1.6.0'\n",
    "```\n",
    "\n",
    "Once the cluster is instantiated, we also create a bucket and upload the final training and testing data in it. \n",
    "\n",
    "```\n",
    "gsutil mb gs://st446-final-bucket\n",
    "```"
   ]
  },
  {
   "cell_type": "markdown",
   "id": "8eb02ae2",
   "metadata": {},
   "source": [
    "## Import packages/libraries + setup"
   ]
  },
  {
   "cell_type": "code",
   "execution_count": 1,
   "id": "c912a008",
   "metadata": {},
   "outputs": [],
   "source": [
    "from datetime import datetime, timezone\n",
    "import time\n",
    "import requests\n",
    "import pandas as pd\n",
    "\n",
    "from pyspark.sql import functions as F\n",
    "from pyspark.sql import SparkSession\n",
    "\n",
    "from pyspark.ml.evaluation import BinaryClassificationEvaluator\n",
    "from pyspark.ml.classification import LogisticRegression\n",
    "from pyspark.ml import Pipeline\n",
    "from pyspark.ml.feature import VectorAssembler\n",
    "from synapse.ml.isolationforest import IsolationForest\n",
    "from synapse.ml.lightgbm import LightGBMClassifier  \n",
    "from pyspark.sql import SparkSession\n",
    "from pyspark.ml.classification import RandomForestClassifier\n",
    "from pyspark.ml.functions import vector_to_array\n",
    "from sklearn.metrics import (\n",
    "    accuracy_score, precision_score, recall_score,\n",
    "    f1_score, roc_auc_score, average_precision_score\n",
    ")"
   ]
  },
  {
   "cell_type": "markdown",
   "id": "9ee85feb",
   "metadata": {},
   "source": [
    "## Capture the start time\n",
    "\n",
    "Throughout the code, you we print time-stamps so we are later able to filter computing environment metrics in the GCP Cluster Monitoring UI to the exact moments we are running the analysis."
   ]
  },
  {
   "cell_type": "code",
   "execution_count": 2,
   "id": "d82d16cd",
   "metadata": {},
   "outputs": [
    {
     "name": "stdout",
     "output_type": "stream",
     "text": [
      "Start time (UTC):  2025-05-05 21:45:07.020738+00:00\n"
     ]
    }
   ],
   "source": [
    "run_start = datetime.now(timezone.utc)\n",
    "print(\"Start time (UTC): \", run_start)\n",
    "\n",
    "# list to accumulate operation timings\n",
    "_cell_times = []"
   ]
  },
  {
   "cell_type": "code",
   "execution_count": 3,
   "id": "7b7c4ca8",
   "metadata": {},
   "outputs": [
    {
     "name": "stderr",
     "output_type": "stream",
     "text": [
      "                                                                                \r"
     ]
    },
    {
     "data": {
      "text/plain": [
       "1"
      ]
     },
     "execution_count": 3,
     "metadata": {},
     "output_type": "execute_result"
    }
   ],
   "source": [
    "# this will check that Spark is working ok\n",
    "spark.range(1).count()"
   ]
  },
  {
   "cell_type": "markdown",
   "id": "f9e66072",
   "metadata": {},
   "source": [
    "## Load the data and perform some basic checks"
   ]
  },
  {
   "cell_type": "code",
   "execution_count": 4,
   "id": "73104507",
   "metadata": {},
   "outputs": [
    {
     "name": "stderr",
     "output_type": "stream",
     "text": [
      "                                                                                \r"
     ]
    }
   ],
   "source": [
    "# Load data\n",
    "start = datetime.now(timezone.utc) #start\n",
    "\n",
    "train_df = spark.read.csv(\"gs://st446-final-bucket/final_training_data.csv\", header=True, inferSchema=True)\n",
    "test_df = spark.read.csv(\"gs://st446-final-bucket/test_data.csv\", header=True, inferSchema=True)\n",
    "\n",
    "end   = datetime.now(timezone.utc) #end\n",
    "_cell_times.append({\n",
    "    \"operation\": \"test\",\n",
    "    \"start\":     start,\n",
    "    \"end\":       end\n",
    "})"
   ]
  },
  {
   "cell_type": "markdown",
   "id": "77e3184d",
   "metadata": {},
   "source": [
    "## Dataset Composition & Class Imbalance\n",
    "\n",
    "- **Original data** consisted of 284,807 transactions with only 492 frauds (~0.17% fraud rate).  \n",
    "- **Training set (~4,000,000 rows)** \n",
    "  - We applied SMOTE plus bootstrap-with-jitter to the 80% training split, boosting the minority (“fraud”) class from 0.17% up to roughly 25% of the augmented training data.  \n",
    "  - This yields 3,998,559 total rows, with ~1,000,856 frauds (25.0%) and ~2,998,703 non-frauds (75.0 %).  \n",
    "  - **Why 25%?**  Oversampling to a moderate fraud proportion prevents extreme class imbalance in the learners’ objective functions while still preserving realistic negative examples.\n",
    "\n",
    "- **Test set (56,624 rows)**  \n",
    "  - Left untouched at the original 20% hold-out it retains the real-world distribution: 93 frauds (~0.17%) vs. 56,531 non-frauds (~99.83%).  \n",
    "  - **Why keep it skewed?**  We measure PR-AUC, precision, and recall on genuinely imbalanced data so our evaluation reflects true operational performance, not the synthetic training balance.\n",
    "\n",
    "By training on a balanced 25% fraud ratio and testing on the true 0.17 % rate, we ensure our models learn from enough positive examples without overstating their production-time effectiveness.```"
   ]
  },
  {
   "cell_type": "code",
   "execution_count": 5,
   "id": "6d29231f",
   "metadata": {},
   "outputs": [
    {
     "name": "stderr",
     "output_type": "stream",
     "text": [
      "                                                                                \r"
     ]
    },
    {
     "name": "stdout",
     "output_type": "stream",
     "text": [
      "Training Rows: 3999559\n",
      "Training class breakdown:\n"
     ]
    },
    {
     "name": "stderr",
     "output_type": "stream",
     "text": [
      "                                                                                \r"
     ]
    },
    {
     "name": "stdout",
     "output_type": "stream",
     "text": [
      "+-----+-------+-------+\n",
      "|label|  count|share_%|\n",
      "+-----+-------+-------+\n",
      "|    0|2998703| 74.976|\n",
      "|    1|1000856| 25.024|\n",
      "+-----+-------+-------+\n",
      "\n",
      "Testing Rows: 56624\n",
      "Testing class breakdown:\n"
     ]
    },
    {
     "name": "stderr",
     "output_type": "stream",
     "text": [
      "[Stage 22:>                                                         (0 + 4) / 4]\r"
     ]
    },
    {
     "name": "stdout",
     "output_type": "stream",
     "text": [
      "+-----+-----+-------+\n",
      "|label|count|share_%|\n",
      "+-----+-----+-------+\n",
      "|    1|   93|  0.164|\n",
      "|    0|56531| 99.836|\n",
      "+-----+-----+-------+\n",
      "\n"
     ]
    },
    {
     "name": "stderr",
     "output_type": "stream",
     "text": [
      "\r\n",
      "                                                                                \r"
     ]
    }
   ],
   "source": [
    "# materialise caches\n",
    "train_rows = train_df.count()\n",
    "test_rows  = test_df.count()\n",
    "\n",
    "train_df = train_df.withColumnRenamed(\"Class\", \"label\")\n",
    "test_df = test_df.withColumnRenamed(\"Class\", \"label\")\n",
    "\n",
    "print(\"Training Rows:\", train_rows) \n",
    "print(\"Training class breakdown:\")\n",
    "train_df.groupBy(\"label\") \\\n",
    "   .count() \\\n",
    "   .withColumn(\"share_%\", F.round(F.col(\"count\") / train_df.count() * 100, 3)) \\\n",
    "   .show()\n",
    "\n",
    "print(\"Testing Rows:\", test_rows)     \n",
    "print(\"Testing class breakdown:\")\n",
    "test_df.groupBy(\"label\") \\\n",
    "   .count() \\\n",
    "   .withColumn(\"share_%\", F.round(F.col(\"count\") / test_df.count() * 100, 3)) \\\n",
    "   .show()"
   ]
  },
  {
   "cell_type": "markdown",
   "id": "1c2847a7",
   "metadata": {},
   "source": [
    "## Model Pipelines Overview\n",
    "\n",
    "We define four separate Spark ML pipelines—each sharing a common feature‐assembly step—to compare linear, tree-based, and anomaly-detection approaches.\n",
    "\n",
    "**Note:** We deliberately did not perform exhaustive hyperparameter tuning here—our goal was to measure how training time and resource usage scale with data size and cluster configuration, rather than to maximize model accuracy. Hyperparameter optimization could be a natural next step once we’ve identified the best-performing algorithms and cluster settings.\n",
    "\n",
    "1. **Feature Assembly**  \n",
    "   - `VectorAssembler` takes all numeric PCA‐derived features (excluding `label` and `Time`) and produces a single `features` vector for each transaction.\n",
    "\n",
    "2. **Logistic Regression**  \n",
    "   - **Estimator**: `LogisticRegression`  \n",
    "   - **Key settings**:  \n",
    "     - `regParam=0.1`, `elasticNetParam=0.5` for balanced L1/L2 regularization  \n",
    "     - Produces `probability` and `prediction` columns  \n",
    "   - **Use-case**: Fast, calibrated linear baseline on PCA data.\n",
    "\n",
    "3. **LightGBM (Gradient Boosted Trees)**  \n",
    "   - **Estimator**: `LightGBMClassifier`  \n",
    "   - **Key settings**:  \n",
    "     - `numIterations=100`, `learningRate=0.05`  \n",
    "     - `numLeaves=32`, `featureFraction=0.8`, `baggingFraction=0.8`, `baggingFreq=1`  \n",
    "     - `isUnbalance=True`, `seed=42` for reproducibility  \n",
    "   - **Use-case**: Non-linear boosting with subsampling to control overfitting and memory.\n",
    "\n",
    "4. **Isolation Forest (Anomaly Detection)**  \n",
    "   - **Estimator**: `IsolationForest` (SynapseML)  \n",
    "   - **Key settings**:  \n",
    "     - `contamination=0.0017` (reflects 0.17 % fraud rate)  \n",
    "     - `numEstimators=50`, `maxSamples=0.5`, `.setRandomSeed(42)`  \n",
    "   - **Use-case**: Pure anomaly detector tuned to real‐world fraud prevalence.\n",
    "\n",
    "5. **Random Forest**  \n",
    "   - **Estimator**: `RandomForestClassifier`  \n",
    "   - **Key settings**:  \n",
    "     - `numTrees=20`, `maxDepth=6`, `seed=42`  \n",
    "   - **Use-case**: Robust ensemble of decision trees for imbalanced classification."
   ]
  },
  {
   "cell_type": "code",
   "execution_count": 8,
   "id": "bc2428dd",
   "metadata": {},
   "outputs": [],
   "source": [
    "\n",
    "# Define the pipelines\n",
    "\n",
    "# 1. Feature assembler\n",
    "feature_cols = [c for c in train_df.columns if c not in (\"label\", \"Time\")]\n",
    "assembler    = VectorAssembler(inputCols=feature_cols, outputCol=\"features\")\n",
    "\n",
    "# 2. Logistic Regression pipeline\n",
    "lr = LogisticRegression(\n",
    "    featuresCol=\"features\",\n",
    "    labelCol=\"label\",\n",
    "    predictionCol=\"prediction\",\n",
    "    probabilityCol=\"probability\",\n",
    "    regParam=0.1, \n",
    "    elasticNetParam=0.5\n",
    ")\n",
    "pipeline_lr = Pipeline(stages=[assembler, lr])\n",
    "\n",
    "# 3. LightGBM pipeline\n",
    "lgbm = LightGBMClassifier(\n",
    "    labelCol=\"label\",\n",
    "    featuresCol=\"features\",\n",
    "    objective=\"binary\",\n",
    "    boostingType=\"gbdt\",\n",
    "    isUnbalance=True,\n",
    "    numIterations=100,\n",
    "    learningRate=0.05,\n",
    "    numLeaves=32,\n",
    "    featureFraction=0.8,\n",
    "    baggingFraction=0.8,\n",
    "    baggingFreq=1,\n",
    "    seed=42\n",
    ")\n",
    "pipeline_lgbm = Pipeline(stages=[assembler, lgbm])\n",
    "\n",
    "# 4. Isolation Forest \n",
    "pipeline_if = Pipeline(stages=[\n",
    "    assembler,\n",
    "    IsolationForest(\n",
    "        contamination=0.0017, # reflects true fraur rate \n",
    "        featuresCol=\"features\",\n",
    "        predictionCol=\"prediction\",\n",
    "        numEstimators=50,        # smaller forest\n",
    "        maxSamples=0.5              # each tree sees only 50$ of the data\n",
    "    ).setRandomSeed(42) \n",
    "])\n",
    "\n",
    "# 5. Random Forest\n",
    "rf = RandomForestClassifier(\n",
    "    labelCol=\"label\",\n",
    "    featuresCol=\"features\",\n",
    "    numTrees=20,\n",
    "    maxDepth=6,\n",
    "    seed=42  \n",
    ")\n",
    "pipeline_rf = Pipeline(stages=[assembler, rf])\n",
    "\n",
    "# All together\n",
    "pipelines = {\n",
    "    \"LogisticRegression\": pipeline_lr,\n",
    "    \"LightGBM\":           pipeline_lgbm,\n",
    "    \"IsolationForest\":    pipeline_if,\n",
    "    \"RandomForest\":       pipeline_rf\n",
    "}\n",
    "\n",
    "# Instantiate a Spark evaluator once\n",
    "evaluator = BinaryClassificationEvaluator(\n",
    "    labelCol=\"label\",\n",
    "    rawPredictionCol=\"rawPrediction\",\n",
    "    metricName=\"areaUnderPR\"\n",
    ")"
   ]
  },
  {
   "cell_type": "markdown",
   "id": "f19ca84b",
   "metadata": {},
   "source": [
    "## Scalability Loop: Sampling, Training & Evaluation\n",
    "\n",
    "This section iterates over one or more fractions of the training data (e.g. 5 %, 25 %, 100 %) to measure how each model scales with data size.\n",
    "\n",
    "1. **Setup & Parameters**  \n",
    "   - `sample = [0.25, 0.5, 1.0]` defines which data fractions to test.  \n",
    "   - `partitions_per_frac = 16` chooses the number of Spark partitions (tasks) per run.\n",
    "\n",
    "2. **Sampling & Repartitioning**  \n",
    "   - Record the start time (`start`) for each fraction.  \n",
    "   - If `frac == 1.0`, use the full `train_df`; otherwise take a **stratified sample** by label to preserve the fraud/non-fraud ratio.  \n",
    "   - Repartition the sampled DataFrame into `partitions_per_frac` tasks and cache (only for actual samples, not full data).\n",
    "\n",
    "3. **Model Training & Inference**  \n",
    "   - Loop over each pipeline in `pipelines` (LR, LightGBM, IsolationForest, RandomForest).  \n",
    "   - **Fit** the model on `sample_df` and time the operation (`fit_tm`).  \n",
    "   - **Transform** the held-out `test_df` to generate predictions.\n",
    "\n",
    "4. **Metric Extraction**  \n",
    "   - Build a list of columns to collect:  \n",
    "     - Always `label` and `prediction`  \n",
    "     - Add `prob_score` if the model outputs probabilities  \n",
    "     - Add `anomalyScore` if it’s an anomaly detector  \n",
    "   - Pull these columns into Pandas, choose the appropriate score column, and compute **accuracy**, **precision**, **recall**, **F1**, **ROC-AUC**, and **PR-AUC** using `sklearn.metrics`.\n",
    "\n",
    "5. **Logging & Cleanup**  \n",
    "   - Append all timings, metrics, and partition counts into the `_cell_times` list.  \n",
    "   - Print a concise “Evaluation Results” summary for each model/fraction.  \n",
    "   - Unpersist and delete `sample_df` before the next iteration to free memory.\n",
    "\n",
    "By automating sampling, training, scoring, and resource cleanup, this loop captures both **performance** (training time) and **predictive quality** (PR-AUC, etc.) across varying data volumes in a single, reproducible workflow.\n",
    "\n",
    "**Note:** Due to kernel crashes during earlier runs, some outputs, especially evaluation results,were manually pasted from other notebooks where the full loop completed successfully. As a result, not all loops visibly execute in this notebook’s output cells, but the code reflects the full workflow that was used to generate them. We did this so we could simplify our output and keep it all in one notebook."
   ]
  },
  {
   "cell_type": "code",
   "execution_count": 9,
   "id": "99ce867b",
   "metadata": {},
   "outputs": [
    {
     "name": "stdout",
     "output_type": "stream",
     "text": [
      "Start time for sampling: 2025-05-05 21:49:23.524686+00:00\n",
      "Created sample df on 5% sample\n",
      "Repartition complete\n"
     ]
    },
    {
     "name": "stderr",
     "output_type": "stream",
     "text": [
      "                                                                                \r"
     ]
    },
    {
     "name": "stdout",
     "output_type": "stream",
     "text": [
      "Cache complete\n",
      "================================\n",
      "Fitting model: LogisticRegression on 5% sample\n",
      "================================\n"
     ]
    },
    {
     "name": "stderr",
     "output_type": "stream",
     "text": [
      "                                                                                \r"
     ]
    },
    {
     "name": "stdout",
     "output_type": "stream",
     "text": [
      "Model fit complete\n",
      "Successfuly ran preds = model.transform(test_df)\n"
     ]
    },
    {
     "name": "stderr",
     "output_type": "stream",
     "text": [
      "                                                                                \r"
     ]
    },
    {
     "name": "stdout",
     "output_type": "stream",
     "text": [
      "Successfully pulled sklearn metrics \n",
      "\n",
      "--- Evaluation Results ---\n",
      "Fit Time (s): 13.36\n",
      "Accuracy: 0.9992 | Precision: 0.8571 | Recall: 0.5806\n",
      "F1: 0.6923 | ROC-AUC: 0.9764 | PR-AUC: 0.7095\n",
      "Partitions: 16\n",
      "================================\n",
      "Fitting model: LightGBM on 5% sample\n",
      "================================\n"
     ]
    },
    {
     "name": "stderr",
     "output_type": "stream",
     "text": [
      "                                                                                \r"
     ]
    },
    {
     "name": "stdout",
     "output_type": "stream",
     "text": [
      "Successfully pulled sklearn metrics \n",
      "\n",
      "--- Evaluation Results ---\n",
      "Fit Time (s): 59.59\n",
      "Accuracy: 0.9989 | Precision: 0.6435 | Recall: 0.7957\n",
      "F1: 0.7115 | ROC-AUC: 0.961 | PR-AUC: 0.6951\n",
      "Partitions: 16\n",
      "================================\n",
      "Fitting model: IsolationForest on 5% sample\n",
      "================================\n"
     ]
    },
    {
     "name": "stderr",
     "output_type": "stream",
     "text": [
      "25/05/05 21:51:52 WARN DAGScheduler: Broadcasting large task binary with size 4.4 MiB\n",
      "25/05/05 21:52:01 WARN DAGScheduler: Broadcasting large task binary with size 4.4 MiB\n",
      "25/05/05 21:52:02 WARN DAGScheduler: Broadcasting large task binary with size 4.4 MiB\n",
      "25/05/05 21:52:05 WARN DAGScheduler: Broadcasting large task binary with size 4.4 MiB\n",
      "25/05/05 21:52:06 WARN DAGScheduler: Broadcasting large task binary with size 4.4 MiB\n",
      "                                                                                \r"
     ]
    },
    {
     "name": "stdout",
     "output_type": "stream",
     "text": [
      "Model fit complete\n",
      "Successfuly ran preds = model.transform(test_df)\n"
     ]
    },
    {
     "name": "stderr",
     "output_type": "stream",
     "text": [
      "25/05/05 21:52:09 WARN DAGScheduler: Broadcasting large task binary with size 4.3 MiB\n",
      "                                                                                \r"
     ]
    },
    {
     "name": "stdout",
     "output_type": "stream",
     "text": [
      "Successfully pulled sklearn metrics \n",
      "\n",
      "--- Evaluation Results ---\n",
      "Fit Time (s): 47.26\n",
      "Accuracy: 0.9979 | Precision: 0.0385 | Recall: 0.0108\n",
      "F1: 0.0168 | ROC-AUC: 0.5052 | PR-AUC: 0.002\n",
      "Partitions: 16\n",
      "================================\n",
      "Fitting model: RandomForest on 5% sample\n",
      "================================\n"
     ]
    },
    {
     "name": "stderr",
     "output_type": "stream",
     "text": [
      "                                                                                \r"
     ]
    },
    {
     "name": "stdout",
     "output_type": "stream",
     "text": [
      "Model fit complete\n",
      "Successfuly ran preds = model.transform(test_df)\n"
     ]
    },
    {
     "name": "stderr",
     "output_type": "stream",
     "text": [
      "                                                                                \r"
     ]
    },
    {
     "name": "stdout",
     "output_type": "stream",
     "text": [
      "Successfully pulled sklearn metrics \n",
      "\n",
      "--- Evaluation Results ---\n",
      "Fit Time (s): 11.17\n",
      "Accuracy: 0.9992 | Precision: 0.8194 | Recall: 0.6344\n",
      "F1: 0.7152 | ROC-AUC: 0.9265 | PR-AUC: 0.6178\n",
      "Partitions: 16\n",
      "Start time for sampling: 2025-05-05 21:52:26.882372+00:00\n",
      "Created sample df on 25% sample\n",
      "Repartition complete\n"
     ]
    },
    {
     "name": "stderr",
     "output_type": "stream",
     "text": [
      "                                                                                \r"
     ]
    },
    {
     "name": "stdout",
     "output_type": "stream",
     "text": [
      "Cache complete\n",
      "================================\n",
      "Fitting model: LogisticRegression on 25% sample\n",
      "================================\n"
     ]
    },
    {
     "name": "stderr",
     "output_type": "stream",
     "text": [
      "                                                                                \r"
     ]
    },
    {
     "name": "stdout",
     "output_type": "stream",
     "text": [
      "Model fit complete\n",
      "Successfuly ran preds = model.transform(test_df)\n"
     ]
    },
    {
     "name": "stderr",
     "output_type": "stream",
     "text": [
      "                                                                                \r"
     ]
    },
    {
     "name": "stdout",
     "output_type": "stream",
     "text": [
      "Successfully pulled sklearn metrics \n",
      "\n",
      "--- Evaluation Results ---\n",
      "Fit Time (s): 10.81\n",
      "Accuracy: 0.9992 | Precision: 0.8571 | Recall: 0.5806\n",
      "F1: 0.6923 | ROC-AUC: 0.9766 | PR-AUC: 0.7098\n",
      "Partitions: 16\n",
      "================================\n",
      "Fitting model: LightGBM on 25% sample\n",
      "================================\n"
     ]
    },
    {
     "name": "stderr",
     "output_type": "stream",
     "text": [
      "                                                                                \r"
     ]
    },
    {
     "name": "stdout",
     "output_type": "stream",
     "text": [
      "Model fit complete\n",
      "Successfuly ran preds = model.transform(test_df)\n"
     ]
    },
    {
     "name": "stderr",
     "output_type": "stream",
     "text": [
      "                                                                                \r"
     ]
    },
    {
     "name": "stdout",
     "output_type": "stream",
     "text": [
      "Successfully pulled sklearn metrics \n",
      "\n",
      "--- Evaluation Results ---\n",
      "Fit Time (s): 62.59\n",
      "Accuracy: 0.999 | Precision: 0.6667 | Recall: 0.7957\n",
      "F1: 0.7255 | ROC-AUC: 0.9662 | PR-AUC: 0.6966\n",
      "Partitions: 16\n",
      "================================\n",
      "Fitting model: IsolationForest on 25% sample\n",
      "================================\n"
     ]
    },
    {
     "name": "stderr",
     "output_type": "stream",
     "text": [
      "25/05/05 21:56:06 WARN BlockManagerMasterEndpoint: No more replicas available for rdd_464_8 !\n",
      "25/05/05 21:56:06 WARN BlockManagerMasterEndpoint: No more replicas available for rdd_357_3 !\n",
      "25/05/05 21:56:06 WARN BlockManagerMasterEndpoint: No more replicas available for rdd_464_11 !\n",
      "25/05/05 21:56:06 WARN BlockManagerMasterEndpoint: No more replicas available for rdd_464_4 !\n",
      "25/05/05 21:56:06 WARN BlockManagerMasterEndpoint: No more replicas available for rdd_357_14 !\n",
      "25/05/05 21:56:06 WARN BlockManagerMasterEndpoint: No more replicas available for rdd_464_2 !\n",
      "25/05/05 21:56:06 WARN BlockManagerMasterEndpoint: No more replicas available for rdd_357_10 !\n",
      "25/05/05 21:56:06 WARN BlockManagerMasterEndpoint: No more replicas available for rdd_357_6 !\n",
      "25/05/05 21:56:07 WARN YarnAllocator: Container from a bad node: container_1746481325738_0001_01_000002 on host: st446-final-proj-w-1.europe-west2-c.c.st446-wt2025-id.internal. Exit status: 143. Diagnostics: [2025-05-05 21:56:07.181]Container killed on request. Exit code is 143\n",
      "[2025-05-05 21:56:07.185]Container exited with a non-zero exit code 143. \n",
      "[2025-05-05 21:56:07.186]Killed by external signal\n",
      ".\n",
      "25/05/05 21:56:07 WARN YarnSchedulerBackend$YarnSchedulerEndpoint: Requesting driver to remove executor 2 for reason Container from a bad node: container_1746481325738_0001_01_000002 on host: st446-final-proj-w-1.europe-west2-c.c.st446-wt2025-id.internal. Exit status: 143. Diagnostics: [2025-05-05 21:56:07.181]Container killed on request. Exit code is 143\n",
      "[2025-05-05 21:56:07.185]Container exited with a non-zero exit code 143. \n",
      "[2025-05-05 21:56:07.186]Killed by external signal\n",
      ".\n",
      "25/05/05 21:56:07 ERROR YarnScheduler: Lost executor 2 on st446-final-proj-w-1.europe-west2-c.c.st446-wt2025-id.internal: Container from a bad node: container_1746481325738_0001_01_000002 on host: st446-final-proj-w-1.europe-west2-c.c.st446-wt2025-id.internal. Exit status: 143. Diagnostics: [2025-05-05 21:56:07.181]Container killed on request. Exit code is 143\n",
      "[2025-05-05 21:56:07.185]Container exited with a non-zero exit code 143. \n",
      "[2025-05-05 21:56:07.186]Killed by external signal\n",
      ".\n",
      "25/05/05 21:56:07 WARN TaskSetManager: Lost task 44.0 in stage 263.0 (TID 1757) (st446-final-proj-w-1.europe-west2-c.c.st446-wt2025-id.internal executor 2): ExecutorLostFailure (executor 2 exited caused by one of the running tasks) Reason: Container from a bad node: container_1746481325738_0001_01_000002 on host: st446-final-proj-w-1.europe-west2-c.c.st446-wt2025-id.internal. Exit status: 143. Diagnostics: [2025-05-05 21:56:07.181]Container killed on request. Exit code is 143\n",
      "[2025-05-05 21:56:07.185]Container exited with a non-zero exit code 143. \n",
      "[2025-05-05 21:56:07.186]Killed by external signal\n",
      ".\n",
      "25/05/05 21:56:18 WARN DAGScheduler: Broadcasting large task binary with size 9.0 MiB\n",
      "25/05/05 21:56:25 WARN BlockManagerMasterEndpoint: No more replicas available for rdd_357_1 !\n",
      "25/05/05 21:56:25 WARN BlockManagerMasterEndpoint: No more replicas available for rdd_357_13 !\n",
      "25/05/05 21:56:25 WARN BlockManagerMasterEndpoint: No more replicas available for rdd_464_6 !\n",
      "25/05/05 21:56:25 WARN BlockManagerMasterEndpoint: No more replicas available for rdd_652_1 !\n",
      "25/05/05 21:56:25 WARN BlockManagerMasterEndpoint: No more replicas available for rdd_464_1 !\n",
      "25/05/05 21:56:25 WARN BlockManagerMasterEndpoint: No more replicas available for rdd_464_10 !\n",
      "25/05/05 21:56:25 WARN BlockManagerMasterEndpoint: No more replicas available for rdd_464_14 !\n",
      "25/05/05 21:56:25 WARN BlockManagerMasterEndpoint: No more replicas available for rdd_357_7 !\n",
      "25/05/05 21:56:25 WARN BlockManagerMasterEndpoint: No more replicas available for rdd_357_4 !\n",
      "25/05/05 21:56:26 WARN YarnAllocator: Container from a bad node: container_1746481325738_0001_01_000001 on host: st446-final-proj-w-0.europe-west2-c.c.st446-wt2025-id.internal. Exit status: 143. Diagnostics: [2025-05-05 21:56:25.880]Container killed on request. Exit code is 143\n",
      "[2025-05-05 21:56:25.885]Container exited with a non-zero exit code 143. \n",
      "[2025-05-05 21:56:25.886]Killed by external signal\n",
      ".\n",
      "25/05/05 21:56:26 WARN YarnSchedulerBackend$YarnSchedulerEndpoint: Requesting driver to remove executor 1 for reason Container from a bad node: container_1746481325738_0001_01_000001 on host: st446-final-proj-w-0.europe-west2-c.c.st446-wt2025-id.internal. Exit status: 143. Diagnostics: [2025-05-05 21:56:25.880]Container killed on request. Exit code is 143\n",
      "[2025-05-05 21:56:25.885]Container exited with a non-zero exit code 143. \n",
      "[2025-05-05 21:56:25.886]Killed by external signal\n",
      ".\n",
      "25/05/05 21:56:26 ERROR YarnScheduler: Lost executor 1 on st446-final-proj-w-0.europe-west2-c.c.st446-wt2025-id.internal: Container from a bad node: container_1746481325738_0001_01_000001 on host: st446-final-proj-w-0.europe-west2-c.c.st446-wt2025-id.internal. Exit status: 143. Diagnostics: [2025-05-05 21:56:25.880]Container killed on request. Exit code is 143\n",
      "[2025-05-05 21:56:25.885]Container exited with a non-zero exit code 143. \n",
      "[2025-05-05 21:56:25.886]Killed by external signal\n",
      ".\n",
      "25/05/05 21:56:26 WARN TaskSetManager: Lost task 6.0 in stage 265.0 (TID 1769) (st446-final-proj-w-0.europe-west2-c.c.st446-wt2025-id.internal executor 1): ExecutorLostFailure (executor 1 exited caused by one of the running tasks) Reason: Container from a bad node: container_1746481325738_0001_01_000001 on host: st446-final-proj-w-0.europe-west2-c.c.st446-wt2025-id.internal. Exit status: 143. Diagnostics: [2025-05-05 21:56:25.880]Container killed on request. Exit code is 143\n",
      "[2025-05-05 21:56:25.885]Container exited with a non-zero exit code 143. \n",
      "[2025-05-05 21:56:25.886]Killed by external signal\n",
      ".\n",
      "25/05/05 21:56:59 WARN DAGScheduler: Broadcasting large task binary with size 9.1 MiB\n",
      "25/05/05 21:57:06 WARN DAGScheduler: Broadcasting large task binary with size 9.1 MiB\n",
      "25/05/05 21:57:11 WARN DAGScheduler: Broadcasting large task binary with size 9.1 MiB\n",
      "25/05/05 21:57:14 WARN DAGScheduler: Broadcasting large task binary with size 9.0 MiB\n",
      "                                                                                \r"
     ]
    },
    {
     "name": "stdout",
     "output_type": "stream",
     "text": [
      "Model fit complete\n",
      "Successfuly ran preds = model.transform(test_df)\n"
     ]
    },
    {
     "name": "stderr",
     "output_type": "stream",
     "text": [
      "25/05/05 21:57:20 WARN DAGScheduler: Broadcasting large task binary with size 9.0 MiB\n",
      "                                                                                \r"
     ]
    },
    {
     "name": "stdout",
     "output_type": "stream",
     "text": [
      "Successfully pulled sklearn metrics \n",
      "\n",
      "--- Evaluation Results ---\n",
      "Fit Time (s): 174.59\n",
      "Accuracy: 0.9981 | Precision: 0.0526 | Recall: 0.0108\n",
      "F1: 0.0179 | ROC-AUC: 0.5052 | PR-AUC: 0.0022\n",
      "Partitions: 16\n",
      "================================\n",
      "Fitting model: RandomForest on 25% sample\n",
      "================================\n"
     ]
    },
    {
     "name": "stderr",
     "output_type": "stream",
     "text": [
      "                                                                                \r"
     ]
    },
    {
     "name": "stdout",
     "output_type": "stream",
     "text": [
      "Model fit complete\n",
      "Successfuly ran preds = model.transform(test_df)\n"
     ]
    },
    {
     "name": "stderr",
     "output_type": "stream",
     "text": [
      "                                                                                \r"
     ]
    },
    {
     "name": "stdout",
     "output_type": "stream",
     "text": [
      "Successfully pulled sklearn metrics \n",
      "\n",
      "--- Evaluation Results ---\n",
      "Fit Time (s): 28.39\n",
      "Accuracy: 0.9991 | Precision: 0.7973 | Recall: 0.6344\n",
      "F1: 0.7066 | ROC-AUC: 0.9575 | PR-AUC: 0.6032\n",
      "Partitions: 16\n",
      "Start time for sampling: 2025-05-05 21:57:59.755821+00:00\n",
      "Using full train_df (100% sample)\n",
      "Repartition complete\n",
      "Skipping cache for full dataset\n",
      "================================\n",
      "Fitting model: LogisticRegression on 100% sample\n",
      "================================\n"
     ]
    },
    {
     "name": "stderr",
     "output_type": "stream",
     "text": [
      "[Stage 365:===================================================>   (17 + 1) / 18]\r"
     ]
    },
    {
     "name": "stdout",
     "output_type": "stream",
     "text": [
      "Model fit complete\n",
      "Successfuly ran preds = model.transform(test_df)\n"
     ]
    },
    {
     "name": "stderr",
     "output_type": "stream",
     "text": [
      "                                                                                \r"
     ]
    },
    {
     "name": "stdout",
     "output_type": "stream",
     "text": [
      "Successfully pulled sklearn metrics \n"
     ]
    },
    {
     "name": "stderr",
     "output_type": "stream",
     "text": [
      "[Stage 367:===================================================>   (17 + 1) / 18]\r"
     ]
    },
    {
     "name": "stdout",
     "output_type": "stream",
     "text": [
      "\n",
      "--- Evaluation Results ---\n",
      "Fit Time (s): 186.31\n",
      "Accuracy: 0.9992 | Precision: 0.8571 | Recall: 0.5806\n",
      "F1: 0.6923 | ROC-AUC: 0.9766 | PR-AUC: 0.7095\n",
      "Partitions: 16\n",
      "================================\n",
      "Fitting model: LightGBM on 100% sample\n",
      "================================\n"
     ]
    },
    {
     "name": "stderr",
     "output_type": "stream",
     "text": [
      "                                                                                \r"
     ]
    },
    {
     "name": "stdout",
     "output_type": "stream",
     "text": [
      "Model fit complete\n",
      "Successfuly ran preds = model.transform(test_df)\n"
     ]
    },
    {
     "name": "stderr",
     "output_type": "stream",
     "text": [
      "                                                                                \r"
     ]
    },
    {
     "name": "stdout",
     "output_type": "stream",
     "text": [
      "Successfully pulled sklearn metrics \n",
      "\n",
      "--- Evaluation Results ---\n",
      "Fit Time (s): 217.0\n",
      "Accuracy: 0.9989 | Precision: 0.6325 | Recall: 0.7957\n",
      "F1: 0.7048 | ROC-AUC: 0.9663 | PR-AUC: 0.6942\n",
      "Partitions: 16\n",
      "================================\n",
      "Fitting model: IsolationForest on 100% sample\n",
      "================================\n"
     ]
    },
    {
     "name": "stderr",
     "output_type": "stream",
     "text": [
      "25/05/05 22:11:29 WARN BlockManagerMasterEndpoint: No more replicas available for rdd_652_5 !\n",
      "25/05/05 22:11:29 WARN BlockManagerMasterEndpoint: No more replicas available for rdd_652_13 !\n",
      "25/05/05 22:11:29 WARN BlockManagerMasterEndpoint: No more replicas available for rdd_357_0 !\n",
      "25/05/05 22:11:29 WARN BlockManagerMasterEndpoint: No more replicas available for rdd_652_9 !\n",
      "25/05/05 22:11:29 WARN BlockManagerMasterEndpoint: No more replicas available for rdd_357_12 !\n",
      "25/05/05 22:11:29 WARN BlockManagerMasterEndpoint: No more replicas available for rdd_652_1 !\n",
      "25/05/05 22:11:29 WARN BlockManagerMasterEndpoint: No more replicas available for rdd_357_5 !\n",
      "25/05/05 22:11:29 WARN BlockManagerMasterEndpoint: No more replicas available for rdd_652_8 !\n",
      "25/05/05 22:11:29 WARN BlockManagerMasterEndpoint: No more replicas available for rdd_652_0 !\n",
      "25/05/05 22:11:29 WARN BlockManagerMasterEndpoint: No more replicas available for rdd_357_15 !\n",
      "25/05/05 22:11:29 WARN BlockManagerMasterEndpoint: No more replicas available for rdd_357_9 !\n",
      "25/05/05 22:11:30 WARN YarnAllocator: Container from a bad node: container_1746481325738_0001_01_000005 on host: st446-final-proj-w-1.europe-west2-c.c.st446-wt2025-id.internal. Exit status: 143. Diagnostics: [2025-05-05 22:11:29.910]Container killed on request. Exit code is 143\n",
      "[2025-05-05 22:11:29.913]Container exited with a non-zero exit code 143. \n",
      "[2025-05-05 22:11:29.913]Killed by external signal\n",
      ".\n",
      "25/05/05 22:11:30 ERROR YarnScheduler: Lost executor 4 on st446-final-proj-w-1.europe-west2-c.c.st446-wt2025-id.internal: Container from a bad node: container_1746481325738_0001_01_000005 on host: st446-final-proj-w-1.europe-west2-c.c.st446-wt2025-id.internal. Exit status: 143. Diagnostics: [2025-05-05 22:11:29.910]Container killed on request. Exit code is 143\n",
      "[2025-05-05 22:11:29.913]Container exited with a non-zero exit code 143. \n",
      "[2025-05-05 22:11:29.913]Killed by external signal\n",
      ".\n",
      "25/05/05 22:11:30 WARN TaskSetManager: Lost task 17.0 in stage 388.0 (TID 2722) (st446-final-proj-w-1.europe-west2-c.c.st446-wt2025-id.internal executor 4): ExecutorLostFailure (executor 4 exited caused by one of the running tasks) Reason: Container from a bad node: container_1746481325738_0001_01_000005 on host: st446-final-proj-w-1.europe-west2-c.c.st446-wt2025-id.internal. Exit status: 143. Diagnostics: [2025-05-05 22:11:29.910]Container killed on request. Exit code is 143\n",
      "[2025-05-05 22:11:29.913]Container exited with a non-zero exit code 143. \n",
      "[2025-05-05 22:11:29.913]Killed by external signal\n",
      ".\n",
      "25/05/05 22:11:30 WARN YarnSchedulerBackend$YarnSchedulerEndpoint: Requesting driver to remove executor 4 for reason Container from a bad node: container_1746481325738_0001_01_000005 on host: st446-final-proj-w-1.europe-west2-c.c.st446-wt2025-id.internal. Exit status: 143. Diagnostics: [2025-05-05 22:11:29.910]Container killed on request. Exit code is 143\n",
      "[2025-05-05 22:11:29.913]Container exited with a non-zero exit code 143. \n",
      "[2025-05-05 22:11:29.913]Killed by external signal\n",
      ".\n",
      "25/05/05 22:12:44 WARN BlockManagerMasterEndpoint: No more replicas available for rdd_357_2 !\n",
      "25/05/05 22:12:44 WARN BlockManagerMasterEndpoint: No more replicas available for rdd_652_3 !\n",
      "25/05/05 22:12:44 WARN BlockManagerMasterEndpoint: No more replicas available for rdd_652_15 !\n",
      "25/05/05 22:12:44 WARN BlockManagerMasterEndpoint: No more replicas available for rdd_357_11 !\n",
      "25/05/05 22:12:44 WARN BlockManagerMasterEndpoint: No more replicas available for rdd_652_10 !\n",
      "25/05/05 22:12:44 WARN BlockManagerMasterEndpoint: No more replicas available for rdd_357_8 !\n",
      "25/05/05 22:12:44 WARN BlockManagerMasterEndpoint: No more replicas available for rdd_652_7 !\n",
      "25/05/05 22:12:44 WARN BlockManagerMasterEndpoint: No more replicas available for rdd_652_12 !\n",
      "25/05/05 22:12:45 WARN YarnAllocator: Container from a bad node: container_1746481325738_0001_01_000004 on host: st446-final-proj-w-0.europe-west2-c.c.st446-wt2025-id.internal. Exit status: 143. Diagnostics: [2025-05-05 22:12:45.101]Container killed on request. Exit code is 143\n",
      "[2025-05-05 22:12:45.101]Container exited with a non-zero exit code 143. \n",
      "[2025-05-05 22:12:45.101]Killed by external signal\n",
      ".\n",
      "25/05/05 22:12:45 WARN YarnSchedulerBackend$YarnSchedulerEndpoint: Requesting driver to remove executor 3 for reason Container from a bad node: container_1746481325738_0001_01_000004 on host: st446-final-proj-w-0.europe-west2-c.c.st446-wt2025-id.internal. Exit status: 143. Diagnostics: [2025-05-05 22:12:45.101]Container killed on request. Exit code is 143\n",
      "[2025-05-05 22:12:45.101]Container exited with a non-zero exit code 143. \n",
      "[2025-05-05 22:12:45.101]Killed by external signal\n",
      ".\n",
      "25/05/05 22:12:45 ERROR YarnScheduler: Lost executor 3 on st446-final-proj-w-0.europe-west2-c.c.st446-wt2025-id.internal: Container from a bad node: container_1746481325738_0001_01_000004 on host: st446-final-proj-w-0.europe-west2-c.c.st446-wt2025-id.internal. Exit status: 143. Diagnostics: [2025-05-05 22:12:45.101]Container killed on request. Exit code is 143\n",
      "[2025-05-05 22:12:45.101]Container exited with a non-zero exit code 143. \n",
      "[2025-05-05 22:12:45.101]Killed by external signal\n",
      ".\n",
      "25/05/05 22:12:45 WARN TaskSetManager: Lost task 23.0 in stage 388.0 (TID 2729) (st446-final-proj-w-0.europe-west2-c.c.st446-wt2025-id.internal executor 3): ExecutorLostFailure (executor 3 exited caused by one of the running tasks) Reason: Container from a bad node: container_1746481325738_0001_01_000004 on host: st446-final-proj-w-0.europe-west2-c.c.st446-wt2025-id.internal. Exit status: 143. Diagnostics: [2025-05-05 22:12:45.101]Container killed on request. Exit code is 143\n",
      "[2025-05-05 22:12:45.101]Container exited with a non-zero exit code 143. \n",
      "[2025-05-05 22:12:45.101]Killed by external signal\n",
      ".\n",
      "25/05/05 22:18:37 WARN DAGScheduler: Broadcasting large task binary with size 18.1 MiB\n",
      "25/05/05 22:18:45 WARN BlockManagerMasterEndpoint: No more replicas available for rdd_967_12 !\n",
      "25/05/05 22:18:45 WARN BlockManagerMasterEndpoint: No more replicas available for rdd_652_6 !\n",
      "25/05/05 22:18:45 WARN BlockManagerMasterEndpoint: No more replicas available for rdd_967_8 !\n",
      "25/05/05 22:18:45 WARN BlockManagerMasterEndpoint: No more replicas available for rdd_967_2 !\n",
      "25/05/05 22:18:45 WARN BlockManagerMasterEndpoint: No more replicas available for rdd_967_4 !\n",
      "25/05/05 22:18:46 WARN BlockManagerMasterEndpoint: No more replicas available for rdd_652_11 !\n",
      "25/05/05 22:18:46 WARN BlockManagerMasterEndpoint: No more replicas available for rdd_652_14 !\n",
      "25/05/05 22:18:46 WARN BlockManagerMasterEndpoint: No more replicas available for rdd_967_9 !\n",
      "25/05/05 22:18:46 WARN BlockManagerMasterEndpoint: No more replicas available for rdd_652_2 !\n",
      "25/05/05 22:18:46 WARN BlockManagerMasterEndpoint: No more replicas available for rdd_967_1 !\n",
      "25/05/05 22:18:46 WARN BlockManagerMasterEndpoint: No more replicas available for rdd_967_14 !\n",
      "25/05/05 22:18:46 WARN BlockManagerMasterEndpoint: No more replicas available for rdd_967_5 !\n",
      "25/05/05 22:18:46 WARN BlockManagerMasterEndpoint: No more replicas available for rdd_652_4 !\n",
      "25/05/05 22:18:46 WARN YarnAllocator: Container from a bad node: container_1746481325738_0001_01_000007 on host: st446-final-proj-w-0.europe-west2-c.c.st446-wt2025-id.internal. Exit status: 143. Diagnostics: [2025-05-05 22:18:46.140]Container killed on request. Exit code is 143\n",
      "[2025-05-05 22:18:46.141]Container exited with a non-zero exit code 143. \n",
      "[2025-05-05 22:18:46.141]Killed by external signal\n",
      ".\n",
      "25/05/05 22:18:46 WARN YarnSchedulerBackend$YarnSchedulerEndpoint: Requesting driver to remove executor 6 for reason Container from a bad node: container_1746481325738_0001_01_000007 on host: st446-final-proj-w-0.europe-west2-c.c.st446-wt2025-id.internal. Exit status: 143. Diagnostics: [2025-05-05 22:18:46.140]Container killed on request. Exit code is 143\n",
      "[2025-05-05 22:18:46.141]Container exited with a non-zero exit code 143. \n",
      "[2025-05-05 22:18:46.141]Killed by external signal\n",
      ".\n",
      "25/05/05 22:18:46 ERROR YarnScheduler: Lost executor 6 on st446-final-proj-w-0.europe-west2-c.c.st446-wt2025-id.internal: Container from a bad node: container_1746481325738_0001_01_000007 on host: st446-final-proj-w-0.europe-west2-c.c.st446-wt2025-id.internal. Exit status: 143. Diagnostics: [2025-05-05 22:18:46.140]Container killed on request. Exit code is 143\n",
      "[2025-05-05 22:18:46.141]Container exited with a non-zero exit code 143. \n",
      "[2025-05-05 22:18:46.141]Killed by external signal\n",
      ".\n",
      "25/05/05 22:18:46 WARN TaskSetManager: Lost task 12.0 in stage 393.0 (TID 2803) (st446-final-proj-w-0.europe-west2-c.c.st446-wt2025-id.internal executor 6): ExecutorLostFailure (executor 6 exited caused by one of the running tasks) Reason: Container from a bad node: container_1746481325738_0001_01_000007 on host: st446-final-proj-w-0.europe-west2-c.c.st446-wt2025-id.internal. Exit status: 143. Diagnostics: [2025-05-05 22:18:46.140]Container killed on request. Exit code is 143\n",
      "[2025-05-05 22:18:46.141]Container exited with a non-zero exit code 143. \n",
      "[2025-05-05 22:18:46.141]Killed by external signal\n",
      ".\n"
     ]
    },
    {
     "name": "stderr",
     "output_type": "stream",
     "text": [
      "25/05/05 22:18:46 WARN YarnAllocator: Container from a bad node: container_1746481325738_0001_01_000006 on host: st446-final-proj-w-1.europe-west2-c.c.st446-wt2025-id.internal. Exit status: 143. Diagnostics: [2025-05-05 22:18:46.626]Container killed on request. Exit code is 143\n",
      "[2025-05-05 22:18:46.626]Container exited with a non-zero exit code 143. \n",
      "[2025-05-05 22:18:46.627]Killed by external signal\n",
      ".\n",
      "25/05/05 22:18:46 WARN YarnSchedulerBackend$YarnSchedulerEndpoint: Requesting driver to remove executor 5 for reason Container from a bad node: container_1746481325738_0001_01_000006 on host: st446-final-proj-w-1.europe-west2-c.c.st446-wt2025-id.internal. Exit status: 143. Diagnostics: [2025-05-05 22:18:46.626]Container killed on request. Exit code is 143\n",
      "[2025-05-05 22:18:46.626]Container exited with a non-zero exit code 143. \n",
      "[2025-05-05 22:18:46.627]Killed by external signal\n",
      ".\n",
      "25/05/05 22:18:46 ERROR YarnScheduler: Lost executor 5 on st446-final-proj-w-1.europe-west2-c.c.st446-wt2025-id.internal: Container from a bad node: container_1746481325738_0001_01_000006 on host: st446-final-proj-w-1.europe-west2-c.c.st446-wt2025-id.internal. Exit status: 143. Diagnostics: [2025-05-05 22:18:46.626]Container killed on request. Exit code is 143\n",
      "[2025-05-05 22:18:46.626]Container exited with a non-zero exit code 143. \n",
      "[2025-05-05 22:18:46.627]Killed by external signal\n",
      ".\n",
      "25/05/05 22:18:46 WARN TaskSetManager: Lost task 14.0 in stage 393.0 (TID 2804) (st446-final-proj-w-1.europe-west2-c.c.st446-wt2025-id.internal executor 5): ExecutorLostFailure (executor 5 exited caused by one of the running tasks) Reason: Container from a bad node: container_1746481325738_0001_01_000006 on host: st446-final-proj-w-1.europe-west2-c.c.st446-wt2025-id.internal. Exit status: 143. Diagnostics: [2025-05-05 22:18:46.626]Container killed on request. Exit code is 143\n",
      "[2025-05-05 22:18:46.626]Container exited with a non-zero exit code 143. \n",
      "[2025-05-05 22:18:46.627]Killed by external signal\n",
      ".\n",
      "25/05/05 22:19:02 WARN DAGScheduler: Broadcasting large task binary with size 18.1 MiB\n",
      "ERROR:root:Exception while sending command.==========>              (3 + 1) / 4]\n",
      "Traceback (most recent call last):\n",
      "  File \"/usr/lib/spark/python/lib/py4j-0.10.9.7-src.zip/py4j/clientserver.py\", line 516, in send_command\n",
      "    raise Py4JNetworkError(\"Answer from Java side is empty\")\n",
      "py4j.protocol.Py4JNetworkError: Answer from Java side is empty\n",
      "\n",
      "During handling of the above exception, another exception occurred:\n",
      "\n",
      "Traceback (most recent call last):\n",
      "  File \"/usr/lib/spark/python/lib/py4j-0.10.9.7-src.zip/py4j/java_gateway.py\", line 1038, in send_command\n",
      "    response = connection.send_command(command)\n",
      "               ^^^^^^^^^^^^^^^^^^^^^^^^^^^^^^^^\n",
      "  File \"/usr/lib/spark/python/lib/py4j-0.10.9.7-src.zip/py4j/clientserver.py\", line 539, in send_command\n",
      "    raise Py4JNetworkError(\n",
      "py4j.protocol.Py4JNetworkError: Error while sending or receiving\n",
      "ERROR:root:Exception while sending command.\n",
      "Traceback (most recent call last):\n",
      "  File \"/usr/lib/spark/python/lib/py4j-0.10.9.7-src.zip/py4j/clientserver.py\", line 516, in send_command\n",
      "    raise Py4JNetworkError(\"Answer from Java side is empty\")\n",
      "py4j.protocol.Py4JNetworkError: Answer from Java side is empty\n",
      "\n",
      "During handling of the above exception, another exception occurred:\n",
      "\n",
      "Traceback (most recent call last):\n",
      "  File \"/usr/lib/spark/python/lib/py4j-0.10.9.7-src.zip/py4j/java_gateway.py\", line 1038, in send_command\n",
      "    response = connection.send_command(command)\n",
      "               ^^^^^^^^^^^^^^^^^^^^^^^^^^^^^^^^\n",
      "  File \"/usr/lib/spark/python/lib/py4j-0.10.9.7-src.zip/py4j/clientserver.py\", line 539, in send_command\n",
      "    raise Py4JNetworkError(\n",
      "py4j.protocol.Py4JNetworkError: Error while sending or receiving\n"
     ]
    },
    {
     "ename": "Py4JError",
     "evalue": "An error occurred while calling o329.fit",
     "output_type": "error",
     "traceback": [
      "\u001b[0;31m---------------------------------------------------------------------------\u001b[0m",
      "\u001b[0;31mPy4JError\u001b[0m                                 Traceback (most recent call last)",
      "Cell \u001b[0;32mIn[9], line 46\u001b[0m\n\u001b[1;32m     44\u001b[0m \u001b[38;5;66;03m# 1) Fit\u001b[39;00m\n\u001b[1;32m     45\u001b[0m t0    \u001b[38;5;241m=\u001b[39m time\u001b[38;5;241m.\u001b[39mtime()\n\u001b[0;32m---> 46\u001b[0m model \u001b[38;5;241m=\u001b[39m \u001b[43mpipeline\u001b[49m\u001b[38;5;241;43m.\u001b[39;49m\u001b[43mfit\u001b[49m\u001b[43m(\u001b[49m\u001b[43msample_df\u001b[49m\u001b[43m)\u001b[49m\n\u001b[1;32m     47\u001b[0m fit_tm \u001b[38;5;241m=\u001b[39m time\u001b[38;5;241m.\u001b[39mtime() \u001b[38;5;241m-\u001b[39m t0\n\u001b[1;32m     48\u001b[0m \u001b[38;5;28mprint\u001b[39m(\u001b[38;5;124m\"\u001b[39m\u001b[38;5;124mModel fit complete\u001b[39m\u001b[38;5;124m\"\u001b[39m)\n",
      "File \u001b[0;32m/usr/lib/spark/python/pyspark/ml/base.py:205\u001b[0m, in \u001b[0;36mEstimator.fit\u001b[0;34m(self, dataset, params)\u001b[0m\n\u001b[1;32m    203\u001b[0m         \u001b[38;5;28;01mreturn\u001b[39;00m \u001b[38;5;28mself\u001b[39m\u001b[38;5;241m.\u001b[39mcopy(params)\u001b[38;5;241m.\u001b[39m_fit(dataset)\n\u001b[1;32m    204\u001b[0m     \u001b[38;5;28;01melse\u001b[39;00m:\n\u001b[0;32m--> 205\u001b[0m         \u001b[38;5;28;01mreturn\u001b[39;00m \u001b[38;5;28;43mself\u001b[39;49m\u001b[38;5;241;43m.\u001b[39;49m\u001b[43m_fit\u001b[49m\u001b[43m(\u001b[49m\u001b[43mdataset\u001b[49m\u001b[43m)\u001b[49m\n\u001b[1;32m    206\u001b[0m \u001b[38;5;28;01melse\u001b[39;00m:\n\u001b[1;32m    207\u001b[0m     \u001b[38;5;28;01mraise\u001b[39;00m \u001b[38;5;167;01mTypeError\u001b[39;00m(\n\u001b[1;32m    208\u001b[0m         \u001b[38;5;124m\"\u001b[39m\u001b[38;5;124mParams must be either a param map or a list/tuple of param maps, \u001b[39m\u001b[38;5;124m\"\u001b[39m\n\u001b[1;32m    209\u001b[0m         \u001b[38;5;124m\"\u001b[39m\u001b[38;5;124mbut got \u001b[39m\u001b[38;5;132;01m%s\u001b[39;00m\u001b[38;5;124m.\u001b[39m\u001b[38;5;124m\"\u001b[39m \u001b[38;5;241m%\u001b[39m \u001b[38;5;28mtype\u001b[39m(params)\n\u001b[1;32m    210\u001b[0m     )\n",
      "File \u001b[0;32m/usr/lib/spark/python/pyspark/ml/pipeline.py:134\u001b[0m, in \u001b[0;36mPipeline._fit\u001b[0;34m(self, dataset)\u001b[0m\n\u001b[1;32m    132\u001b[0m     dataset \u001b[38;5;241m=\u001b[39m stage\u001b[38;5;241m.\u001b[39mtransform(dataset)\n\u001b[1;32m    133\u001b[0m \u001b[38;5;28;01melse\u001b[39;00m:  \u001b[38;5;66;03m# must be an Estimator\u001b[39;00m\n\u001b[0;32m--> 134\u001b[0m     model \u001b[38;5;241m=\u001b[39m \u001b[43mstage\u001b[49m\u001b[38;5;241;43m.\u001b[39;49m\u001b[43mfit\u001b[49m\u001b[43m(\u001b[49m\u001b[43mdataset\u001b[49m\u001b[43m)\u001b[49m\n\u001b[1;32m    135\u001b[0m     transformers\u001b[38;5;241m.\u001b[39mappend(model)\n\u001b[1;32m    136\u001b[0m     \u001b[38;5;28;01mif\u001b[39;00m i \u001b[38;5;241m<\u001b[39m indexOfLastEstimator:\n",
      "File \u001b[0;32m/usr/lib/spark/python/pyspark/ml/base.py:205\u001b[0m, in \u001b[0;36mEstimator.fit\u001b[0;34m(self, dataset, params)\u001b[0m\n\u001b[1;32m    203\u001b[0m         \u001b[38;5;28;01mreturn\u001b[39;00m \u001b[38;5;28mself\u001b[39m\u001b[38;5;241m.\u001b[39mcopy(params)\u001b[38;5;241m.\u001b[39m_fit(dataset)\n\u001b[1;32m    204\u001b[0m     \u001b[38;5;28;01melse\u001b[39;00m:\n\u001b[0;32m--> 205\u001b[0m         \u001b[38;5;28;01mreturn\u001b[39;00m \u001b[38;5;28;43mself\u001b[39;49m\u001b[38;5;241;43m.\u001b[39;49m\u001b[43m_fit\u001b[49m\u001b[43m(\u001b[49m\u001b[43mdataset\u001b[49m\u001b[43m)\u001b[49m\n\u001b[1;32m    206\u001b[0m \u001b[38;5;28;01melse\u001b[39;00m:\n\u001b[1;32m    207\u001b[0m     \u001b[38;5;28;01mraise\u001b[39;00m \u001b[38;5;167;01mTypeError\u001b[39;00m(\n\u001b[1;32m    208\u001b[0m         \u001b[38;5;124m\"\u001b[39m\u001b[38;5;124mParams must be either a param map or a list/tuple of param maps, \u001b[39m\u001b[38;5;124m\"\u001b[39m\n\u001b[1;32m    209\u001b[0m         \u001b[38;5;124m\"\u001b[39m\u001b[38;5;124mbut got \u001b[39m\u001b[38;5;132;01m%s\u001b[39;00m\u001b[38;5;124m.\u001b[39m\u001b[38;5;124m\"\u001b[39m \u001b[38;5;241m%\u001b[39m \u001b[38;5;28mtype\u001b[39m(params)\n\u001b[1;32m    210\u001b[0m     )\n",
      "File \u001b[0;32m/hadoop/spark/tmp/spark-dad8df94-e20d-455e-9518-3b9b1dd8cfb4/userFiles-d67439ee-a166-4c32-8129-95b08f0deef3/com.microsoft.azure_synapseml-core_2.12-0.11.1.jar/synapse/ml/isolationforest/IsolationForest.py:309\u001b[0m, in \u001b[0;36mIsolationForest._fit\u001b[0;34m(self, dataset)\u001b[0m\n\u001b[1;32m    308\u001b[0m \u001b[38;5;28;01mdef\u001b[39;00m\u001b[38;5;250m \u001b[39m\u001b[38;5;21m_fit\u001b[39m(\u001b[38;5;28mself\u001b[39m, dataset):\n\u001b[0;32m--> 309\u001b[0m     java_model \u001b[38;5;241m=\u001b[39m \u001b[38;5;28;43mself\u001b[39;49m\u001b[38;5;241;43m.\u001b[39;49m\u001b[43m_fit_java\u001b[49m\u001b[43m(\u001b[49m\u001b[43mdataset\u001b[49m\u001b[43m)\u001b[49m\n\u001b[1;32m    310\u001b[0m     \u001b[38;5;28;01mreturn\u001b[39;00m \u001b[38;5;28mself\u001b[39m\u001b[38;5;241m.\u001b[39m_create_model(java_model)\n",
      "File \u001b[0;32m/usr/lib/spark/python/pyspark/ml/wrapper.py:378\u001b[0m, in \u001b[0;36mJavaEstimator._fit_java\u001b[0;34m(self, dataset)\u001b[0m\n\u001b[1;32m    375\u001b[0m \u001b[38;5;28;01massert\u001b[39;00m \u001b[38;5;28mself\u001b[39m\u001b[38;5;241m.\u001b[39m_java_obj \u001b[38;5;129;01mis\u001b[39;00m \u001b[38;5;129;01mnot\u001b[39;00m \u001b[38;5;28;01mNone\u001b[39;00m\n\u001b[1;32m    377\u001b[0m \u001b[38;5;28mself\u001b[39m\u001b[38;5;241m.\u001b[39m_transfer_params_to_java()\n\u001b[0;32m--> 378\u001b[0m \u001b[38;5;28;01mreturn\u001b[39;00m \u001b[38;5;28;43mself\u001b[39;49m\u001b[38;5;241;43m.\u001b[39;49m\u001b[43m_java_obj\u001b[49m\u001b[38;5;241;43m.\u001b[39;49m\u001b[43mfit\u001b[49m\u001b[43m(\u001b[49m\u001b[43mdataset\u001b[49m\u001b[38;5;241;43m.\u001b[39;49m\u001b[43m_jdf\u001b[49m\u001b[43m)\u001b[49m\n",
      "File \u001b[0;32m/usr/lib/spark/python/lib/py4j-0.10.9.7-src.zip/py4j/java_gateway.py:1322\u001b[0m, in \u001b[0;36mJavaMember.__call__\u001b[0;34m(self, *args)\u001b[0m\n\u001b[1;32m   1316\u001b[0m command \u001b[38;5;241m=\u001b[39m proto\u001b[38;5;241m.\u001b[39mCALL_COMMAND_NAME \u001b[38;5;241m+\u001b[39m\\\n\u001b[1;32m   1317\u001b[0m     \u001b[38;5;28mself\u001b[39m\u001b[38;5;241m.\u001b[39mcommand_header \u001b[38;5;241m+\u001b[39m\\\n\u001b[1;32m   1318\u001b[0m     args_command \u001b[38;5;241m+\u001b[39m\\\n\u001b[1;32m   1319\u001b[0m     proto\u001b[38;5;241m.\u001b[39mEND_COMMAND_PART\n\u001b[1;32m   1321\u001b[0m answer \u001b[38;5;241m=\u001b[39m \u001b[38;5;28mself\u001b[39m\u001b[38;5;241m.\u001b[39mgateway_client\u001b[38;5;241m.\u001b[39msend_command(command)\n\u001b[0;32m-> 1322\u001b[0m return_value \u001b[38;5;241m=\u001b[39m \u001b[43mget_return_value\u001b[49m\u001b[43m(\u001b[49m\n\u001b[1;32m   1323\u001b[0m \u001b[43m    \u001b[49m\u001b[43manswer\u001b[49m\u001b[43m,\u001b[49m\u001b[43m \u001b[49m\u001b[38;5;28;43mself\u001b[39;49m\u001b[38;5;241;43m.\u001b[39;49m\u001b[43mgateway_client\u001b[49m\u001b[43m,\u001b[49m\u001b[43m \u001b[49m\u001b[38;5;28;43mself\u001b[39;49m\u001b[38;5;241;43m.\u001b[39;49m\u001b[43mtarget_id\u001b[49m\u001b[43m,\u001b[49m\u001b[43m \u001b[49m\u001b[38;5;28;43mself\u001b[39;49m\u001b[38;5;241;43m.\u001b[39;49m\u001b[43mname\u001b[49m\u001b[43m)\u001b[49m\n\u001b[1;32m   1325\u001b[0m \u001b[38;5;28;01mfor\u001b[39;00m temp_arg \u001b[38;5;129;01min\u001b[39;00m temp_args:\n\u001b[1;32m   1326\u001b[0m     \u001b[38;5;28;01mif\u001b[39;00m \u001b[38;5;28mhasattr\u001b[39m(temp_arg, \u001b[38;5;124m\"\u001b[39m\u001b[38;5;124m_detach\u001b[39m\u001b[38;5;124m\"\u001b[39m):\n",
      "File \u001b[0;32m/usr/lib/spark/python/pyspark/errors/exceptions/captured.py:179\u001b[0m, in \u001b[0;36mcapture_sql_exception.<locals>.deco\u001b[0;34m(*a, **kw)\u001b[0m\n\u001b[1;32m    177\u001b[0m \u001b[38;5;28;01mdef\u001b[39;00m\u001b[38;5;250m \u001b[39m\u001b[38;5;21mdeco\u001b[39m(\u001b[38;5;241m*\u001b[39ma: Any, \u001b[38;5;241m*\u001b[39m\u001b[38;5;241m*\u001b[39mkw: Any) \u001b[38;5;241m-\u001b[39m\u001b[38;5;241m>\u001b[39m Any:\n\u001b[1;32m    178\u001b[0m     \u001b[38;5;28;01mtry\u001b[39;00m:\n\u001b[0;32m--> 179\u001b[0m         \u001b[38;5;28;01mreturn\u001b[39;00m \u001b[43mf\u001b[49m\u001b[43m(\u001b[49m\u001b[38;5;241;43m*\u001b[39;49m\u001b[43ma\u001b[49m\u001b[43m,\u001b[49m\u001b[43m \u001b[49m\u001b[38;5;241;43m*\u001b[39;49m\u001b[38;5;241;43m*\u001b[39;49m\u001b[43mkw\u001b[49m\u001b[43m)\u001b[49m\n\u001b[1;32m    180\u001b[0m     \u001b[38;5;28;01mexcept\u001b[39;00m Py4JJavaError \u001b[38;5;28;01mas\u001b[39;00m e:\n\u001b[1;32m    181\u001b[0m         converted \u001b[38;5;241m=\u001b[39m convert_exception(e\u001b[38;5;241m.\u001b[39mjava_exception)\n",
      "File \u001b[0;32m/usr/lib/spark/python/lib/py4j-0.10.9.7-src.zip/py4j/protocol.py:334\u001b[0m, in \u001b[0;36mget_return_value\u001b[0;34m(answer, gateway_client, target_id, name)\u001b[0m\n\u001b[1;32m    330\u001b[0m             \u001b[38;5;28;01mraise\u001b[39;00m Py4JError(\n\u001b[1;32m    331\u001b[0m                 \u001b[38;5;124m\"\u001b[39m\u001b[38;5;124mAn error occurred while calling \u001b[39m\u001b[38;5;132;01m{0}\u001b[39;00m\u001b[38;5;132;01m{1}\u001b[39;00m\u001b[38;5;132;01m{2}\u001b[39;00m\u001b[38;5;124m. Trace:\u001b[39m\u001b[38;5;130;01m\\n\u001b[39;00m\u001b[38;5;132;01m{3}\u001b[39;00m\u001b[38;5;130;01m\\n\u001b[39;00m\u001b[38;5;124m\"\u001b[39m\u001b[38;5;241m.\u001b[39m\n\u001b[1;32m    332\u001b[0m                 \u001b[38;5;28mformat\u001b[39m(target_id, \u001b[38;5;124m\"\u001b[39m\u001b[38;5;124m.\u001b[39m\u001b[38;5;124m\"\u001b[39m, name, value))\n\u001b[1;32m    333\u001b[0m     \u001b[38;5;28;01melse\u001b[39;00m:\n\u001b[0;32m--> 334\u001b[0m         \u001b[38;5;28;01mraise\u001b[39;00m Py4JError(\n\u001b[1;32m    335\u001b[0m             \u001b[38;5;124m\"\u001b[39m\u001b[38;5;124mAn error occurred while calling \u001b[39m\u001b[38;5;132;01m{0}\u001b[39;00m\u001b[38;5;132;01m{1}\u001b[39;00m\u001b[38;5;132;01m{2}\u001b[39;00m\u001b[38;5;124m\"\u001b[39m\u001b[38;5;241m.\u001b[39m\n\u001b[1;32m    336\u001b[0m             \u001b[38;5;28mformat\u001b[39m(target_id, \u001b[38;5;124m\"\u001b[39m\u001b[38;5;124m.\u001b[39m\u001b[38;5;124m\"\u001b[39m, name))\n\u001b[1;32m    337\u001b[0m \u001b[38;5;28;01melse\u001b[39;00m:\n\u001b[1;32m    338\u001b[0m     \u001b[38;5;28mtype\u001b[39m \u001b[38;5;241m=\u001b[39m answer[\u001b[38;5;241m1\u001b[39m]\n",
      "\u001b[0;31mPy4JError\u001b[0m: An error occurred while calling o329.fit"
     ]
    }
   ],
   "source": [
    "# Define the sample sizes we want to test (5%, 25%, 100%)\n",
    "sample = [0.05, 0.25, 1.0]\n",
    "num_workers = 2\n",
    "#num_workers = 3 # uncomment when running 3 nodes \n",
    "\n",
    "# decide how many Spark partitions we want per worker\n",
    "partitions_per_frac = 16\n",
    "\n",
    "for frac in sample:\n",
    "    # mark the start of the sampling + fit block\n",
    "    start = datetime.now(timezone.utc)\n",
    "    print(\"Start time for sampling:\", start)\n",
    "    \n",
    "    # if 100% sample, use the full train_df dataframe\n",
    "    # else, take a stratified sample\n",
    "    if frac == 1.0:\n",
    "            # use the full DataFrame directly\n",
    "            sample_df = train_df\n",
    "            print(\"Using full train_df (100% sample)\")\n",
    "    else:\n",
    "            # stratified sample\n",
    "            frac_map  = {0: frac, 1: frac}\n",
    "            sample_df = train_df.stat.sampleBy(\"label\", fractions=frac_map, seed=42)\n",
    "            print(f\"Created sample df on {int(frac*100)}% sample\")\n",
    "\n",
    "    # repartition for parallelism \n",
    "    sample_df = sample_df.repartition(partitions_per_frac)\n",
    "    print(\"Repartition complete\")\n",
    "    \n",
    "    # cache only if it's a new DataFrame (i.e. not the original train_df)\n",
    "    if frac < 1.0:\n",
    "        sample_df.cache().count()\n",
    "        print(\"Cache complete\")\n",
    "    else:\n",
    "        print(\"Skipping cache for full dataset\")\n",
    "            \n",
    "    # 5) do the model fits & evals on sample_df\n",
    "    for name, pipeline in pipelines.items():\n",
    "        \n",
    "        print(\"================================\")\n",
    "        print(f\"Fitting model: {name} on {int(frac*100)}% sample\")\n",
    "        print(\"================================\")\n",
    "\n",
    "        # 1) Fit\n",
    "        t0    = time.time()\n",
    "        model = pipeline.fit(sample_df)\n",
    "        fit_tm = time.time() - t0\n",
    "        print(\"Model fit complete\")\n",
    "\n",
    "        # 2) Inference\n",
    "        preds = model.transform(test_df)\n",
    "        print(\"Successfuly ran preds = model.transform(test_df)\")\n",
    "        \n",
    "        # 3) Decide which columns to pull for metrics\n",
    "        cols_to_collect = [\"label\", \"prediction\"]\n",
    "\n",
    "        # a) probability -> prob_score\n",
    "        if \"probability\" in preds.columns:\n",
    "            try:\n",
    "                preds = preds.withColumn(\"prob_array\", vector_to_array(\"probability\"))\n",
    "                preds = preds.withColumn(\"prob_score\", preds[\"prob_array\"][1])\n",
    "                cols_to_collect.append(\"prob_score\")\n",
    "            except Exception as e:\n",
    "                print(\"Warning: Could not extract prob_score:\", e)\n",
    "\n",
    "        # b) anomalyScore\n",
    "        if \"anomalyScore\" in preds.columns:\n",
    "            cols_to_collect.append(\"anomalyScore\")\n",
    "\n",
    "        # 4) Pull into Pandas\n",
    "        pdf   = preds.select(*cols_to_collect).toPandas()\n",
    "        y_true= pdf[\"label\"]\n",
    "        y_pred= pdf[\"prediction\"]\n",
    "\n",
    "        # 5) Choose a scoring column\n",
    "        if \"anomalyScore\" in pdf.columns:\n",
    "            y_score = -pdf[\"anomalyScore\"]\n",
    "        elif \"prob_score\" in pdf.columns:\n",
    "            y_score = pdf[\"prob_score\"]\n",
    "        else:\n",
    "            y_score = y_pred  # fallback\n",
    "\n",
    "        # 5) Compute sklearn metrics\n",
    "        accuracy  = accuracy_score(y_true, y_pred)\n",
    "        precision = precision_score(y_true, y_pred, zero_division=0)\n",
    "        recall    = recall_score(y_true, y_pred, zero_division=0)\n",
    "        f1        = f1_score(y_true, y_pred, zero_division=0)\n",
    "        try:\n",
    "            roc_auc = roc_auc_score(y_true, y_score)\n",
    "            pr_auc  = average_precision_score(y_true, y_score)\n",
    "        except ValueError:\n",
    "            roc_auc = pr_auc = float(\"nan\")\n",
    "        \n",
    "        print(\"Successfully pulled sklearn metrics \")\n",
    "\n",
    "        # 6) Record everything\n",
    "        _cell_times.append({\n",
    "            \"operation\":  f\"eval_{name}_{int(frac*100)}pct\",\n",
    "            \"start\":      start,\n",
    "            \"end\":        datetime.now(timezone.utc),\n",
    "            \"model\":      name,\n",
    "            \"fraction\":   frac,\n",
    "            \"fit_time_s\": round(fit_tm,   2),\n",
    "            \"accuracy\":   round(accuracy,  4),\n",
    "            \"precision\":  round(precision, 4),\n",
    "            \"recall\":     round(recall,    4),\n",
    "            \"f1_score\":   round(f1,        4),\n",
    "            \"roc_auc\":    round(roc_auc,   4),\n",
    "            \"pr_auc\":     round(pr_auc,    4),\n",
    "            \"partitions\": sample_df.rdd.getNumPartitions(),\n",
    "        })\n",
    "\n",
    "        print(\"\\n--- Evaluation Results ---\")\n",
    "        print(f\"Fit Time (s): {round(fit_tm, 2)}\")\n",
    "        print(f\"Accuracy: {round(accuracy, 4)} | Precision: {round(precision, 4)} | Recall: {round(recall, 4)}\")\n",
    "        print(f\"F1: {round(f1, 4)} | ROC-AUC: {round(roc_auc, 4)} | PR-AUC: {round(pr_auc, 4)}\")\n",
    "        print(f\"Partitions: {sample_df.rdd.getNumPartitions()}\")\n",
    "\n",
    "    # 6) unpersist & drop before the next iteration\n",
    "    sample_df.unpersist()\n",
    "    del sample_df"
   ]
  },
  {
   "cell_type": "markdown",
   "id": "fb4258ed",
   "metadata": {},
   "source": [
    "### Below, we paste the remaining results of the 100% sample on the Isolation Forest and Random Forest runs for 2 worker nodes. "
   ]
  },
  {
   "cell_type": "markdown",
   "id": "d3108aac",
   "metadata": {},
   "source": [
    "### Isolation Forest"
   ]
  },
  {
   "cell_type": "code",
   "execution_count": null,
   "id": "5ae09c0c",
   "metadata": {},
   "outputs": [
    {
     "name": "stdout",
     "output_type": "stream",
     "text": [
      "Start time for sampling: 2025-05-06 09:06:34.585009+00:00\n",
      "Using full train_df (100% sample)\n",
      "Repartition complete\n",
      "Skipping cache for full dataset\n",
      "================================\n",
      "Fitting model: IsolationForest on 100% sample\n",
      "================================\n"
     ]
    },
    {
     "name": "stderr",
     "output_type": "stream",
     "text": [
      "25/05/06 09:06:35 WARN SparkStringUtils: Truncated the string representation of a plan since it was too large. This behavior can be adjusted by setting 'spark.sql.debug.maxToStringFields'.\n",
      "25/05/06 09:18:46 WARN DAGScheduler: Broadcasting large task binary with size 19.2 MiB\n",
      "25/05/06 09:20:21 WARN DAGScheduler: Broadcasting large task binary with size 19.2 MiB\n",
      "25/05/06 09:20:32 WARN DAGScheduler: Broadcasting large task binary with size 19.2 MiB\n",
      "25/05/06 09:20:34 WARN BlockManagerMasterEndpoint: No more replicas available for rdd_118_1 !\n",
      "25/05/06 09:20:34 WARN BlockManagerMasterEndpoint: No more replicas available for rdd_118_9 !\n",
      "25/05/06 09:20:34 WARN BlockManagerMasterEndpoint: No more replicas available for rdd_118_13 !\n",
      "25/05/06 09:20:34 WARN BlockManagerMasterEndpoint: No more replicas available for rdd_118_5 !\n",
      "25/05/06 09:20:35 WARN YarnAllocator: Container from a bad node: container_1746522054009_0001_01_000003 on host: st446-final-proj-w-1.europe-west2-c.c.st446-wt2025-id.internal. Exit status: 143. Diagnostics: [2025-05-06 09:20:35.044]Container killed on request. Exit code is 143\n",
      "[2025-05-06 09:20:35.048]Container exited with a non-zero exit code 143. \n",
      "[2025-05-06 09:20:35.049]Killed by external signal\n",
      ".\n",
      "25/05/06 09:20:35 WARN YarnSchedulerBackend$YarnSchedulerEndpoint: Requesting driver to remove executor 3 for reason Container from a bad node: container_1746522054009_0001_01_000003 on host: st446-final-proj-w-1.europe-west2-c.c.st446-wt2025-id.internal. Exit status: 143. Diagnostics: [2025-05-06 09:20:35.044]Container killed on request. Exit code is 143\n",
      "[2025-05-06 09:20:35.048]Container exited with a non-zero exit code 143. \n",
      "[2025-05-06 09:20:35.049]Killed by external signal\n",
      ".\n",
      "25/05/06 09:20:35 ERROR YarnScheduler: Lost executor 3 on st446-final-proj-w-1.europe-west2-c.c.st446-wt2025-id.internal: Container from a bad node: container_1746522054009_0001_01_000003 on host: st446-final-proj-w-1.europe-west2-c.c.st446-wt2025-id.internal. Exit status: 143. Diagnostics: [2025-05-06 09:20:35.044]Container killed on request. Exit code is 143\n",
      "[2025-05-06 09:20:35.048]Container exited with a non-zero exit code 143. \n",
      "[2025-05-06 09:20:35.049]Killed by external signal\n",
      ".\n",
      "25/05/06 09:20:35 WARN TaskSetManager: Lost task 1.0 in stage 43.0 (TID 289) (st446-final-proj-w-1.europe-west2-c.c.st446-wt2025-id.internal executor 3): ExecutorLostFailure (executor 3 exited caused by one of the running tasks) Reason: Container from a bad node: container_1746522054009_0001_01_000003 on host: st446-final-proj-w-1.europe-west2-c.c.st446-wt2025-id.internal. Exit status: 143. Diagnostics: [2025-05-06 09:20:35.044]Container killed on request. Exit code is 143\n",
      "[2025-05-06 09:20:35.048]Container exited with a non-zero exit code 143. \n",
      "[2025-05-06 09:20:35.049]Killed by external signal\n",
      ".\n",
      "25/05/06 09:20:50 WARN DAGScheduler: Broadcasting large task binary with size 19.2 MiB\n",
      "25/05/06 09:20:52 WARN BlockManagerMasterEndpoint: No more replicas available for rdd_118_0 !\n",
      "25/05/06 09:20:52 WARN BlockManagerMasterEndpoint: No more replicas available for rdd_118_8 !\n",
      "25/05/06 09:20:52 WARN BlockManagerMasterEndpoint: No more replicas available for rdd_118_12 !\n",
      "25/05/06 09:20:52 WARN BlockManagerMasterEndpoint: No more replicas available for rdd_118_4 !\n",
      "25/05/06 09:20:53 WARN YarnAllocator: Container from a bad node: container_1746522054009_0001_01_000001 on host: st446-final-proj-w-0.europe-west2-c.c.st446-wt2025-id.internal. Exit status: 143. Diagnostics: [2025-05-06 09:20:52.975]Container killed on request. Exit code is 143\n",
      "[2025-05-06 09:20:52.980]Container exited with a non-zero exit code 143. \n",
      "[2025-05-06 09:20:52.982]Killed by external signal\n",
      ".\n",
      "25/05/06 09:20:53 WARN YarnSchedulerBackend$YarnSchedulerEndpoint: Requesting driver to remove executor 1 for reason Container from a bad node: container_1746522054009_0001_01_000001 on host: st446-final-proj-w-0.europe-west2-c.c.st446-wt2025-id.internal. Exit status: 143. Diagnostics: [2025-05-06 09:20:52.975]Container killed on request. Exit code is 143\n",
      "[2025-05-06 09:20:52.980]Container exited with a non-zero exit code 143. \n",
      "[2025-05-06 09:20:52.982]Killed by external signal\n",
      ".\n",
      "25/05/06 09:20:53 ERROR YarnScheduler: Lost executor 1 on st446-final-proj-w-0.europe-west2-c.c.st446-wt2025-id.internal: Container from a bad node: container_1746522054009_0001_01_000001 on host: st446-final-proj-w-0.europe-west2-c.c.st446-wt2025-id.internal. Exit status: 143. Diagnostics: [2025-05-06 09:20:52.975]Container killed on request. Exit code is 143\n",
      "[2025-05-06 09:20:52.980]Container exited with a non-zero exit code 143. \n",
      "[2025-05-06 09:20:52.982]Killed by external signal\n",
      ".\n",
      "25/05/06 09:20:53 WARN TaskSetManager: Lost task 4.0 in stage 45.0 (TID 298) (st446-final-proj-w-0.europe-west2-c.c.st446-wt2025-id.internal executor 1): ExecutorLostFailure (executor 1 exited caused by one of the running tasks) Reason: Container from a bad node: container_1746522054009_0001_01_000001 on host: st446-final-proj-w-0.europe-west2-c.c.st446-wt2025-id.internal. Exit status: 143. Diagnostics: [2025-05-06 09:20:52.975]Container killed on request. Exit code is 143\n",
      "[2025-05-06 09:20:52.980]Container exited with a non-zero exit code 143. \n",
      "[2025-05-06 09:20:52.982]Killed by external signal\n",
      ".\n",
      "25/05/06 09:21:48 WARN DAGScheduler: Broadcasting large task binary with size 19.2 MiB\n",
      "                                                                                \r"
     ]
    },
    {
     "name": "stdout",
     "output_type": "stream",
     "text": [
      "Model fit complete\n",
      "Successfuly ran preds = model.transform(test_df)\n"
     ]
    },
    {
     "name": "stderr",
     "output_type": "stream",
     "text": [
      "25/05/06 09:22:07 WARN DAGScheduler: Broadcasting large task binary with size 19.1 MiB\n",
      "                                                                                \r"
     ]
    },
    {
     "name": "stdout",
     "output_type": "stream",
     "text": [
      "Successfully pulled sklearn metrics \n"
     ]
    },
    {
     "name": "stderr",
     "output_type": "stream",
     "text": [
      "[Stage 52:====================================================>   (17 + 1) / 18]\r"
     ]
    },
    {
     "name": "stdout",
     "output_type": "stream",
     "text": [
      "\n",
      "--- Evaluation Results ---\n",
      "Fit Time (s): 929.68\n",
      "Accuracy: 0.998 | Precision: 0.0476 | Recall: 0.0108\n",
      "F1: 0.0175 | ROC-AUC: 0.5052 | PR-AUC: 0.0021\n",
      "Partitions: 16\n",
      "================================\n",
      "Fitting model: RandomForest on 100% sample\n",
      "================================\n"
     ]
    },
    {
     "name": "stderr",
     "output_type": "stream",
     "text": [
      "25/05/06 09:24:20 ERROR Instrumentation: org.apache.spark.SparkException: Job 37 cancelled because SparkContext was shut down\n",
      "\tat org.apache.spark.scheduler.DAGScheduler.$anonfun$cleanUpAfterSchedulerStop$1(DAGScheduler.scala:1253)\n",
      "\tat org.apache.spark.scheduler.DAGScheduler.$anonfun$cleanUpAfterSchedulerStop$1$adapted(DAGScheduler.scala:1251)\n",
      "\tat scala.collection.mutable.HashSet.foreach(HashSet.scala:79)\n",
      "\tat org.apache.spark.scheduler.DAGScheduler.cleanUpAfterSchedulerStop(DAGScheduler.scala:1251)\n",
      "\tat org.apache.spark.scheduler.DAGSchedulerEventProcessLoop.onStop(DAGScheduler.scala:3087)\n",
      "\tat org.apache.spark.util.EventLoop.stop(EventLoop.scala:84)\n",
      "\tat org.apache.spark.scheduler.DAGScheduler.$anonfun$stop$3(DAGScheduler.scala:2973)\n",
      "\tat org.apache.spark.util.Utils$.tryLogNonFatalError(Utils.scala:1377)\n",
      "\tat org.apache.spark.scheduler.DAGScheduler.stop(DAGScheduler.scala:2973)\n",
      "\tat org.apache.spark.SparkContext.$anonfun$stop$12(SparkContext.scala:2317)\n",
      "\tat org.apache.spark.util.Utils$.tryLogNonFatalError(Utils.scala:1377)\n",
      "\tat org.apache.spark.SparkContext.stop(SparkContext.scala:2317)\n",
      "\tat org.apache.spark.SparkContext.stop(SparkContext.scala:2270)\n",
      "\tat org.apache.spark.SparkContext.$anonfun$new$37(SparkContext.scala:732)\n",
      "\tat org.apache.spark.util.SparkShutdownHook.run(ShutdownHookManager.scala:214)\n",
      "\tat org.apache.spark.util.SparkShutdownHookManager.$anonfun$runAll$2(ShutdownHookManager.scala:188)\n",
      "\tat scala.runtime.java8.JFunction0$mcV$sp.apply(JFunction0$mcV$sp.java:23)\n",
      "\tat org.apache.spark.util.Utils$.logUncaughtExceptions(Utils.scala:1930)\n",
      "\tat org.apache.spark.util.SparkShutdownHookManager.$anonfun$runAll$1(ShutdownHookManager.scala:188)\n",
      "\tat scala.runtime.java8.JFunction0$mcV$sp.apply(JFunction0$mcV$sp.java:23)\n",
      "\tat scala.util.Try$.apply(Try.scala:213)\n",
      "\tat org.apache.spark.util.SparkShutdownHookManager.runAll(ShutdownHookManager.scala:188)\n",
      "\tat org.apache.spark.util.SparkShutdownHookManager$$anon$2.run(ShutdownHookManager.scala:178)\n",
      "\tat java.base/java.util.concurrent.Executors$RunnableAdapter.call(Executors.java:515)\n",
      "\tat java.base/java.util.concurrent.FutureTask.run(FutureTask.java:264)\n",
      "\tat java.base/java.util.concurrent.ThreadPoolExecutor.runWorker(ThreadPoolExecutor.java:1128)\n",
      "\tat java.base/java.util.concurrent.ThreadPoolExecutor$Worker.run(ThreadPoolExecutor.java:628)\n",
      "\tat java.base/java.lang.Thread.run(Thread.java:829)\n",
      "\n",
      "ERROR:root:Exception while sending command.\n",
      "Traceback (most recent call last):\n",
      "  File \"/usr/lib/spark/python/lib/py4j-0.10.9.7-src.zip/py4j/clientserver.py\", line 516, in send_command\n",
      "    raise Py4JNetworkError(\"Answer from Java side is empty\")\n",
      "py4j.protocol.Py4JNetworkError: Answer from Java side is empty\n",
      "\n",
      "During handling of the above exception, another exception occurred:\n",
      "\n",
      "Traceback (most recent call last):\n",
      "  File \"/usr/lib/spark/python/lib/py4j-0.10.9.7-src.zip/py4j/java_gateway.py\", line 1038, in send_command\n",
      "    response = connection.send_command(command)\n",
      "               ^^^^^^^^^^^^^^^^^^^^^^^^^^^^^^^^\n",
      "  File \"/usr/lib/spark/python/lib/py4j-0.10.9.7-src.zip/py4j/clientserver.py\", line 539, in send_command\n",
      "    raise Py4JNetworkError(\n",
      "py4j.protocol.Py4JNetworkError: Error while sending or receiving\n",
      "ERROR:root:Exception while sending command.\n",
      "Traceback (most recent call last):\n",
      "  File \"/opt/conda/miniconda3/lib/python3.11/site-packages/IPython/core/interactiveshell.py\", line 3579, in run_code\n",
      "    exec(code_obj, self.user_global_ns, self.user_ns)\n",
      "  File \"/tmp/ipykernel_11971/1764840589.py\", line 46, in <module>\n",
      "    model = pipeline.fit(sample_df)\n",
      "            ^^^^^^^^^^^^^^^^^^^^^^^\n",
      "  File \"/usr/lib/spark/python/pyspark/ml/base.py\", line 205, in fit\n",
      "    return self._fit(dataset)\n",
      "           ^^^^^^^^^^^^^^^^^^\n",
      "  File \"/usr/lib/spark/python/pyspark/ml/pipeline.py\", line 134, in _fit\n",
      "    model = stage.fit(dataset)\n",
      "            ^^^^^^^^^^^^^^^^^^\n",
      "  File \"/usr/lib/spark/python/pyspark/ml/base.py\", line 205, in fit\n",
      "    return self._fit(dataset)\n",
      "           ^^^^^^^^^^^^^^^^^^\n",
      "  File \"/usr/lib/spark/python/pyspark/ml/wrapper.py\", line 381, in _fit\n",
      "    java_model = self._fit_java(dataset)\n",
      "                 ^^^^^^^^^^^^^^^^^^^^^^^\n",
      "  File \"/usr/lib/spark/python/pyspark/ml/wrapper.py\", line 378, in _fit_java\n",
      "    return self._java_obj.fit(dataset._jdf)\n",
      "           ^^^^^^^^^^^^^^^^^^^^^^^^^^^^^^^^\n",
      "  File \"/usr/lib/spark/python/lib/py4j-0.10.9.7-src.zip/py4j/java_gateway.py\", line 1322, in __call__\n",
      "    return_value = get_return_value(\n",
      "                   ^^^^^^^^^^^^^^^^^\n",
      "  File \"/usr/lib/spark/python/pyspark/errors/exceptions/captured.py\", line 179, in deco\n",
      "    return f(*a, **kw)\n",
      "           ^^^^^^^^^^^\n",
      "  File \"/usr/lib/spark/python/lib/py4j-0.10.9.7-src.zip/py4j/protocol.py\", line 326, in get_return_value\n",
      "    raise Py4JJavaError(\n",
      "py4j.protocol.Py4JJavaError: <exception str() failed>\n",
      "\n",
      "During handling of the above exception, another exception occurred:\n",
      "\n",
      "Traceback (most recent call last):\n",
      "  File \"/usr/lib/spark/python/lib/py4j-0.10.9.7-src.zip/py4j/clientserver.py\", line 516, in send_command\n",
      "    raise Py4JNetworkError(\"Answer from Java side is empty\")\n",
      "py4j.protocol.Py4JNetworkError: Answer from Java side is empty\n",
      "\n",
      "During handling of the above exception, another exception occurred:\n",
      "\n",
      "Traceback (most recent call last):\n",
      "  File \"/usr/lib/spark/python/lib/py4j-0.10.9.7-src.zip/py4j/java_gateway.py\", line 1038, in send_command\n",
      "    response = connection.send_command(command)\n",
      "               ^^^^^^^^^^^^^^^^^^^^^^^^^^^^^^^^\n",
      "  File \"/usr/lib/spark/python/lib/py4j-0.10.9.7-src.zip/py4j/clientserver.py\", line 539, in send_command\n",
      "    raise Py4JNetworkError(\n",
      "py4j.protocol.Py4JNetworkError: Error while sending or receiving\n"
     ]
    },
    {
     "ename": "ConnectionRefusedError",
     "evalue": "[Errno 111] Connection refused",
     "output_type": "error",
     "traceback": [
      "\u001b[0;31m---------------------------------------------------------------------------\u001b[0m\n",
      "\u001b[0;31mPy4JJavaError\u001b[0m                             Traceback (most recent call last)\n",
      "    \u001b[0;31m[... skipping hidden 1 frame]\u001b[0m\n",
      "\n",
      "Cell \u001b[0;32mIn[7], line 46\u001b[0m\n",
      "\u001b[1;32m     45\u001b[0m t0    \u001b[38;5;241m=\u001b[39m time\u001b[38;5;241m.\u001b[39mtime()\n",
      "\u001b[0;32m---> 46\u001b[0m model \u001b[38;5;241m=\u001b[39m \u001b[43mpipeline\u001b[49m\u001b[38;5;241;43m.\u001b[39;49m\u001b[43mfit\u001b[49m\u001b[43m(\u001b[49m\u001b[43msample_df\u001b[49m\u001b[43m)\u001b[49m\n",
      "\u001b[1;32m     47\u001b[0m fit_tm \u001b[38;5;241m=\u001b[39m time\u001b[38;5;241m.\u001b[39mtime() \u001b[38;5;241m-\u001b[39m t0\n",
      "\n",
      "File \u001b[0;32m/usr/lib/spark/python/pyspark/ml/base.py:205\u001b[0m, in \u001b[0;36mEstimator.fit\u001b[0;34m(self, dataset, params)\u001b[0m\n",
      "\u001b[1;32m    204\u001b[0m     \u001b[38;5;28;01melse\u001b[39;00m:\n",
      "\u001b[0;32m--> 205\u001b[0m         \u001b[38;5;28;01mreturn\u001b[39;00m \u001b[38;5;28;43mself\u001b[39;49m\u001b[38;5;241;43m.\u001b[39;49m\u001b[43m_fit\u001b[49m\u001b[43m(\u001b[49m\u001b[43mdataset\u001b[49m\u001b[43m)\u001b[49m\n",
      "\u001b[1;32m    206\u001b[0m \u001b[38;5;28;01melse\u001b[39;00m:\n",
      "\n",
      "File \u001b[0;32m/usr/lib/spark/python/pyspark/ml/pipeline.py:134\u001b[0m, in \u001b[0;36mPipeline._fit\u001b[0;34m(self, dataset)\u001b[0m\n",
      "\u001b[1;32m    133\u001b[0m \u001b[38;5;28;01melse\u001b[39;00m:  \u001b[38;5;66;03m# must be an Estimator\u001b[39;00m\n",
      "\u001b[0;32m--> 134\u001b[0m     model \u001b[38;5;241m=\u001b[39m \u001b[43mstage\u001b[49m\u001b[38;5;241;43m.\u001b[39;49m\u001b[43mfit\u001b[49m\u001b[43m(\u001b[49m\u001b[43mdataset\u001b[49m\u001b[43m)\u001b[49m\n",
      "\u001b[1;32m    135\u001b[0m     transformers\u001b[38;5;241m.\u001b[39mappend(model)\n",
      "\n",
      "File \u001b[0;32m/usr/lib/spark/python/pyspark/ml/base.py:205\u001b[0m, in \u001b[0;36mEstimator.fit\u001b[0;34m(self, dataset, params)\u001b[0m\n",
      "\u001b[1;32m    204\u001b[0m     \u001b[38;5;28;01melse\u001b[39;00m:\n",
      "\u001b[0;32m--> 205\u001b[0m         \u001b[38;5;28;01mreturn\u001b[39;00m \u001b[38;5;28;43mself\u001b[39;49m\u001b[38;5;241;43m.\u001b[39;49m\u001b[43m_fit\u001b[49m\u001b[43m(\u001b[49m\u001b[43mdataset\u001b[49m\u001b[43m)\u001b[49m\n",
      "\u001b[1;32m    206\u001b[0m \u001b[38;5;28;01melse\u001b[39;00m:\n",
      "\n",
      "File \u001b[0;32m/usr/lib/spark/python/pyspark/ml/wrapper.py:381\u001b[0m, in \u001b[0;36mJavaEstimator._fit\u001b[0;34m(self, dataset)\u001b[0m\n",
      "\u001b[1;32m    380\u001b[0m \u001b[38;5;28;01mdef\u001b[39;00m\u001b[38;5;250m \u001b[39m\u001b[38;5;21m_fit\u001b[39m(\u001b[38;5;28mself\u001b[39m, dataset: DataFrame) \u001b[38;5;241m-\u001b[39m\u001b[38;5;241m>\u001b[39m JM:\n",
      "\u001b[0;32m--> 381\u001b[0m     java_model \u001b[38;5;241m=\u001b[39m \u001b[38;5;28;43mself\u001b[39;49m\u001b[38;5;241;43m.\u001b[39;49m\u001b[43m_fit_java\u001b[49m\u001b[43m(\u001b[49m\u001b[43mdataset\u001b[49m\u001b[43m)\u001b[49m\n",
      "\u001b[1;32m    382\u001b[0m     model \u001b[38;5;241m=\u001b[39m \u001b[38;5;28mself\u001b[39m\u001b[38;5;241m.\u001b[39m_create_model(java_model)\n",
      "\n",
      "File \u001b[0;32m/usr/lib/spark/python/pyspark/ml/wrapper.py:378\u001b[0m, in \u001b[0;36mJavaEstimator._fit_java\u001b[0;34m(self, dataset)\u001b[0m\n",
      "\u001b[1;32m    377\u001b[0m \u001b[38;5;28mself\u001b[39m\u001b[38;5;241m.\u001b[39m_transfer_params_to_java()\n",
      "\u001b[0;32m--> 378\u001b[0m \u001b[38;5;28;01mreturn\u001b[39;00m \u001b[38;5;28;43mself\u001b[39;49m\u001b[38;5;241;43m.\u001b[39;49m\u001b[43m_java_obj\u001b[49m\u001b[38;5;241;43m.\u001b[39;49m\u001b[43mfit\u001b[49m\u001b[43m(\u001b[49m\u001b[43mdataset\u001b[49m\u001b[38;5;241;43m.\u001b[39;49m\u001b[43m_jdf\u001b[49m\u001b[43m)\u001b[49m\n",
      "\n",
      "File \u001b[0;32m/usr/lib/spark/python/lib/py4j-0.10.9.7-src.zip/py4j/java_gateway.py:1322\u001b[0m, in \u001b[0;36mJavaMember.__call__\u001b[0;34m(self, *args)\u001b[0m\n",
      "\u001b[1;32m   1321\u001b[0m answer \u001b[38;5;241m=\u001b[39m \u001b[38;5;28mself\u001b[39m\u001b[38;5;241m.\u001b[39mgateway_client\u001b[38;5;241m.\u001b[39msend_command(command)\n",
      "\u001b[0;32m-> 1322\u001b[0m return_value \u001b[38;5;241m=\u001b[39m \u001b[43mget_return_value\u001b[49m\u001b[43m(\u001b[49m\n",
      "\u001b[1;32m   1323\u001b[0m \u001b[43m    \u001b[49m\u001b[43manswer\u001b[49m\u001b[43m,\u001b[49m\u001b[43m \u001b[49m\u001b[38;5;28;43mself\u001b[39;49m\u001b[38;5;241;43m.\u001b[39;49m\u001b[43mgateway_client\u001b[49m\u001b[43m,\u001b[49m\u001b[43m \u001b[49m\u001b[38;5;28;43mself\u001b[39;49m\u001b[38;5;241;43m.\u001b[39;49m\u001b[43mtarget_id\u001b[49m\u001b[43m,\u001b[49m\u001b[43m \u001b[49m\u001b[38;5;28;43mself\u001b[39;49m\u001b[38;5;241;43m.\u001b[39;49m\u001b[43mname\u001b[49m\u001b[43m)\u001b[49m\n",
      "\u001b[1;32m   1325\u001b[0m \u001b[38;5;28;01mfor\u001b[39;00m temp_arg \u001b[38;5;129;01min\u001b[39;00m temp_args:\n",
      "\n",
      "File \u001b[0;32m/usr/lib/spark/python/pyspark/errors/exceptions/captured.py:179\u001b[0m, in \u001b[0;36mcapture_sql_exception.<locals>.deco\u001b[0;34m(*a, **kw)\u001b[0m\n",
      "\u001b[1;32m    178\u001b[0m \u001b[38;5;28;01mtry\u001b[39;00m:\n",
      "\u001b[0;32m--> 179\u001b[0m     \u001b[38;5;28;01mreturn\u001b[39;00m \u001b[43mf\u001b[49m\u001b[43m(\u001b[49m\u001b[38;5;241;43m*\u001b[39;49m\u001b[43ma\u001b[49m\u001b[43m,\u001b[49m\u001b[43m \u001b[49m\u001b[38;5;241;43m*\u001b[39;49m\u001b[38;5;241;43m*\u001b[39;49m\u001b[43mkw\u001b[49m\u001b[43m)\u001b[49m\n",
      "\u001b[1;32m    180\u001b[0m \u001b[38;5;28;01mexcept\u001b[39;00m Py4JJavaError \u001b[38;5;28;01mas\u001b[39;00m e:\n",
      "\n",
      "File \u001b[0;32m/usr/lib/spark/python/lib/py4j-0.10.9.7-src.zip/py4j/protocol.py:326\u001b[0m, in \u001b[0;36mget_return_value\u001b[0;34m(answer, gateway_client, target_id, name)\u001b[0m\n",
      "\u001b[1;32m    325\u001b[0m \u001b[38;5;28;01mif\u001b[39;00m answer[\u001b[38;5;241m1\u001b[39m] \u001b[38;5;241m==\u001b[39m REFERENCE_TYPE:\n",
      "\u001b[0;32m--> 326\u001b[0m     \u001b[38;5;28;01mraise\u001b[39;00m Py4JJavaError(\n",
      "\u001b[1;32m    327\u001b[0m         \u001b[38;5;124m\"\u001b[39m\u001b[38;5;124mAn error occurred while calling \u001b[39m\u001b[38;5;132;01m{0}\u001b[39;00m\u001b[38;5;132;01m{1}\u001b[39;00m\u001b[38;5;132;01m{2}\u001b[39;00m\u001b[38;5;124m.\u001b[39m\u001b[38;5;130;01m\\n\u001b[39;00m\u001b[38;5;124m\"\u001b[39m\u001b[38;5;241m.\u001b[39m\n",
      "\u001b[1;32m    328\u001b[0m         \u001b[38;5;28mformat\u001b[39m(target_id, \u001b[38;5;124m\"\u001b[39m\u001b[38;5;124m.\u001b[39m\u001b[38;5;124m\"\u001b[39m, name), value)\n",
      "\u001b[1;32m    329\u001b[0m \u001b[38;5;28;01melse\u001b[39;00m:\n",
      "\n",
      "\u001b[0;31m<class 'str'>\u001b[0m: (<class 'ConnectionRefusedError'>, ConnectionRefusedError(111, 'Connection refused'))\n",
      "\n",
      "During handling of the above exception, another exception occurred:\n",
      "\n",
      "\u001b[0;31mConnectionRefusedError\u001b[0m                    Traceback (most recent call last)\n",
      "    \u001b[0;31m[... skipping hidden 1 frame]\u001b[0m\n",
      "\n",
      "File \u001b[0;32m/opt/conda/miniconda3/lib/python3.11/site-packages/IPython/core/interactiveshell.py:2181\u001b[0m, in \u001b[0;36mInteractiveShell.showtraceback\u001b[0;34m(self, exc_tuple, filename, tb_offset, exception_only, running_compiled_code)\u001b[0m\n",
      "\u001b[1;32m   2178\u001b[0m         traceback\u001b[38;5;241m.\u001b[39mprint_exc()\n",
      "\u001b[1;32m   2179\u001b[0m         \u001b[38;5;28;01mreturn\u001b[39;00m \u001b[38;5;28;01mNone\u001b[39;00m\n",
      "\u001b[0;32m-> 2181\u001b[0m     \u001b[38;5;28;43mself\u001b[39;49m\u001b[38;5;241;43m.\u001b[39;49m\u001b[43m_showtraceback\u001b[49m\u001b[43m(\u001b[49m\u001b[43metype\u001b[49m\u001b[43m,\u001b[49m\u001b[43m \u001b[49m\u001b[43mvalue\u001b[49m\u001b[43m,\u001b[49m\u001b[43m \u001b[49m\u001b[43mstb\u001b[49m\u001b[43m)\u001b[49m\n",
      "\u001b[1;32m   2182\u001b[0m \u001b[38;5;28;01mif\u001b[39;00m \u001b[38;5;28mself\u001b[39m\u001b[38;5;241m.\u001b[39mcall_pdb:\n",
      "\u001b[1;32m   2183\u001b[0m     \u001b[38;5;66;03m# drop into debugger\u001b[39;00m\n",
      "\u001b[1;32m   2184\u001b[0m     \u001b[38;5;28mself\u001b[39m\u001b[38;5;241m.\u001b[39mdebugger(force\u001b[38;5;241m=\u001b[39m\u001b[38;5;28;01mTrue\u001b[39;00m)\n",
      "\n",
      "File \u001b[0;32m/opt/conda/miniconda3/lib/python3.11/site-packages/ipykernel/zmqshell.py:559\u001b[0m, in \u001b[0;36mZMQInteractiveShell._showtraceback\u001b[0;34m(self, etype, evalue, stb)\u001b[0m\n",
      "\u001b[1;32m    553\u001b[0m sys\u001b[38;5;241m.\u001b[39mstdout\u001b[38;5;241m.\u001b[39mflush()\n",
      "\u001b[1;32m    554\u001b[0m sys\u001b[38;5;241m.\u001b[39mstderr\u001b[38;5;241m.\u001b[39mflush()\n",
      "\u001b[1;32m    556\u001b[0m exc_content \u001b[38;5;241m=\u001b[39m {\n",
      "\u001b[1;32m    557\u001b[0m     \u001b[38;5;124m\"\u001b[39m\u001b[38;5;124mtraceback\u001b[39m\u001b[38;5;124m\"\u001b[39m: stb,\n",
      "\u001b[1;32m    558\u001b[0m     \u001b[38;5;124m\"\u001b[39m\u001b[38;5;124mename\u001b[39m\u001b[38;5;124m\"\u001b[39m: \u001b[38;5;28mstr\u001b[39m(etype\u001b[38;5;241m.\u001b[39m\u001b[38;5;18m__name__\u001b[39m),\n",
      "\u001b[0;32m--> 559\u001b[0m     \u001b[38;5;124m\"\u001b[39m\u001b[38;5;124mevalue\u001b[39m\u001b[38;5;124m\"\u001b[39m: \u001b[38;5;28;43mstr\u001b[39;49m\u001b[43m(\u001b[49m\u001b[43mevalue\u001b[49m\u001b[43m)\u001b[49m,\n",
      "\u001b[1;32m    560\u001b[0m }\n",
      "\u001b[1;32m    562\u001b[0m dh \u001b[38;5;241m=\u001b[39m \u001b[38;5;28mself\u001b[39m\u001b[38;5;241m.\u001b[39mdisplayhook\n",
      "\u001b[1;32m    563\u001b[0m \u001b[38;5;66;03m# Send exception info over pub socket for other clients than the caller\u001b[39;00m\n",
      "\u001b[1;32m    564\u001b[0m \u001b[38;5;66;03m# to pick up\u001b[39;00m\n",
      "\n",
      "File \u001b[0;32m/usr/lib/spark/python/lib/py4j-0.10.9.7-src.zip/py4j/protocol.py:471\u001b[0m, in \u001b[0;36mPy4JJavaError.__str__\u001b[0;34m(self)\u001b[0m\n",
      "\u001b[1;32m    469\u001b[0m \u001b[38;5;28;01mdef\u001b[39;00m\u001b[38;5;250m \u001b[39m\u001b[38;5;21m__str__\u001b[39m(\u001b[38;5;28mself\u001b[39m):\n",
      "\u001b[1;32m    470\u001b[0m     gateway_client \u001b[38;5;241m=\u001b[39m \u001b[38;5;28mself\u001b[39m\u001b[38;5;241m.\u001b[39mjava_exception\u001b[38;5;241m.\u001b[39m_gateway_client\n",
      "\u001b[0;32m--> 471\u001b[0m     answer \u001b[38;5;241m=\u001b[39m \u001b[43mgateway_client\u001b[49m\u001b[38;5;241;43m.\u001b[39;49m\u001b[43msend_command\u001b[49m\u001b[43m(\u001b[49m\u001b[38;5;28;43mself\u001b[39;49m\u001b[38;5;241;43m.\u001b[39;49m\u001b[43mexception_cmd\u001b[49m\u001b[43m)\u001b[49m\n",
      "\u001b[1;32m    472\u001b[0m     return_value \u001b[38;5;241m=\u001b[39m get_return_value(answer, gateway_client, \u001b[38;5;28;01mNone\u001b[39;00m, \u001b[38;5;28;01mNone\u001b[39;00m)\n",
      "\u001b[1;32m    473\u001b[0m     \u001b[38;5;66;03m# Note: technically this should return a bytestring 'str' rather than\u001b[39;00m\n",
      "\u001b[1;32m    474\u001b[0m     \u001b[38;5;66;03m# unicodes in Python 2; however, it can return unicodes for now.\u001b[39;00m\n",
      "\u001b[1;32m    475\u001b[0m     \u001b[38;5;66;03m# See https://github.com/bartdag/py4j/issues/306 for more details.\u001b[39;00m\n",
      "\n",
      "File \u001b[0;32m/usr/lib/spark/python/lib/py4j-0.10.9.7-src.zip/py4j/java_gateway.py:1036\u001b[0m, in \u001b[0;36mGatewayClient.send_command\u001b[0;34m(self, command, retry, binary)\u001b[0m\n",
      "\u001b[1;32m   1015\u001b[0m \u001b[38;5;28;01mdef\u001b[39;00m\u001b[38;5;250m \u001b[39m\u001b[38;5;21msend_command\u001b[39m(\u001b[38;5;28mself\u001b[39m, command, retry\u001b[38;5;241m=\u001b[39m\u001b[38;5;28;01mTrue\u001b[39;00m, binary\u001b[38;5;241m=\u001b[39m\u001b[38;5;28;01mFalse\u001b[39;00m):\n",
      "\u001b[1;32m   1016\u001b[0m \u001b[38;5;250m    \u001b[39m\u001b[38;5;124;03m\"\"\"Sends a command to the JVM. This method is not intended to be\u001b[39;00m\n",
      "\u001b[1;32m   1017\u001b[0m \u001b[38;5;124;03m       called directly by Py4J users. It is usually called by\u001b[39;00m\n",
      "\u001b[1;32m   1018\u001b[0m \u001b[38;5;124;03m       :class:`JavaMember` instances.\u001b[39;00m\n",
      "\u001b[0;32m   (...)\u001b[0m\n",
      "\u001b[1;32m   1034\u001b[0m \u001b[38;5;124;03m     if `binary` is `True`.\u001b[39;00m\n",
      "\u001b[1;32m   1035\u001b[0m \u001b[38;5;124;03m    \"\"\"\u001b[39;00m\n",
      "\u001b[0;32m-> 1036\u001b[0m     connection \u001b[38;5;241m=\u001b[39m \u001b[38;5;28;43mself\u001b[39;49m\u001b[38;5;241;43m.\u001b[39;49m\u001b[43m_get_connection\u001b[49m\u001b[43m(\u001b[49m\u001b[43m)\u001b[49m\n",
      "\u001b[1;32m   1037\u001b[0m     \u001b[38;5;28;01mtry\u001b[39;00m:\n",
      "\u001b[1;32m   1038\u001b[0m         response \u001b[38;5;241m=\u001b[39m connection\u001b[38;5;241m.\u001b[39msend_command(command)\n",
      "\n",
      "File \u001b[0;32m/usr/lib/spark/python/lib/py4j-0.10.9.7-src.zip/py4j/clientserver.py:284\u001b[0m, in \u001b[0;36mJavaClient._get_connection\u001b[0;34m(self)\u001b[0m\n",
      "\u001b[1;32m    281\u001b[0m     \u001b[38;5;28;01mpass\u001b[39;00m\n",
      "\u001b[1;32m    283\u001b[0m \u001b[38;5;28;01mif\u001b[39;00m connection \u001b[38;5;129;01mis\u001b[39;00m \u001b[38;5;28;01mNone\u001b[39;00m \u001b[38;5;129;01mor\u001b[39;00m connection\u001b[38;5;241m.\u001b[39msocket \u001b[38;5;129;01mis\u001b[39;00m \u001b[38;5;28;01mNone\u001b[39;00m:\n",
      "\u001b[0;32m--> 284\u001b[0m     connection \u001b[38;5;241m=\u001b[39m \u001b[38;5;28;43mself\u001b[39;49m\u001b[38;5;241;43m.\u001b[39;49m\u001b[43m_create_new_connection\u001b[49m\u001b[43m(\u001b[49m\u001b[43m)\u001b[49m\n",
      "\u001b[1;32m    285\u001b[0m \u001b[38;5;28;01mreturn\u001b[39;00m connection\n",
      "\n",
      "File \u001b[0;32m/usr/lib/spark/python/lib/py4j-0.10.9.7-src.zip/py4j/clientserver.py:291\u001b[0m, in \u001b[0;36mJavaClient._create_new_connection\u001b[0;34m(self)\u001b[0m\n",
      "\u001b[1;32m    287\u001b[0m \u001b[38;5;28;01mdef\u001b[39;00m\u001b[38;5;250m \u001b[39m\u001b[38;5;21m_create_new_connection\u001b[39m(\u001b[38;5;28mself\u001b[39m):\n",
      "\u001b[1;32m    288\u001b[0m     connection \u001b[38;5;241m=\u001b[39m ClientServerConnection(\n",
      "\u001b[1;32m    289\u001b[0m         \u001b[38;5;28mself\u001b[39m\u001b[38;5;241m.\u001b[39mjava_parameters, \u001b[38;5;28mself\u001b[39m\u001b[38;5;241m.\u001b[39mpython_parameters,\n",
      "\u001b[1;32m    290\u001b[0m         \u001b[38;5;28mself\u001b[39m\u001b[38;5;241m.\u001b[39mgateway_property, \u001b[38;5;28mself\u001b[39m)\n",
      "\u001b[0;32m--> 291\u001b[0m     \u001b[43mconnection\u001b[49m\u001b[38;5;241;43m.\u001b[39;49m\u001b[43mconnect_to_java_server\u001b[49m\u001b[43m(\u001b[49m\u001b[43m)\u001b[49m\n",
      "\u001b[1;32m    292\u001b[0m     \u001b[38;5;28mself\u001b[39m\u001b[38;5;241m.\u001b[39mset_thread_connection(connection)\n",
      "\u001b[1;32m    293\u001b[0m     \u001b[38;5;28;01mreturn\u001b[39;00m connection\n",
      "\n",
      "File \u001b[0;32m/usr/lib/spark/python/lib/py4j-0.10.9.7-src.zip/py4j/clientserver.py:438\u001b[0m, in \u001b[0;36mClientServerConnection.connect_to_java_server\u001b[0;34m(self)\u001b[0m\n",
      "\u001b[1;32m    435\u001b[0m \u001b[38;5;28;01mif\u001b[39;00m \u001b[38;5;28mself\u001b[39m\u001b[38;5;241m.\u001b[39mssl_context:\n",
      "\u001b[1;32m    436\u001b[0m     \u001b[38;5;28mself\u001b[39m\u001b[38;5;241m.\u001b[39msocket \u001b[38;5;241m=\u001b[39m \u001b[38;5;28mself\u001b[39m\u001b[38;5;241m.\u001b[39mssl_context\u001b[38;5;241m.\u001b[39mwrap_socket(\n",
      "\u001b[1;32m    437\u001b[0m         \u001b[38;5;28mself\u001b[39m\u001b[38;5;241m.\u001b[39msocket, server_hostname\u001b[38;5;241m=\u001b[39m\u001b[38;5;28mself\u001b[39m\u001b[38;5;241m.\u001b[39mjava_address)\n",
      "\u001b[0;32m--> 438\u001b[0m \u001b[38;5;28;43mself\u001b[39;49m\u001b[38;5;241;43m.\u001b[39;49m\u001b[43msocket\u001b[49m\u001b[38;5;241;43m.\u001b[39;49m\u001b[43mconnect\u001b[49m\u001b[43m(\u001b[49m\u001b[43m(\u001b[49m\u001b[38;5;28;43mself\u001b[39;49m\u001b[38;5;241;43m.\u001b[39;49m\u001b[43mjava_address\u001b[49m\u001b[43m,\u001b[49m\u001b[43m \u001b[49m\u001b[38;5;28;43mself\u001b[39;49m\u001b[38;5;241;43m.\u001b[39;49m\u001b[43mjava_port\u001b[49m\u001b[43m)\u001b[49m\u001b[43m)\u001b[49m\n",
      "\u001b[1;32m    439\u001b[0m \u001b[38;5;28mself\u001b[39m\u001b[38;5;241m.\u001b[39mstream \u001b[38;5;241m=\u001b[39m \u001b[38;5;28mself\u001b[39m\u001b[38;5;241m.\u001b[39msocket\u001b[38;5;241m.\u001b[39mmakefile(\u001b[38;5;124m\"\u001b[39m\u001b[38;5;124mrb\u001b[39m\u001b[38;5;124m\"\u001b[39m)\n",
      "\u001b[1;32m    440\u001b[0m \u001b[38;5;28mself\u001b[39m\u001b[38;5;241m.\u001b[39mis_connected \u001b[38;5;241m=\u001b[39m \u001b[38;5;28;01mTrue\u001b[39;00m\n",
      "\n",
      "\u001b[0;31mConnectionRefusedError\u001b[0m: [Errno 111] Connection refused"
     ]
    }
   ],
   "source": []
  },
  {
   "cell_type": "markdown",
   "id": "1ff5dfc3",
   "metadata": {},
   "source": [
    "### Random forest"
   ]
  },
  {
   "cell_type": "code",
   "execution_count": null,
   "id": "12f9a1ad",
   "metadata": {},
   "outputs": [
    {
     "name": "stdout",
     "output_type": "stream",
     "text": [
      "Start time for sampling: 2025-05-06 09:31:17.732115+00:00\n",
      "Using full train_df (100% sample)\n",
      "Repartition complete\n",
      "Skipping cache for full dataset\n",
      "================================\n",
      "Fitting model: RandomForest on 100% sample\n",
      "================================\n"
     ]
    },
    {
     "name": "stderr",
     "output_type": "stream",
     "text": [
      "[Stage 47:====================================================>   (17 + 1) / 18]\r"
     ]
    },
    {
     "name": "stdout",
     "output_type": "stream",
     "text": [
      "Model fit complete\n",
      "Successfuly ran preds = model.transform(test_df)\n"
     ]
    },
    {
     "name": "stderr",
     "output_type": "stream",
     "text": [
      "25/05/06 09:35:50 WARN SparkStringUtils: Truncated the string representation of a plan since it was too large. This behavior can be adjusted by setting 'spark.sql.debug.maxToStringFields'.\n",
      "                                                                                \r"
     ]
    },
    {
     "name": "stdout",
     "output_type": "stream",
     "text": [
      "Successfully pulled sklearn metrics \n"
     ]
    },
    {
     "name": "stderr",
     "output_type": "stream",
     "text": [
      "[Stage 49:====================================================>   (17 + 1) / 18]\r"
     ]
    },
    {
     "name": "stdout",
     "output_type": "stream",
     "text": [
      "\n",
      "--- Evaluation Results ---\n",
      "Fit Time (s): 272.37\n",
      "Accuracy: 0.9992 | Precision: 0.8219 | Recall: 0.6452\n",
      "F1: 0.7229 | ROC-AUC: 0.9631 | PR-AUC: 0.6174\n",
      "Partitions: 16\n"
     ]
    }
   ],
   "source": []
  },
  {
   "cell_type": "markdown",
   "id": "7796cfeb",
   "metadata": {},
   "source": [
    "## 3 WORKER NODES"
   ]
  },
  {
   "cell_type": "markdown",
   "id": "266b7ec2",
   "metadata": {},
   "source": [
    "### For 3 worker nodes, we used this cluster instantiation command: \n",
    "\n",
    "```\n",
    "gcloud dataproc clusters create st446-final-proj \\\n",
    "  --region=europe-west2 \\\n",
    "  --zone=europe-west2-c \\\n",
    "  --master-machine-type=n2-standard-2 \\\n",
    "  --master-boot-disk-type=pd-balanced \\\n",
    "  --master-boot-disk-size=100 \\\n",
    "  --num-workers=3 \\\n",
    "  --worker-machine-type=n2-standard-2 \\\n",
    "  --worker-boot-disk-type=pd-balanced \\\n",
    "  --worker-boot-disk-size=100 \\\n",
    "  --image-version=2.2-debian12 \\\n",
    "  --optional-components=JUPYTER \\\n",
    "  --enable-component-gateway \\\n",
    "  --public-ip-address \\\n",
    "  --project=st446-wt2025-id \\\n",
    "  --properties='^#^spark:spark.jars.packages=com.microsoft.azure:synapseml_2.12:0.11.1,ml.dmlc:xgboost4j-spark_2.12:1.6.0'\n",
    "```\n",
    "\n",
    "### For 3 worker nodesm we used this loop"
   ]
  },
  {
   "cell_type": "code",
   "execution_count": null,
   "id": "426abe2f",
   "metadata": {},
   "outputs": [
    {
     "name": "stdout",
     "output_type": "stream",
     "text": [
      "Start time for sampling: 2025-05-05 22:52:59.508338+00:00\n",
      "Created sample df on 5% sample\n",
      "Repartition complete\n"
     ]
    },
    {
     "name": "stderr",
     "output_type": "stream",
     "text": [
      "25/05/05 22:53:00 WARN SparkStringUtils: Truncated the string representation of a plan since it was too large. This behavior can be adjusted by setting 'spark.sql.debug.maxToStringFields'.\n",
      "                                                                                \r"
     ]
    },
    {
     "name": "stdout",
     "output_type": "stream",
     "text": [
      "Cache complete\n",
      "================================\n",
      "Fitting model: LogisticRegression on 5% sample\n",
      "================================\n"
     ]
    },
    {
     "name": "stderr",
     "output_type": "stream",
     "text": [
      "                                                                                \r"
     ]
    },
    {
     "name": "stdout",
     "output_type": "stream",
     "text": [
      "Model fit complete\n",
      "Successfuly ran preds = model.transform(test_df)\n"
     ]
    },
    {
     "name": "stderr",
     "output_type": "stream",
     "text": [
      "                                                                                \r"
     ]
    },
    {
     "name": "stdout",
     "output_type": "stream",
     "text": [
      "Successfully pulled sklearn metrics \n",
      "\n",
      "--- Evaluation Results ---\n",
      "Fit Time (s): 33.57\n",
      "Accuracy: 0.9992 | Precision: 0.8571 | Recall: 0.5806\n",
      "F1: 0.6923 | ROC-AUC: 0.9764 | PR-AUC: 0.7095\n",
      "Partitions: 18\n",
      "================================\n",
      "Fitting model: LightGBM on 5% sample\n",
      "================================\n"
     ]
    },
    {
     "name": "stderr",
     "output_type": "stream",
     "text": [
      "                                                                                \r"
     ]
    },
    {
     "name": "stdout",
     "output_type": "stream",
     "text": [
      "Model fit complete\n",
      "Successfuly ran preds = model.transform(test_df)\n"
     ]
    },
    {
     "name": "stderr",
     "output_type": "stream",
     "text": [
      "                                                                                \r"
     ]
    },
    {
     "name": "stdout",
     "output_type": "stream",
     "text": [
      "Successfully pulled sklearn metrics \n",
      "\n",
      "--- Evaluation Results ---\n",
      "Fit Time (s): 66.37\n",
      "Accuracy: 0.9989 | Precision: 0.6293 | Recall: 0.7849\n",
      "F1: 0.6986 | ROC-AUC: 0.9662 | PR-AUC: 0.685\n",
      "Partitions: 18\n",
      "================================\n",
      "Fitting model: IsolationForest on 5% sample\n",
      "================================\n"
     ]
    },
    {
     "name": "stderr",
     "output_type": "stream",
     "text": [
      "25/05/05 22:56:24 WARN DAGScheduler: Broadcasting large task binary with size 4.4 MiB\n",
      "25/05/05 22:56:36 WARN DAGScheduler: Broadcasting large task binary with size 4.4 MiB\n",
      "25/05/05 22:56:39 WARN DAGScheduler: Broadcasting large task binary with size 4.4 MiB\n",
      "25/05/05 22:56:41 WARN DAGScheduler: Broadcasting large task binary with size 4.4 MiB\n",
      "25/05/05 22:56:44 WARN DAGScheduler: Broadcasting large task binary with size 4.4 MiB\n",
      "                                                                                \r"
     ]
    },
    {
     "name": "stdout",
     "output_type": "stream",
     "text": [
      "Model fit complete\n",
      "Successfuly ran preds = model.transform(test_df)\n"
     ]
    },
    {
     "name": "stderr",
     "output_type": "stream",
     "text": [
      "25/05/05 22:56:46 WARN DAGScheduler: Broadcasting large task binary with size 4.4 MiB\n",
      "                                                                                \r"
     ]
    },
    {
     "name": "stdout",
     "output_type": "stream",
     "text": [
      "Successfully pulled sklearn metrics \n",
      "\n",
      "--- Evaluation Results ---\n",
      "Fit Time (s): 61.03\n",
      "Accuracy: 0.998 | Precision: 0.0417 | Recall: 0.0108\n",
      "F1: 0.0171 | ROC-AUC: 0.5052 | PR-AUC: 0.0021\n",
      "Partitions: 18\n",
      "================================\n",
      "Fitting model: RandomForest on 5% sample\n",
      "================================\n"
     ]
    },
    {
     "name": "stderr",
     "output_type": "stream",
     "text": [
      "                                                                                \r"
     ]
    },
    {
     "name": "stdout",
     "output_type": "stream",
     "text": [
      "Model fit complete\n",
      "Successfuly ran preds = model.transform(test_df)\n"
     ]
    },
    {
     "name": "stderr",
     "output_type": "stream",
     "text": [
      "                                                                                \r"
     ]
    },
    {
     "name": "stdout",
     "output_type": "stream",
     "text": [
      "Successfully pulled sklearn metrics \n",
      "\n",
      "--- Evaluation Results ---\n",
      "Fit Time (s): 22.91\n",
      "Accuracy: 0.9992 | Precision: 0.8219 | Recall: 0.6452\n",
      "F1: 0.7229 | ROC-AUC: 0.9199 | PR-AUC: 0.6112\n",
      "Partitions: 18\n",
      "Start time for sampling: 2025-05-05 22:57:16.007108+00:00\n",
      "Created sample df on 25% sample\n",
      "Repartition complete\n"
     ]
    },
    {
     "name": "stderr",
     "output_type": "stream",
     "text": [
      "                                                                                \r"
     ]
    },
    {
     "name": "stdout",
     "output_type": "stream",
     "text": [
      "Cache complete\n",
      "================================\n",
      "Fitting model: LogisticRegression on 25% sample\n",
      "================================\n"
     ]
    },
    {
     "name": "stderr",
     "output_type": "stream",
     "text": [
      "                                                                                \r"
     ]
    },
    {
     "name": "stdout",
     "output_type": "stream",
     "text": [
      "Model fit complete\n",
      "Successfuly ran preds = model.transform(test_df)\n"
     ]
    },
    {
     "name": "stderr",
     "output_type": "stream",
     "text": [
      "                                                                                \r"
     ]
    },
    {
     "name": "stdout",
     "output_type": "stream",
     "text": [
      "Successfully pulled sklearn metrics \n",
      "\n",
      "--- Evaluation Results ---\n",
      "Fit Time (s): 12.05\n",
      "Accuracy: 0.9992 | Precision: 0.8571 | Recall: 0.5806\n",
      "F1: 0.6923 | ROC-AUC: 0.9766 | PR-AUC: 0.7098\n",
      "Partitions: 18\n",
      "================================\n",
      "Fitting model: LightGBM on 25% sample\n",
      "================================\n"
     ]
    },
    {
     "name": "stderr",
     "output_type": "stream",
     "text": [
      "                                                                                \r"
     ]
    },
    {
     "name": "stdout",
     "output_type": "stream",
     "text": [
      "Model fit complete\n",
      "Successfuly ran preds = model.transform(test_df)\n"
     ]
    },
    {
     "name": "stderr",
     "output_type": "stream",
     "text": [
      "                                                                                \r"
     ]
    },
    {
     "name": "stdout",
     "output_type": "stream",
     "text": [
      "Successfully pulled sklearn metrics \n",
      "\n",
      "--- Evaluation Results ---\n",
      "Fit Time (s): 64.62\n",
      "Accuracy: 0.9989 | Precision: 0.6271 | Recall: 0.7957\n",
      "F1: 0.7014 | ROC-AUC: 0.9626 | PR-AUC: 0.6972\n",
      "Partitions: 18\n",
      "================================\n",
      "Fitting model: IsolationForest on 25% sample\n",
      "================================\n"
     ]
    },
    {
     "name": "stderr",
     "output_type": "stream",
     "text": [
      "25/05/05 23:00:27 WARN BlockManagerMasterEndpoint: No more replicas available for rdd_371_13 !\n",
      "25/05/05 23:00:27 WARN BlockManagerMasterEndpoint: No more replicas available for rdd_264_2 !\n",
      "25/05/05 23:00:27 WARN BlockManagerMasterEndpoint: No more replicas available for rdd_264_3 !\n",
      "25/05/05 23:00:27 WARN BlockManagerMasterEndpoint: No more replicas available for rdd_264_1 !\n",
      "25/05/05 23:00:27 WARN BlockManagerMasterEndpoint: No more replicas available for rdd_371_14 !\n",
      "25/05/05 23:00:27 WARN BlockManagerMasterEndpoint: No more replicas available for rdd_371_2 !\n",
      "25/05/05 23:00:27 WARN BlockManagerMasterEndpoint: No more replicas available for rdd_371_17 !\n",
      "25/05/05 23:00:27 WARN BlockManagerMasterEndpoint: No more replicas available for rdd_264_4 !\n",
      "25/05/05 23:00:27 WARN BlockManagerMasterEndpoint: No more replicas available for rdd_371_9 !\n",
      "25/05/05 23:00:27 WARN BlockManagerMasterEndpoint: No more replicas available for rdd_371_6 !\n",
      "25/05/05 23:00:27 WARN BlockManagerMasterEndpoint: No more replicas available for rdd_264_14 !\n",
      "25/05/05 23:00:27 WARN BlockManagerMasterEndpoint: No more replicas available for rdd_264_13 !\n",
      "25/05/05 23:00:27 WARN BlockManagerMasterEndpoint: No more replicas available for rdd_264_16 !\n",
      "25/05/05 23:00:27 WARN YarnAllocator: Container from a bad node: container_1746485176435_0001_01_000001 on host: st446-final-proj-w-0.europe-west2-c.c.st446-wt2025-id.internal. Exit status: 143. Diagnostics: [2025-05-05 23:00:27.385]Container killed on request. Exit code is 143\n",
      "[2025-05-05 23:00:27.386]Container exited with a non-zero exit code 143. \n",
      "[2025-05-05 23:00:27.387]Killed by external signal\n",
      ".\n",
      "25/05/05 23:00:27 WARN YarnSchedulerBackend$YarnSchedulerEndpoint: Requesting driver to remove executor 1 for reason Container from a bad node: container_1746485176435_0001_01_000001 on host: st446-final-proj-w-0.europe-west2-c.c.st446-wt2025-id.internal. Exit status: 143. Diagnostics: [2025-05-05 23:00:27.385]Container killed on request. Exit code is 143\n",
      "[2025-05-05 23:00:27.386]Container exited with a non-zero exit code 143. \n",
      "[2025-05-05 23:00:27.387]Killed by external signal\n",
      ".\n",
      "25/05/05 23:00:27 ERROR YarnScheduler: Lost executor 1 on st446-final-proj-w-0.europe-west2-c.c.st446-wt2025-id.internal: Container from a bad node: container_1746485176435_0001_01_000001 on host: st446-final-proj-w-0.europe-west2-c.c.st446-wt2025-id.internal. Exit status: 143. Diagnostics: [2025-05-05 23:00:27.385]Container killed on request. Exit code is 143\n",
      "[2025-05-05 23:00:27.386]Container exited with a non-zero exit code 143. \n",
      "[2025-05-05 23:00:27.387]Killed by external signal\n",
      ".\n",
      "25/05/05 23:00:27 WARN TaskSetManager: Lost task 44.0 in stage 224.0 (TID 1559) (st446-final-proj-w-0.europe-west2-c.c.st446-wt2025-id.internal executor 1): ExecutorLostFailure (executor 1 exited caused by one of the running tasks) Reason: Container from a bad node: container_1746485176435_0001_01_000001 on host: st446-final-proj-w-0.europe-west2-c.c.st446-wt2025-id.internal. Exit status: 143. Diagnostics: [2025-05-05 23:00:27.385]Container killed on request. Exit code is 143\n",
      "[2025-05-05 23:00:27.386]Container exited with a non-zero exit code 143. \n",
      "[2025-05-05 23:00:27.387]Killed by external signal\n",
      ".\n",
      "25/05/05 23:00:41 WARN DAGScheduler: Broadcasting large task binary with size 8.7 MiB\n",
      "25/05/05 23:01:05 WARN DAGScheduler: Broadcasting large task binary with size 8.7 MiB\n",
      "25/05/05 23:01:08 WARN DAGScheduler: Broadcasting large task binary with size 8.7 MiB\n",
      "25/05/05 23:01:14 WARN DAGScheduler: Broadcasting large task binary with size 8.7 MiB\n",
      "25/05/05 23:01:16 WARN DAGScheduler: Broadcasting large task binary with size 8.7 MiB\n",
      "                                                                                \r"
     ]
    },
    {
     "name": "stdout",
     "output_type": "stream",
     "text": [
      "Model fit complete\n",
      "Successfuly ran preds = model.transform(test_df)\n"
     ]
    },
    {
     "name": "stderr",
     "output_type": "stream",
     "text": [
      "25/05/05 23:01:20 WARN DAGScheduler: Broadcasting large task binary with size 8.6 MiB\n",
      "                                                                                \r"
     ]
    },
    {
     "name": "stdout",
     "output_type": "stream",
     "text": [
      "Successfully pulled sklearn metrics \n",
      "\n",
      "--- Evaluation Results ---\n",
      "Fit Time (s): 132.97\n",
      "Accuracy: 0.9979 | Precision: 0.037 | Recall: 0.0108\n",
      "F1: 0.0167 | ROC-AUC: 0.5051 | PR-AUC: 0.002\n",
      "Partitions: 18\n",
      "================================\n",
      "Fitting model: RandomForest on 25% sample\n",
      "================================\n"
     ]
    },
    {
     "name": "stderr",
     "output_type": "stream",
     "text": [
      "                                                                                \r"
     ]
    },
    {
     "name": "stdout",
     "output_type": "stream",
     "text": [
      "Model fit complete\n",
      "Successfuly ran preds = model.transform(test_df)\n"
     ]
    },
    {
     "name": "stderr",
     "output_type": "stream",
     "text": [
      "                                                                                \r"
     ]
    },
    {
     "name": "stdout",
     "output_type": "stream",
     "text": [
      "Successfully pulled sklearn metrics \n",
      "\n",
      "--- Evaluation Results ---\n",
      "Fit Time (s): 23.68\n",
      "Accuracy: 0.9992 | Precision: 0.8194 | Recall: 0.6344\n",
      "F1: 0.7152 | ROC-AUC: 0.9539 | PR-AUC: 0.6063\n",
      "Partitions: 18\n",
      "Start time for sampling: 2025-05-05 23:01:55.364152+00:00\n",
      "Using full train_df (100% sample)\n",
      "Repartition complete\n",
      "Skipping cache for full dataset\n",
      "================================\n",
      "Fitting model: LogisticRegression on 100% sample\n",
      "================================\n"
     ]
    },
    {
     "name": "stderr",
     "output_type": "stream",
     "text": [
      "[Stage 326:===================================================>   (17 + 1) / 18]\r"
     ]
    },
    {
     "name": "stdout",
     "output_type": "stream",
     "text": [
      "Model fit complete\n",
      "Successfuly ran preds = model.transform(test_df)\n"
     ]
    },
    {
     "name": "stderr",
     "output_type": "stream",
     "text": [
      "                                                                                \r"
     ]
    },
    {
     "name": "stdout",
     "output_type": "stream",
     "text": [
      "Successfully pulled sklearn metrics \n"
     ]
    },
    {
     "name": "stderr",
     "output_type": "stream",
     "text": [
      "[Stage 328:===================================================>   (17 + 1) / 18]\r"
     ]
    },
    {
     "name": "stdout",
     "output_type": "stream",
     "text": [
      "\n",
      "--- Evaluation Results ---\n",
      "Fit Time (s): 129.06\n",
      "Accuracy: 0.9992 | Precision: 0.8571 | Recall: 0.5806\n",
      "F1: 0.6923 | ROC-AUC: 0.9766 | PR-AUC: 0.7095\n",
      "Partitions: 18\n",
      "================================\n",
      "Fitting model: LightGBM on 100% sample\n",
      "================================\n"
     ]
    },
    {
     "name": "stderr",
     "output_type": "stream",
     "text": [
      "25/05/05 23:05:56 WARN BlockManagerMasterEndpoint: No more replicas available for rdd_559_17 !\n",
      "25/05/05 23:05:56 WARN BlockManagerMasterEndpoint: No more replicas available for rdd_559_11 !\n",
      "25/05/05 23:05:56 WARN BlockManagerMasterEndpoint: No more replicas available for rdd_559_4 !\n",
      "25/05/05 23:05:56 WARN BlockManagerMasterEndpoint: No more replicas available for rdd_559_16 !\n",
      "25/05/05 23:05:56 WARN BlockManagerMasterEndpoint: No more replicas available for rdd_264_11 !\n",
      "25/05/05 23:05:56 WARN YarnAllocator: Container from a bad node: container_1746485176435_0001_01_000011 on host: st446-final-proj-w-2.europe-west2-c.c.st446-wt2025-id.internal. Exit status: 137. Diagnostics: [2025-05-05 23:05:56.286]Container killed on request. Exit code is 137\n",
      "[2025-05-05 23:05:56.290]Container exited with a non-zero exit code 137. \n",
      "[2025-05-05 23:05:56.291]Killed by external signal\n",
      ".\n",
      "25/05/05 23:05:56 WARN YarnSchedulerBackend$YarnSchedulerEndpoint: Requesting driver to remove executor 10 for reason Container from a bad node: container_1746485176435_0001_01_000011 on host: st446-final-proj-w-2.europe-west2-c.c.st446-wt2025-id.internal. Exit status: 137. Diagnostics: [2025-05-05 23:05:56.286]Container killed on request. Exit code is 137\n",
      "[2025-05-05 23:05:56.290]Container exited with a non-zero exit code 137. \n",
      "[2025-05-05 23:05:56.291]Killed by external signal\n",
      ".\n",
      "25/05/05 23:05:56 ERROR YarnScheduler: Lost executor 10 on st446-final-proj-w-2.europe-west2-c.c.st446-wt2025-id.internal: Container from a bad node: container_1746485176435_0001_01_000011 on host: st446-final-proj-w-2.europe-west2-c.c.st446-wt2025-id.internal. Exit status: 137. Diagnostics: [2025-05-05 23:05:56.286]Container killed on request. Exit code is 137\n",
      "[2025-05-05 23:05:56.290]Container exited with a non-zero exit code 137. \n",
      "[2025-05-05 23:05:56.291]Killed by external signal\n",
      ".\n",
      "25/05/05 23:05:56 WARN TaskSetManager: Lost task 0.0 in stage 335.0 (TID 2473) (st446-final-proj-w-2.europe-west2-c.c.st446-wt2025-id.internal executor 10): ExecutorLostFailure (executor 10 exited caused by one of the running tasks) Reason: Container from a bad node: container_1746485176435_0001_01_000011 on host: st446-final-proj-w-2.europe-west2-c.c.st446-wt2025-id.internal. Exit status: 137. Diagnostics: [2025-05-05 23:05:56.286]Container killed on request. Exit code is 137\n",
      "[2025-05-05 23:05:56.290]Container exited with a non-zero exit code 137. \n",
      "[2025-05-05 23:05:56.291]Killed by external signal\n",
      ".\n",
      "25/05/05 23:06:13 WARN TaskSetManager: Lost task 0.1 in stage 335.0 (TID 2479) (st446-final-proj-w-2.europe-west2-c.c.st446-wt2025-id.internal executor 13): java.net.ConnectException: Connection refused (Connection refused)\n",
      "\tat java.base/java.net.PlainSocketImpl.socketConnect(Native Method)\n",
      "\tat java.base/java.net.AbstractPlainSocketImpl.doConnect(AbstractPlainSocketImpl.java:412)\n",
      "\tat java.base/java.net.AbstractPlainSocketImpl.connectToAddress(AbstractPlainSocketImpl.java:255)\n",
      "\tat java.base/java.net.AbstractPlainSocketImpl.connect(AbstractPlainSocketImpl.java:237)\n",
      "\tat java.base/java.net.SocksSocketImpl.connect(SocksSocketImpl.java:392)\n",
      "\tat java.base/java.net.Socket.connect(Socket.java:609)\n",
      "\tat java.base/java.net.Socket.connect(Socket.java:558)\n",
      "\tat java.base/java.net.Socket.<init>(Socket.java:454)\n",
      "\tat java.base/java.net.Socket.<init>(Socket.java:231)\n",
      "\tat com.microsoft.azure.synapse.ml.lightgbm.NetworkManager$.getNetworkTopologyInfoFromDriver(NetworkManager.scala:129)\n",
      "\tat com.microsoft.azure.synapse.ml.lightgbm.NetworkManager$.$anonfun$getGlobalNetworkInfo$2(NetworkManager.scala:116)\n",
      "\tat com.microsoft.azure.synapse.ml.core.utils.FaultToleranceUtils$.retryWithTimeout(FaultToleranceUtils.scala:24)\n",
      "\tat com.microsoft.azure.synapse.ml.core.utils.FaultToleranceUtils$.retryWithTimeout(FaultToleranceUtils.scala:29)\n",
      "\tat com.microsoft.azure.synapse.ml.core.utils.FaultToleranceUtils$.retryWithTimeout(FaultToleranceUtils.scala:29)\n",
      "\tat com.microsoft.azure.synapse.ml.core.utils.FaultToleranceUtils$.retryWithTimeout(FaultToleranceUtils.scala:29)\n",
      "\tat com.microsoft.azure.synapse.ml.core.utils.FaultToleranceUtils$.retryWithTimeout(FaultToleranceUtils.scala:29)\n",
      "\tat com.microsoft.azure.synapse.ml.lightgbm.NetworkManager$.$anonfun$getGlobalNetworkInfo$1(NetworkManager.scala:111)\n",
      "\tat com.microsoft.azure.synapse.ml.core.env.StreamUtilities$.using(StreamUtilities.scala:28)\n",
      "\tat com.microsoft.azure.synapse.ml.lightgbm.NetworkManager$.getGlobalNetworkInfo(NetworkManager.scala:107)\n",
      "\tat com.microsoft.azure.synapse.ml.lightgbm.BasePartitionTask.initialize(BasePartitionTask.scala:197)\n",
      "\tat com.microsoft.azure.synapse.ml.lightgbm.BasePartitionTask.mapPartitionTask(BasePartitionTask.scala:132)\n",
      "\tat com.microsoft.azure.synapse.ml.lightgbm.LightGBMBase.$anonfun$executePartitionTasks$1(LightGBMBase.scala:591)\n",
      "\tat org.apache.spark.sql.execution.MapPartitionsExec.$anonfun$doExecute$3(objects.scala:198)\n",
      "\tat org.apache.spark.rdd.RDD.$anonfun$mapPartitionsInternal$2(RDD.scala:893)\n",
      "\tat org.apache.spark.rdd.RDD.$anonfun$mapPartitionsInternal$2$adapted(RDD.scala:893)\n",
      "\tat org.apache.spark.rdd.MapPartitionsRDD.compute(MapPartitionsRDD.scala:52)\n",
      "\tat org.apache.spark.rdd.RDD.computeOrReadCheckpoint(RDD.scala:367)\n",
      "\tat org.apache.spark.rdd.RDD.iterator(RDD.scala:331)\n",
      "\tat org.apache.spark.rdd.MapPartitionsRDD.compute(MapPartitionsRDD.scala:52)\n",
      "\tat org.apache.spark.rdd.RDD.computeOrReadCheckpoint(RDD.scala:367)\n",
      "\tat org.apache.spark.rdd.RDD.iterator(RDD.scala:331)\n",
      "\tat org.apache.spark.rdd.MapPartitionsRDD.compute(MapPartitionsRDD.scala:52)\n",
      "\tat org.apache.spark.rdd.RDD.computeOrReadCheckpoint(RDD.scala:367)\n",
      "\tat org.apache.spark.rdd.RDD.iterator(RDD.scala:331)\n",
      "\tat org.apache.spark.scheduler.ResultTask.runTask(ResultTask.scala:93)\n",
      "\tat org.apache.spark.TaskContext.runTaskWithListeners(TaskContext.scala:166)\n",
      "\tat org.apache.spark.scheduler.Task.run(Task.scala:141)\n",
      "\tat org.apache.spark.executor.Executor$TaskRunner.$anonfun$run$4(Executor.scala:620)\n",
      "\tat org.apache.spark.util.SparkErrorUtils.tryWithSafeFinally(SparkErrorUtils.scala:64)\n",
      "\tat org.apache.spark.util.SparkErrorUtils.tryWithSafeFinally$(SparkErrorUtils.scala:61)\n",
      "\tat org.apache.spark.util.Utils$.tryWithSafeFinally(Utils.scala:96)\n",
      "\tat org.apache.spark.executor.Executor$TaskRunner.run(Executor.scala:623)\n",
      "\tat java.base/java.util.concurrent.ThreadPoolExecutor.runWorker(ThreadPoolExecutor.java:1128)\n",
      "\tat java.base/java.util.concurrent.ThreadPoolExecutor$Worker.run(ThreadPoolExecutor.java:628)\n",
      "\tat java.base/java.lang.Thread.run(Thread.java:829)\n",
      "\n",
      "25/05/05 23:06:15 ERROR TaskSetManager: Task 0 in stage 335.0 failed 4 times; aborting job\n",
      "25/05/05 23:06:15 ERROR LightGBMClassifier: {\"buildVersion\":\"0.11.1\",\"className\":\"class com.microsoft.azure.synapse.ml.lightgbm.LightGBMClassifier\",\"columns\":null,\"method\":\"train\",\"uid\":\"LightGBMClassifier_27610a76e659\"}\n",
      "org.apache.spark.SparkException: Job aborted due to stage failure: Task 0 in stage 335.0 failed 4 times, most recent failure: Lost task 0.3 in stage 335.0 (TID 2481) (st446-final-proj-w-2.europe-west2-c.c.st446-wt2025-id.internal executor 13): java.net.ConnectException: Connection refused (Connection refused)\n",
      "\tat java.base/java.net.PlainSocketImpl.socketConnect(Native Method)\n",
      "\tat java.base/java.net.AbstractPlainSocketImpl.doConnect(AbstractPlainSocketImpl.java:412)\n",
      "\tat java.base/java.net.AbstractPlainSocketImpl.connectToAddress(AbstractPlainSocketImpl.java:255)\n",
      "\tat java.base/java.net.AbstractPlainSocketImpl.connect(AbstractPlainSocketImpl.java:237)\n",
      "\tat java.base/java.net.SocksSocketImpl.connect(SocksSocketImpl.java:392)\n",
      "\tat java.base/java.net.Socket.connect(Socket.java:609)\n",
      "\tat java.base/java.net.Socket.connect(Socket.java:558)\n",
      "\tat java.base/java.net.Socket.<init>(Socket.java:454)\n",
      "\tat java.base/java.net.Socket.<init>(Socket.java:231)\n",
      "\tat com.microsoft.azure.synapse.ml.lightgbm.NetworkManager$.getNetworkTopologyInfoFromDriver(NetworkManager.scala:129)\n",
      "\tat com.microsoft.azure.synapse.ml.lightgbm.NetworkManager$.$anonfun$getGlobalNetworkInfo$2(NetworkManager.scala:116)\n",
      "\tat com.microsoft.azure.synapse.ml.core.utils.FaultToleranceUtils$.retryWithTimeout(FaultToleranceUtils.scala:24)\n",
      "\tat com.microsoft.azure.synapse.ml.core.utils.FaultToleranceUtils$.retryWithTimeout(FaultToleranceUtils.scala:29)\n",
      "\tat com.microsoft.azure.synapse.ml.core.utils.FaultToleranceUtils$.retryWithTimeout(FaultToleranceUtils.scala:29)\n",
      "\tat com.microsoft.azure.synapse.ml.core.utils.FaultToleranceUtils$.retryWithTimeout(FaultToleranceUtils.scala:29)\n",
      "\tat com.microsoft.azure.synapse.ml.core.utils.FaultToleranceUtils$.retryWithTimeout(FaultToleranceUtils.scala:29)\n",
      "\tat com.microsoft.azure.synapse.ml.lightgbm.NetworkManager$.$anonfun$getGlobalNetworkInfo$1(NetworkManager.scala:111)\n",
      "\tat com.microsoft.azure.synapse.ml.core.env.StreamUtilities$.using(StreamUtilities.scala:28)\n",
      "\tat com.microsoft.azure.synapse.ml.lightgbm.NetworkManager$.getGlobalNetworkInfo(NetworkManager.scala:107)\n",
      "\tat com.microsoft.azure.synapse.ml.lightgbm.BasePartitionTask.initialize(BasePartitionTask.scala:197)\n",
      "\tat com.microsoft.azure.synapse.ml.lightgbm.BasePartitionTask.mapPartitionTask(BasePartitionTask.scala:132)\n",
      "\tat com.microsoft.azure.synapse.ml.lightgbm.LightGBMBase.$anonfun$executePartitionTasks$1(LightGBMBase.scala:591)\n",
      "\tat org.apache.spark.sql.execution.MapPartitionsExec.$anonfun$doExecute$3(objects.scala:198)\n",
      "\tat org.apache.spark.rdd.RDD.$anonfun$mapPartitionsInternal$2(RDD.scala:893)\n",
      "\tat org.apache.spark.rdd.RDD.$anonfun$mapPartitionsInternal$2$adapted(RDD.scala:893)\n",
      "\tat org.apache.spark.rdd.MapPartitionsRDD.compute(MapPartitionsRDD.scala:52)\n",
      "\tat org.apache.spark.rdd.RDD.computeOrReadCheckpoint(RDD.scala:367)\n",
      "\tat org.apache.spark.rdd.RDD.iterator(RDD.scala:331)\n",
      "\tat org.apache.spark.rdd.MapPartitionsRDD.compute(MapPartitionsRDD.scala:52)\n",
      "\tat org.apache.spark.rdd.RDD.computeOrReadCheckpoint(RDD.scala:367)\n",
      "\tat org.apache.spark.rdd.RDD.iterator(RDD.scala:331)\n",
      "\tat org.apache.spark.rdd.MapPartitionsRDD.compute(MapPartitionsRDD.scala:52)\n",
      "\tat org.apache.spark.rdd.RDD.computeOrReadCheckpoint(RDD.scala:367)\n",
      "\tat org.apache.spark.rdd.RDD.iterator(RDD.scala:331)\n",
      "\tat org.apache.spark.scheduler.ResultTask.runTask(ResultTask.scala:93)\n",
      "\tat org.apache.spark.TaskContext.runTaskWithListeners(TaskContext.scala:166)\n",
      "\tat org.apache.spark.scheduler.Task.run(Task.scala:141)\n",
      "\tat org.apache.spark.executor.Executor$TaskRunner.$anonfun$run$4(Executor.scala:620)\n",
      "\tat org.apache.spark.util.SparkErrorUtils.tryWithSafeFinally(SparkErrorUtils.scala:64)\n",
      "\tat org.apache.spark.util.SparkErrorUtils.tryWithSafeFinally$(SparkErrorUtils.scala:61)\n",
      "\tat org.apache.spark.util.Utils$.tryWithSafeFinally(Utils.scala:96)\n",
      "\tat org.apache.spark.executor.Executor$TaskRunner.run(Executor.scala:623)\n",
      "\tat java.base/java.util.concurrent.ThreadPoolExecutor.runWorker(ThreadPoolExecutor.java:1128)\n",
      "\tat java.base/java.util.concurrent.ThreadPoolExecutor$Worker.run(ThreadPoolExecutor.java:628)\n",
      "\tat java.base/java.lang.Thread.run(Thread.java:829)\n",
      "\n",
      "Driver stacktrace:\n",
      "\tat org.apache.spark.scheduler.DAGScheduler.failJobAndIndependentStages(DAGScheduler.scala:2856) ~[spark-core_2.12-3.5.3.jar:3.5.3]\n",
      "\tat org.apache.spark.scheduler.DAGScheduler.$anonfun$abortStage$2(DAGScheduler.scala:2792) ~[spark-core_2.12-3.5.3.jar:3.5.3]\n",
      "\tat org.apache.spark.scheduler.DAGScheduler.$anonfun$abortStage$2$adapted(DAGScheduler.scala:2791) ~[spark-core_2.12-3.5.3.jar:3.5.3]\n",
      "\tat scala.collection.mutable.ResizableArray.foreach(ResizableArray.scala:62) ~[scala-library-2.12.18.jar:?]\n",
      "\tat scala.collection.mutable.ResizableArray.foreach$(ResizableArray.scala:55) ~[scala-library-2.12.18.jar:?]\n",
      "\tat scala.collection.mutable.ArrayBuffer.foreach(ArrayBuffer.scala:49) ~[scala-library-2.12.18.jar:?]\n",
      "\tat org.apache.spark.scheduler.DAGScheduler.abortStage(DAGScheduler.scala:2791) ~[spark-core_2.12-3.5.3.jar:3.5.3]\n",
      "\tat org.apache.spark.scheduler.DAGScheduler.$anonfun$handleTaskSetFailed$1(DAGScheduler.scala:1247) ~[spark-core_2.12-3.5.3.jar:3.5.3]\n",
      "\tat org.apache.spark.scheduler.DAGScheduler.$anonfun$handleTaskSetFailed$1$adapted(DAGScheduler.scala:1247) ~[spark-core_2.12-3.5.3.jar:3.5.3]\n",
      "\tat scala.Option.foreach(Option.scala:407) ~[scala-library-2.12.18.jar:?]\n",
      "\tat org.apache.spark.scheduler.DAGScheduler.handleTaskSetFailed(DAGScheduler.scala:1247) ~[spark-core_2.12-3.5.3.jar:3.5.3]\n",
      "\tat org.apache.spark.scheduler.DAGSchedulerEventProcessLoop.doOnReceive(DAGScheduler.scala:3060) ~[spark-core_2.12-3.5.3.jar:3.5.3]\n",
      "\tat org.apache.spark.scheduler.DAGSchedulerEventProcessLoop.onReceive(DAGScheduler.scala:2994) ~[spark-core_2.12-3.5.3.jar:3.5.3]\n",
      "\tat org.apache.spark.scheduler.DAGSchedulerEventProcessLoop.onReceive(DAGScheduler.scala:2983) ~[spark-core_2.12-3.5.3.jar:3.5.3]\n",
      "\tat org.apache.spark.util.EventLoop$$anon$1.run(EventLoop.scala:49) ~[spark-core_2.12-3.5.3.jar:3.5.3]\n",
      "\tat org.apache.spark.scheduler.DAGScheduler.runJob(DAGScheduler.scala:989) ~[spark-core_2.12-3.5.3.jar:3.5.3]\n",
      "\tat org.apache.spark.SparkContext.runJob(SparkContext.scala:2452) ~[spark-core_2.12-3.5.3.jar:3.5.3]\n",
      "\tat org.apache.spark.SparkContext.runJob(SparkContext.scala:2473) ~[spark-core_2.12-3.5.3.jar:3.5.3]\n",
      "\tat org.apache.spark.SparkContext.runJob(SparkContext.scala:2492) ~[spark-core_2.12-3.5.3.jar:3.5.3]\n",
      "\tat org.apache.spark.SparkContext.runJob(SparkContext.scala:2517) ~[spark-core_2.12-3.5.3.jar:3.5.3]\n",
      "\tat org.apache.spark.rdd.RDD.$anonfun$collect$1(RDD.scala:1049) ~[spark-core_2.12-3.5.3.jar:3.5.3]\n",
      "\tat org.apache.spark.rdd.RDDOperationScope$.withScope(RDDOperationScope.scala:151) ~[spark-core_2.12-3.5.3.jar:3.5.3]\n",
      "\tat org.apache.spark.rdd.RDDOperationScope$.withScope(RDDOperationScope.scala:112) ~[spark-core_2.12-3.5.3.jar:3.5.3]\n",
      "\tat org.apache.spark.rdd.RDD.withScope(RDD.scala:410) ~[spark-core_2.12-3.5.3.jar:3.5.3]\n",
      "\tat org.apache.spark.rdd.RDD.collect(RDD.scala:1048) ~[spark-core_2.12-3.5.3.jar:3.5.3]\n",
      "\tat org.apache.spark.sql.execution.SparkPlan.executeCollect(SparkPlan.scala:448) ~[spark-sql_2.12-3.5.3.jar:3.5.3]\n",
      "\tat org.apache.spark.sql.execution.adaptive.AdaptiveSparkPlanExec.$anonfun$executeCollect$1(AdaptiveSparkPlanExec.scala:391) ~[spark-sql_2.12-3.5.3.jar:3.5.3]\n",
      "\tat org.apache.spark.sql.execution.adaptive.AdaptiveSparkPlanExec.withFinalPlanUpdate(AdaptiveSparkPlanExec.scala:419) ~[spark-sql_2.12-3.5.3.jar:3.5.3]\n",
      "\tat org.apache.spark.sql.execution.adaptive.AdaptiveSparkPlanExec.executeCollect(AdaptiveSparkPlanExec.scala:391) ~[spark-sql_2.12-3.5.3.jar:3.5.3]\n",
      "\tat org.apache.spark.sql.Dataset.collectFromPlan(Dataset.scala:4333) ~[spark-sql_2.12-3.5.3.jar:3.5.3]\n",
      "\tat org.apache.spark.sql.Dataset.$anonfun$collect$1(Dataset.scala:3575) ~[spark-sql_2.12-3.5.3.jar:3.5.3]\n",
      "\tat org.apache.spark.sql.Dataset.$anonfun$withAction$2(Dataset.scala:4323) ~[spark-sql_2.12-3.5.3.jar:3.5.3]\n",
      "\tat org.apache.spark.sql.execution.QueryExecution$.withInternalError(QueryExecution.scala:547) ~[spark-sql_2.12-3.5.3.jar:3.5.3]\n",
      "\tat org.apache.spark.sql.Dataset.$anonfun$withAction$1(Dataset.scala:4321) ~[spark-sql_2.12-3.5.3.jar:3.5.3]\n",
      "\tat org.apache.spark.sql.execution.SQLExecution$.$anonfun$withNewExecutionId$6(SQLExecution.scala:125) ~[spark-sql_2.12-3.5.3.jar:3.5.3]\n",
      "\tat org.apache.spark.sql.execution.SQLExecution$.withSQLConfPropagated(SQLExecution.scala:201) ~[spark-sql_2.12-3.5.3.jar:3.5.3]\n",
      "\tat org.apache.spark.sql.execution.SQLExecution$.$anonfun$withNewExecutionId$1(SQLExecution.scala:108) ~[spark-sql_2.12-3.5.3.jar:3.5.3]\n",
      "\tat org.apache.spark.sql.SparkSession.withActive(SparkSession.scala:900) ~[spark-sql_2.12-3.5.3.jar:3.5.3]\n",
      "\tat org.apache.spark.sql.execution.SQLExecution$.withNewExecutionId(SQLExecution.scala:66) ~[spark-sql_2.12-3.5.3.jar:3.5.3]\n",
      "\tat org.apache.spark.sql.Dataset.withAction(Dataset.scala:4321) ~[spark-sql_2.12-3.5.3.jar:3.5.3]\n",
      "\tat org.apache.spark.sql.Dataset.collect(Dataset.scala:3575) ~[spark-sql_2.12-3.5.3.jar:3.5.3]\n",
      "\tat com.microsoft.azure.synapse.ml.lightgbm.LightGBMBase.executePartitionTasks(LightGBMBase.scala:599) ~[com.microsoft.azure_synapseml-lightgbm_2.12-0.11.1.jar:0.11.1]\n",
      "\tat com.microsoft.azure.synapse.ml.lightgbm.LightGBMBase.executePartitionTasks$(LightGBMBase.scala:584) ~[com.microsoft.azure_synapseml-lightgbm_2.12-0.11.1.jar:0.11.1]\n",
      "\tat com.microsoft.azure.synapse.ml.lightgbm.LightGBMClassifier.executePartitionTasks(LightGBMClassifier.scala:27) ~[com.microsoft.azure_synapseml-lightgbm_2.12-0.11.1.jar:0.11.1]\n",
      "\tat com.microsoft.azure.synapse.ml.lightgbm.LightGBMBase.executeTraining(LightGBMBase.scala:574) ~[com.microsoft.azure_synapseml-lightgbm_2.12-0.11.1.jar:0.11.1]\n",
      "\tat com.microsoft.azure.synapse.ml.lightgbm.LightGBMBase.executeTraining$(LightGBMBase.scala:546) ~[com.microsoft.azure_synapseml-lightgbm_2.12-0.11.1.jar:0.11.1]\n",
      "\tat com.microsoft.azure.synapse.ml.lightgbm.LightGBMClassifier.executeTraining(LightGBMClassifier.scala:27) ~[com.microsoft.azure_synapseml-lightgbm_2.12-0.11.1.jar:0.11.1]\n",
      "\tat com.microsoft.azure.synapse.ml.lightgbm.LightGBMBase.trainOneDataBatch(LightGBMBase.scala:436) ~[com.microsoft.azure_synapseml-lightgbm_2.12-0.11.1.jar:0.11.1]\n",
      "\tat com.microsoft.azure.synapse.ml.lightgbm.LightGBMBase.trainOneDataBatch$(LightGBMBase.scala:393) ~[com.microsoft.azure_synapseml-lightgbm_2.12-0.11.1.jar:0.11.1]\n",
      "\tat com.microsoft.azure.synapse.ml.lightgbm.LightGBMClassifier.trainOneDataBatch(LightGBMClassifier.scala:27) [com.microsoft.azure_synapseml-lightgbm_2.12-0.11.1.jar:0.11.1]\n",
      "\tat com.microsoft.azure.synapse.ml.lightgbm.LightGBMBase.$anonfun$train$2(LightGBMBase.scala:61) ~[com.microsoft.azure_synapseml-lightgbm_2.12-0.11.1.jar:0.11.1]\n",
      "\tat com.microsoft.azure.synapse.ml.logging.SynapseMLLogging.logVerb(SynapseMLLogging.scala:87) [com.microsoft.azure_synapseml-core_2.12-0.11.1.jar:0.11.1]\n",
      "\tat com.microsoft.azure.synapse.ml.logging.SynapseMLLogging.logVerb$(SynapseMLLogging.scala:84) [com.microsoft.azure_synapseml-core_2.12-0.11.1.jar:0.11.1]\n",
      "\tat com.microsoft.azure.synapse.ml.lightgbm.LightGBMClassifier.logVerb(LightGBMClassifier.scala:27) [com.microsoft.azure_synapseml-lightgbm_2.12-0.11.1.jar:0.11.1]\n",
      "\tat com.microsoft.azure.synapse.ml.logging.SynapseMLLogging.logTrain(SynapseMLLogging.scala:78) [com.microsoft.azure_synapseml-core_2.12-0.11.1.jar:0.11.1]\n",
      "\tat com.microsoft.azure.synapse.ml.logging.SynapseMLLogging.logTrain$(SynapseMLLogging.scala:77) [com.microsoft.azure_synapseml-core_2.12-0.11.1.jar:0.11.1]\n",
      "\tat com.microsoft.azure.synapse.ml.lightgbm.LightGBMClassifier.logTrain(LightGBMClassifier.scala:27) [com.microsoft.azure_synapseml-lightgbm_2.12-0.11.1.jar:0.11.1]\n",
      "\tat com.microsoft.azure.synapse.ml.lightgbm.LightGBMBase.train(LightGBMBase.scala:63) [com.microsoft.azure_synapseml-lightgbm_2.12-0.11.1.jar:0.11.1]\n",
      "\tat com.microsoft.azure.synapse.ml.lightgbm.LightGBMBase.train$(LightGBMBase.scala:35) [com.microsoft.azure_synapseml-lightgbm_2.12-0.11.1.jar:0.11.1]\n",
      "\tat com.microsoft.azure.synapse.ml.lightgbm.LightGBMClassifier.train(LightGBMClassifier.scala:27) [com.microsoft.azure_synapseml-lightgbm_2.12-0.11.1.jar:0.11.1]\n",
      "\tat com.microsoft.azure.synapse.ml.lightgbm.LightGBMClassifier.train(LightGBMClassifier.scala:27) [com.microsoft.azure_synapseml-lightgbm_2.12-0.11.1.jar:0.11.1]\n",
      "\tat org.apache.spark.ml.Predictor.fit(Predictor.scala:114) [spark-mllib_2.12-3.5.3.jar:3.5.3]\n",
      "\tat java.base/jdk.internal.reflect.NativeMethodAccessorImpl.invoke0(Native Method) ~[?:?]\n",
      "\tat java.base/jdk.internal.reflect.NativeMethodAccessorImpl.invoke(NativeMethodAccessorImpl.java:62) ~[?:?]\n",
      "\tat java.base/jdk.internal.reflect.DelegatingMethodAccessorImpl.invoke(DelegatingMethodAccessorImpl.java:43) ~[?:?]\n",
      "\tat java.base/java.lang.reflect.Method.invoke(Method.java:566) ~[?:?]\n",
      "\tat py4j.reflection.MethodInvoker.invoke(MethodInvoker.java:244) [py4j-0.10.9.7.jar:?]\n",
      "\tat py4j.reflection.ReflectionEngine.invoke(ReflectionEngine.java:374) [py4j-0.10.9.7.jar:?]\n",
      "\tat py4j.Gateway.invoke(Gateway.java:282) [py4j-0.10.9.7.jar:?]\n",
      "\tat py4j.commands.AbstractCommand.invokeMethod(AbstractCommand.java:132) [py4j-0.10.9.7.jar:?]\n",
      "\tat py4j.commands.CallCommand.execute(CallCommand.java:79) [py4j-0.10.9.7.jar:?]\n",
      "\tat py4j.ClientServerConnection.waitForCommands(ClientServerConnection.java:182) [py4j-0.10.9.7.jar:?]\n",
      "\tat py4j.ClientServerConnection.run(ClientServerConnection.java:106) [py4j-0.10.9.7.jar:?]\n",
      "\tat java.base/java.lang.Thread.run(Thread.java:829) [?:?]\n",
      "Caused by: java.net.ConnectException: Connection refused (Connection refused)\n",
      "\tat java.base/java.net.PlainSocketImpl.socketConnect(Native Method) ~[?:?]\n",
      "\tat java.base/java.net.AbstractPlainSocketImpl.doConnect(AbstractPlainSocketImpl.java:412) ~[?:?]\n",
      "\tat java.base/java.net.AbstractPlainSocketImpl.connectToAddress(AbstractPlainSocketImpl.java:255) ~[?:?]\n",
      "\tat java.base/java.net.AbstractPlainSocketImpl.connect(AbstractPlainSocketImpl.java:237) ~[?:?]\n",
      "\tat java.base/java.net.SocksSocketImpl.connect(SocksSocketImpl.java:392) ~[?:?]\n",
      "\tat java.base/java.net.Socket.connect(Socket.java:609) ~[?:?]\n",
      "\tat java.base/java.net.Socket.connect(Socket.java:558) ~[?:?]\n",
      "\tat java.base/java.net.Socket.<init>(Socket.java:454) ~[?:?]\n",
      "\tat java.base/java.net.Socket.<init>(Socket.java:231) ~[?:?]\n",
      "\tat com.microsoft.azure.synapse.ml.lightgbm.NetworkManager$.getNetworkTopologyInfoFromDriver(NetworkManager.scala:129) ~[com.microsoft.azure_synapseml-lightgbm_2.12-0.11.1.jar:0.11.1]\n",
      "\tat com.microsoft.azure.synapse.ml.lightgbm.NetworkManager$.$anonfun$getGlobalNetworkInfo$2(NetworkManager.scala:116) ~[com.microsoft.azure_synapseml-lightgbm_2.12-0.11.1.jar:0.11.1]\n",
      "\tat com.microsoft.azure.synapse.ml.core.utils.FaultToleranceUtils$.retryWithTimeout(FaultToleranceUtils.scala:24) ~[com.microsoft.azure_synapseml-core_2.12-0.11.1.jar:0.11.1]\n",
      "\tat com.microsoft.azure.synapse.ml.core.utils.FaultToleranceUtils$.retryWithTimeout(FaultToleranceUtils.scala:29) ~[com.microsoft.azure_synapseml-core_2.12-0.11.1.jar:0.11.1]\n",
      "\tat com.microsoft.azure.synapse.ml.core.utils.FaultToleranceUtils$.retryWithTimeout(FaultToleranceUtils.scala:29) ~[com.microsoft.azure_synapseml-core_2.12-0.11.1.jar:0.11.1]\n",
      "\tat com.microsoft.azure.synapse.ml.core.utils.FaultToleranceUtils$.retryWithTimeout(FaultToleranceUtils.scala:29) ~[com.microsoft.azure_synapseml-core_2.12-0.11.1.jar:0.11.1]\n",
      "\tat com.microsoft.azure.synapse.ml.core.utils.FaultToleranceUtils$.retryWithTimeout(FaultToleranceUtils.scala:29) ~[com.microsoft.azure_synapseml-core_2.12-0.11.1.jar:0.11.1]\n",
      "\tat com.microsoft.azure.synapse.ml.lightgbm.NetworkManager$.$anonfun$getGlobalNetworkInfo$1(NetworkManager.scala:111) ~[com.microsoft.azure_synapseml-lightgbm_2.12-0.11.1.jar:0.11.1]\n",
      "\tat com.microsoft.azure.synapse.ml.core.env.StreamUtilities$.using(StreamUtilities.scala:28) ~[com.microsoft.azure_synapseml-core_2.12-0.11.1.jar:0.11.1]\n",
      "\tat com.microsoft.azure.synapse.ml.lightgbm.NetworkManager$.getGlobalNetworkInfo(NetworkManager.scala:107) ~[com.microsoft.azure_synapseml-lightgbm_2.12-0.11.1.jar:0.11.1]\n",
      "\tat com.microsoft.azure.synapse.ml.lightgbm.BasePartitionTask.initialize(BasePartitionTask.scala:197) ~[com.microsoft.azure_synapseml-lightgbm_2.12-0.11.1.jar:0.11.1]\n",
      "\tat com.microsoft.azure.synapse.ml.lightgbm.BasePartitionTask.mapPartitionTask(BasePartitionTask.scala:132) ~[com.microsoft.azure_synapseml-lightgbm_2.12-0.11.1.jar:0.11.1]\n",
      "\tat com.microsoft.azure.synapse.ml.lightgbm.LightGBMBase.$anonfun$executePartitionTasks$1(LightGBMBase.scala:591) ~[com.microsoft.azure_synapseml-lightgbm_2.12-0.11.1.jar:0.11.1]\n",
      "\tat org.apache.spark.sql.execution.MapPartitionsExec.$anonfun$doExecute$3(objects.scala:198) ~[spark-sql_2.12-3.5.3.jar:3.5.3]\n",
      "\tat org.apache.spark.rdd.RDD.$anonfun$mapPartitionsInternal$2(RDD.scala:893) ~[spark-core_2.12-3.5.3.jar:3.5.3]\n",
      "\tat org.apache.spark.rdd.RDD.$anonfun$mapPartitionsInternal$2$adapted(RDD.scala:893) ~[spark-core_2.12-3.5.3.jar:3.5.3]\n",
      "\tat org.apache.spark.rdd.MapPartitionsRDD.compute(MapPartitionsRDD.scala:52) ~[spark-core_2.12-3.5.3.jar:3.5.3]\n",
      "\tat org.apache.spark.rdd.RDD.computeOrReadCheckpoint(RDD.scala:367) ~[spark-core_2.12-3.5.3.jar:3.5.3]\n",
      "\tat org.apache.spark.rdd.RDD.iterator(RDD.scala:331) ~[spark-core_2.12-3.5.3.jar:3.5.3]\n",
      "\tat org.apache.spark.rdd.MapPartitionsRDD.compute(MapPartitionsRDD.scala:52) ~[spark-core_2.12-3.5.3.jar:3.5.3]\n",
      "\tat org.apache.spark.rdd.RDD.computeOrReadCheckpoint(RDD.scala:367) ~[spark-core_2.12-3.5.3.jar:3.5.3]\n",
      "\tat org.apache.spark.rdd.RDD.iterator(RDD.scala:331) ~[spark-core_2.12-3.5.3.jar:3.5.3]\n",
      "\tat org.apache.spark.rdd.MapPartitionsRDD.compute(MapPartitionsRDD.scala:52) ~[spark-core_2.12-3.5.3.jar:3.5.3]\n",
      "\tat org.apache.spark.rdd.RDD.computeOrReadCheckpoint(RDD.scala:367) ~[spark-core_2.12-3.5.3.jar:3.5.3]\n",
      "\tat org.apache.spark.rdd.RDD.iterator(RDD.scala:331) ~[spark-core_2.12-3.5.3.jar:3.5.3]\n",
      "\tat org.apache.spark.scheduler.ResultTask.runTask(ResultTask.scala:93) ~[spark-core_2.12-3.5.3.jar:3.5.3]\n",
      "\tat org.apache.spark.TaskContext.runTaskWithListeners(TaskContext.scala:166) ~[spark-core_2.12-3.5.3.jar:3.5.3]\n",
      "\tat org.apache.spark.scheduler.Task.run(Task.scala:141) ~[spark-core_2.12-3.5.3.jar:3.5.3]\n",
      "\tat org.apache.spark.executor.Executor$TaskRunner.$anonfun$run$4(Executor.scala:620) ~[spark-core_2.12-3.5.3.jar:3.5.3]\n",
      "\tat org.apache.spark.util.SparkErrorUtils.tryWithSafeFinally(SparkErrorUtils.scala:64) ~[spark-common-utils_2.12-3.5.3.jar:3.5.3]\n",
      "\tat org.apache.spark.util.SparkErrorUtils.tryWithSafeFinally$(SparkErrorUtils.scala:61) ~[spark-common-utils_2.12-3.5.3.jar:3.5.3]\n",
      "\tat org.apache.spark.util.Utils$.tryWithSafeFinally(Utils.scala:96) ~[spark-core_2.12-3.5.3.jar:3.5.3]\n",
      "\tat org.apache.spark.executor.Executor$TaskRunner.run(Executor.scala:623) ~[spark-core_2.12-3.5.3.jar:3.5.3]\n",
      "\tat java.base/java.util.concurrent.ThreadPoolExecutor.runWorker(ThreadPoolExecutor.java:1128) ~[?:?]\n",
      "\tat java.base/java.util.concurrent.ThreadPoolExecutor$Worker.run(ThreadPoolExecutor.java:628) ~[?:?]\n",
      "\t... 1 more\n"
     ]
    },
    {
     "ename": "Py4JJavaError",
     "evalue": "An error occurred while calling o123.fit.\n: org.apache.spark.SparkException: Job aborted due to stage failure: Task 0 in stage 335.0 failed 4 times, most recent failure: Lost task 0.3 in stage 335.0 (TID 2481) (st446-final-proj-w-2.europe-west2-c.c.st446-wt2025-id.internal executor 13): java.net.ConnectException: Connection refused (Connection refused)\n\tat java.base/java.net.PlainSocketImpl.socketConnect(Native Method)\n\tat java.base/java.net.AbstractPlainSocketImpl.doConnect(AbstractPlainSocketImpl.java:412)\n\tat java.base/java.net.AbstractPlainSocketImpl.connectToAddress(AbstractPlainSocketImpl.java:255)\n\tat java.base/java.net.AbstractPlainSocketImpl.connect(AbstractPlainSocketImpl.java:237)\n\tat java.base/java.net.SocksSocketImpl.connect(SocksSocketImpl.java:392)\n\tat java.base/java.net.Socket.connect(Socket.java:609)\n\tat java.base/java.net.Socket.connect(Socket.java:558)\n\tat java.base/java.net.Socket.<init>(Socket.java:454)\n\tat java.base/java.net.Socket.<init>(Socket.java:231)\n\tat com.microsoft.azure.synapse.ml.lightgbm.NetworkManager$.getNetworkTopologyInfoFromDriver(NetworkManager.scala:129)\n\tat com.microsoft.azure.synapse.ml.lightgbm.NetworkManager$.$anonfun$getGlobalNetworkInfo$2(NetworkManager.scala:116)\n\tat com.microsoft.azure.synapse.ml.core.utils.FaultToleranceUtils$.retryWithTimeout(FaultToleranceUtils.scala:24)\n\tat com.microsoft.azure.synapse.ml.core.utils.FaultToleranceUtils$.retryWithTimeout(FaultToleranceUtils.scala:29)\n\tat com.microsoft.azure.synapse.ml.core.utils.FaultToleranceUtils$.retryWithTimeout(FaultToleranceUtils.scala:29)\n\tat com.microsoft.azure.synapse.ml.core.utils.FaultToleranceUtils$.retryWithTimeout(FaultToleranceUtils.scala:29)\n\tat com.microsoft.azure.synapse.ml.core.utils.FaultToleranceUtils$.retryWithTimeout(FaultToleranceUtils.scala:29)\n\tat com.microsoft.azure.synapse.ml.lightgbm.NetworkManager$.$anonfun$getGlobalNetworkInfo$1(NetworkManager.scala:111)\n\tat com.microsoft.azure.synapse.ml.core.env.StreamUtilities$.using(StreamUtilities.scala:28)\n\tat com.microsoft.azure.synapse.ml.lightgbm.NetworkManager$.getGlobalNetworkInfo(NetworkManager.scala:107)\n\tat com.microsoft.azure.synapse.ml.lightgbm.BasePartitionTask.initialize(BasePartitionTask.scala:197)\n\tat com.microsoft.azure.synapse.ml.lightgbm.BasePartitionTask.mapPartitionTask(BasePartitionTask.scala:132)\n\tat com.microsoft.azure.synapse.ml.lightgbm.LightGBMBase.$anonfun$executePartitionTasks$1(LightGBMBase.scala:591)\n\tat org.apache.spark.sql.execution.MapPartitionsExec.$anonfun$doExecute$3(objects.scala:198)\n\tat org.apache.spark.rdd.RDD.$anonfun$mapPartitionsInternal$2(RDD.scala:893)\n\tat org.apache.spark.rdd.RDD.$anonfun$mapPartitionsInternal$2$adapted(RDD.scala:893)\n\tat org.apache.spark.rdd.MapPartitionsRDD.compute(MapPartitionsRDD.scala:52)\n\tat org.apache.spark.rdd.RDD.computeOrReadCheckpoint(RDD.scala:367)\n\tat org.apache.spark.rdd.RDD.iterator(RDD.scala:331)\n\tat org.apache.spark.rdd.MapPartitionsRDD.compute(MapPartitionsRDD.scala:52)\n\tat org.apache.spark.rdd.RDD.computeOrReadCheckpoint(RDD.scala:367)\n\tat org.apache.spark.rdd.RDD.iterator(RDD.scala:331)\n\tat org.apache.spark.rdd.MapPartitionsRDD.compute(MapPartitionsRDD.scala:52)\n\tat org.apache.spark.rdd.RDD.computeOrReadCheckpoint(RDD.scala:367)\n\tat org.apache.spark.rdd.RDD.iterator(RDD.scala:331)\n\tat org.apache.spark.scheduler.ResultTask.runTask(ResultTask.scala:93)\n\tat org.apache.spark.TaskContext.runTaskWithListeners(TaskContext.scala:166)\n\tat org.apache.spark.scheduler.Task.run(Task.scala:141)\n\tat org.apache.spark.executor.Executor$TaskRunner.$anonfun$run$4(Executor.scala:620)\n\tat org.apache.spark.util.SparkErrorUtils.tryWithSafeFinally(SparkErrorUtils.scala:64)\n\tat org.apache.spark.util.SparkErrorUtils.tryWithSafeFinally$(SparkErrorUtils.scala:61)\n\tat org.apache.spark.util.Utils$.tryWithSafeFinally(Utils.scala:96)\n\tat org.apache.spark.executor.Executor$TaskRunner.run(Executor.scala:623)\n\tat java.base/java.util.concurrent.ThreadPoolExecutor.runWorker(ThreadPoolExecutor.java:1128)\n\tat java.base/java.util.concurrent.ThreadPoolExecutor$Worker.run(ThreadPoolExecutor.java:628)\n\tat java.base/java.lang.Thread.run(Thread.java:829)\n\nDriver stacktrace:\n\tat org.apache.spark.scheduler.DAGScheduler.failJobAndIndependentStages(DAGScheduler.scala:2856)\n\tat org.apache.spark.scheduler.DAGScheduler.$anonfun$abortStage$2(DAGScheduler.scala:2792)\n\tat org.apache.spark.scheduler.DAGScheduler.$anonfun$abortStage$2$adapted(DAGScheduler.scala:2791)\n\tat scala.collection.mutable.ResizableArray.foreach(ResizableArray.scala:62)\n\tat scala.collection.mutable.ResizableArray.foreach$(ResizableArray.scala:55)\n\tat scala.collection.mutable.ArrayBuffer.foreach(ArrayBuffer.scala:49)\n\tat org.apache.spark.scheduler.DAGScheduler.abortStage(DAGScheduler.scala:2791)\n\tat org.apache.spark.scheduler.DAGScheduler.$anonfun$handleTaskSetFailed$1(DAGScheduler.scala:1247)\n\tat org.apache.spark.scheduler.DAGScheduler.$anonfun$handleTaskSetFailed$1$adapted(DAGScheduler.scala:1247)\n\tat scala.Option.foreach(Option.scala:407)\n\tat org.apache.spark.scheduler.DAGScheduler.handleTaskSetFailed(DAGScheduler.scala:1247)\n\tat org.apache.spark.scheduler.DAGSchedulerEventProcessLoop.doOnReceive(DAGScheduler.scala:3060)\n\tat org.apache.spark.scheduler.DAGSchedulerEventProcessLoop.onReceive(DAGScheduler.scala:2994)\n\tat org.apache.spark.scheduler.DAGSchedulerEventProcessLoop.onReceive(DAGScheduler.scala:2983)\n\tat org.apache.spark.util.EventLoop$$anon$1.run(EventLoop.scala:49)\n\tat org.apache.spark.scheduler.DAGScheduler.runJob(DAGScheduler.scala:989)\n\tat org.apache.spark.SparkContext.runJob(SparkContext.scala:2452)\n\tat org.apache.spark.SparkContext.runJob(SparkContext.scala:2473)\n\tat org.apache.spark.SparkContext.runJob(SparkContext.scala:2492)\n\tat org.apache.spark.SparkContext.runJob(SparkContext.scala:2517)\n\tat org.apache.spark.rdd.RDD.$anonfun$collect$1(RDD.scala:1049)\n\tat org.apache.spark.rdd.RDDOperationScope$.withScope(RDDOperationScope.scala:151)\n\tat org.apache.spark.rdd.RDDOperationScope$.withScope(RDDOperationScope.scala:112)\n\tat org.apache.spark.rdd.RDD.withScope(RDD.scala:410)\n\tat org.apache.spark.rdd.RDD.collect(RDD.scala:1048)\n\tat org.apache.spark.sql.execution.SparkPlan.executeCollect(SparkPlan.scala:448)\n\tat org.apache.spark.sql.execution.adaptive.AdaptiveSparkPlanExec.$anonfun$executeCollect$1(AdaptiveSparkPlanExec.scala:391)\n\tat org.apache.spark.sql.execution.adaptive.AdaptiveSparkPlanExec.withFinalPlanUpdate(AdaptiveSparkPlanExec.scala:419)\n\tat org.apache.spark.sql.execution.adaptive.AdaptiveSparkPlanExec.executeCollect(AdaptiveSparkPlanExec.scala:391)\n\tat org.apache.spark.sql.Dataset.collectFromPlan(Dataset.scala:4333)\n\tat org.apache.spark.sql.Dataset.$anonfun$collect$1(Dataset.scala:3575)\n\tat org.apache.spark.sql.Dataset.$anonfun$withAction$2(Dataset.scala:4323)\n\tat org.apache.spark.sql.execution.QueryExecution$.withInternalError(QueryExecution.scala:547)\n\tat org.apache.spark.sql.Dataset.$anonfun$withAction$1(Dataset.scala:4321)\n\tat org.apache.spark.sql.execution.SQLExecution$.$anonfun$withNewExecutionId$6(SQLExecution.scala:125)\n\tat org.apache.spark.sql.execution.SQLExecution$.withSQLConfPropagated(SQLExecution.scala:201)\n\tat org.apache.spark.sql.execution.SQLExecution$.$anonfun$withNewExecutionId$1(SQLExecution.scala:108)\n\tat org.apache.spark.sql.SparkSession.withActive(SparkSession.scala:900)\n\tat org.apache.spark.sql.execution.SQLExecution$.withNewExecutionId(SQLExecution.scala:66)\n\tat org.apache.spark.sql.Dataset.withAction(Dataset.scala:4321)\n\tat org.apache.spark.sql.Dataset.collect(Dataset.scala:3575)\n\tat com.microsoft.azure.synapse.ml.lightgbm.LightGBMBase.executePartitionTasks(LightGBMBase.scala:599)\n\tat com.microsoft.azure.synapse.ml.lightgbm.LightGBMBase.executePartitionTasks$(LightGBMBase.scala:584)\n\tat com.microsoft.azure.synapse.ml.lightgbm.LightGBMClassifier.executePartitionTasks(LightGBMClassifier.scala:27)\n\tat com.microsoft.azure.synapse.ml.lightgbm.LightGBMBase.executeTraining(LightGBMBase.scala:574)\n\tat com.microsoft.azure.synapse.ml.lightgbm.LightGBMBase.executeTraining$(LightGBMBase.scala:546)\n\tat com.microsoft.azure.synapse.ml.lightgbm.LightGBMClassifier.executeTraining(LightGBMClassifier.scala:27)\n\tat com.microsoft.azure.synapse.ml.lightgbm.LightGBMBase.trainOneDataBatch(LightGBMBase.scala:436)\n\tat com.microsoft.azure.synapse.ml.lightgbm.LightGBMBase.trainOneDataBatch$(LightGBMBase.scala:393)\n\tat com.microsoft.azure.synapse.ml.lightgbm.LightGBMClassifier.trainOneDataBatch(LightGBMClassifier.scala:27)\n\tat com.microsoft.azure.synapse.ml.lightgbm.LightGBMBase.$anonfun$train$2(LightGBMBase.scala:61)\n\tat com.microsoft.azure.synapse.ml.logging.SynapseMLLogging.logVerb(SynapseMLLogging.scala:87)\n\tat com.microsoft.azure.synapse.ml.logging.SynapseMLLogging.logVerb$(SynapseMLLogging.scala:84)\n\tat com.microsoft.azure.synapse.ml.lightgbm.LightGBMClassifier.logVerb(LightGBMClassifier.scala:27)\n\tat com.microsoft.azure.synapse.ml.logging.SynapseMLLogging.logTrain(SynapseMLLogging.scala:78)\n\tat com.microsoft.azure.synapse.ml.logging.SynapseMLLogging.logTrain$(SynapseMLLogging.scala:77)\n\tat com.microsoft.azure.synapse.ml.lightgbm.LightGBMClassifier.logTrain(LightGBMClassifier.scala:27)\n\tat com.microsoft.azure.synapse.ml.lightgbm.LightGBMBase.train(LightGBMBase.scala:63)\n\tat com.microsoft.azure.synapse.ml.lightgbm.LightGBMBase.train$(LightGBMBase.scala:35)\n\tat com.microsoft.azure.synapse.ml.lightgbm.LightGBMClassifier.train(LightGBMClassifier.scala:27)\n\tat com.microsoft.azure.synapse.ml.lightgbm.LightGBMClassifier.train(LightGBMClassifier.scala:27)\n\tat org.apache.spark.ml.Predictor.fit(Predictor.scala:114)\n\tat java.base/jdk.internal.reflect.NativeMethodAccessorImpl.invoke0(Native Method)\n\tat java.base/jdk.internal.reflect.NativeMethodAccessorImpl.invoke(NativeMethodAccessorImpl.java:62)\n\tat java.base/jdk.internal.reflect.DelegatingMethodAccessorImpl.invoke(DelegatingMethodAccessorImpl.java:43)\n\tat java.base/java.lang.reflect.Method.invoke(Method.java:566)\n\tat py4j.reflection.MethodInvoker.invoke(MethodInvoker.java:244)\n\tat py4j.reflection.ReflectionEngine.invoke(ReflectionEngine.java:374)\n\tat py4j.Gateway.invoke(Gateway.java:282)\n\tat py4j.commands.AbstractCommand.invokeMethod(AbstractCommand.java:132)\n\tat py4j.commands.CallCommand.execute(CallCommand.java:79)\n\tat py4j.ClientServerConnection.waitForCommands(ClientServerConnection.java:182)\n\tat py4j.ClientServerConnection.run(ClientServerConnection.java:106)\n\tat java.base/java.lang.Thread.run(Thread.java:829)\nCaused by: java.net.ConnectException: Connection refused (Connection refused)\n\tat java.base/java.net.PlainSocketImpl.socketConnect(Native Method)\n\tat java.base/java.net.AbstractPlainSocketImpl.doConnect(AbstractPlainSocketImpl.java:412)\n\tat java.base/java.net.AbstractPlainSocketImpl.connectToAddress(AbstractPlainSocketImpl.java:255)\n\tat java.base/java.net.AbstractPlainSocketImpl.connect(AbstractPlainSocketImpl.java:237)\n\tat java.base/java.net.SocksSocketImpl.connect(SocksSocketImpl.java:392)\n\tat java.base/java.net.Socket.connect(Socket.java:609)\n\tat java.base/java.net.Socket.connect(Socket.java:558)\n\tat java.base/java.net.Socket.<init>(Socket.java:454)\n\tat java.base/java.net.Socket.<init>(Socket.java:231)\n\tat com.microsoft.azure.synapse.ml.lightgbm.NetworkManager$.getNetworkTopologyInfoFromDriver(NetworkManager.scala:129)\n\tat com.microsoft.azure.synapse.ml.lightgbm.NetworkManager$.$anonfun$getGlobalNetworkInfo$2(NetworkManager.scala:116)\n\tat com.microsoft.azure.synapse.ml.core.utils.FaultToleranceUtils$.retryWithTimeout(FaultToleranceUtils.scala:24)\n\tat com.microsoft.azure.synapse.ml.core.utils.FaultToleranceUtils$.retryWithTimeout(FaultToleranceUtils.scala:29)\n\tat com.microsoft.azure.synapse.ml.core.utils.FaultToleranceUtils$.retryWithTimeout(FaultToleranceUtils.scala:29)\n\tat com.microsoft.azure.synapse.ml.core.utils.FaultToleranceUtils$.retryWithTimeout(FaultToleranceUtils.scala:29)\n\tat com.microsoft.azure.synapse.ml.core.utils.FaultToleranceUtils$.retryWithTimeout(FaultToleranceUtils.scala:29)\n\tat com.microsoft.azure.synapse.ml.lightgbm.NetworkManager$.$anonfun$getGlobalNetworkInfo$1(NetworkManager.scala:111)\n\tat com.microsoft.azure.synapse.ml.core.env.StreamUtilities$.using(StreamUtilities.scala:28)\n\tat com.microsoft.azure.synapse.ml.lightgbm.NetworkManager$.getGlobalNetworkInfo(NetworkManager.scala:107)\n\tat com.microsoft.azure.synapse.ml.lightgbm.BasePartitionTask.initialize(BasePartitionTask.scala:197)\n\tat com.microsoft.azure.synapse.ml.lightgbm.BasePartitionTask.mapPartitionTask(BasePartitionTask.scala:132)\n\tat com.microsoft.azure.synapse.ml.lightgbm.LightGBMBase.$anonfun$executePartitionTasks$1(LightGBMBase.scala:591)\n\tat org.apache.spark.sql.execution.MapPartitionsExec.$anonfun$doExecute$3(objects.scala:198)\n\tat org.apache.spark.rdd.RDD.$anonfun$mapPartitionsInternal$2(RDD.scala:893)\n\tat org.apache.spark.rdd.RDD.$anonfun$mapPartitionsInternal$2$adapted(RDD.scala:893)\n\tat org.apache.spark.rdd.MapPartitionsRDD.compute(MapPartitionsRDD.scala:52)\n\tat org.apache.spark.rdd.RDD.computeOrReadCheckpoint(RDD.scala:367)\n\tat org.apache.spark.rdd.RDD.iterator(RDD.scala:331)\n\tat org.apache.spark.rdd.MapPartitionsRDD.compute(MapPartitionsRDD.scala:52)\n\tat org.apache.spark.rdd.RDD.computeOrReadCheckpoint(RDD.scala:367)\n\tat org.apache.spark.rdd.RDD.iterator(RDD.scala:331)\n\tat org.apache.spark.rdd.MapPartitionsRDD.compute(MapPartitionsRDD.scala:52)\n\tat org.apache.spark.rdd.RDD.computeOrReadCheckpoint(RDD.scala:367)\n\tat org.apache.spark.rdd.RDD.iterator(RDD.scala:331)\n\tat org.apache.spark.scheduler.ResultTask.runTask(ResultTask.scala:93)\n\tat org.apache.spark.TaskContext.runTaskWithListeners(TaskContext.scala:166)\n\tat org.apache.spark.scheduler.Task.run(Task.scala:141)\n\tat org.apache.spark.executor.Executor$TaskRunner.$anonfun$run$4(Executor.scala:620)\n\tat org.apache.spark.util.SparkErrorUtils.tryWithSafeFinally(SparkErrorUtils.scala:64)\n\tat org.apache.spark.util.SparkErrorUtils.tryWithSafeFinally$(SparkErrorUtils.scala:61)\n\tat org.apache.spark.util.Utils$.tryWithSafeFinally(Utils.scala:96)\n\tat org.apache.spark.executor.Executor$TaskRunner.run(Executor.scala:623)\n\tat java.base/java.util.concurrent.ThreadPoolExecutor.runWorker(ThreadPoolExecutor.java:1128)\n\tat java.base/java.util.concurrent.ThreadPoolExecutor$Worker.run(ThreadPoolExecutor.java:628)\n\t... 1 more\n",
     "output_type": "error",
     "traceback": [
      "\u001b[0;31m---------------------------------------------------------------------------\u001b[0m\n",
      "\u001b[0;31mPy4JJavaError\u001b[0m                             Traceback (most recent call last)\n",
      "Cell \u001b[0;32mIn[8], line 46\u001b[0m\n",
      "\u001b[1;32m     44\u001b[0m \u001b[38;5;66;03m# 1) Fit\u001b[39;00m\n",
      "\u001b[1;32m     45\u001b[0m t0    \u001b[38;5;241m=\u001b[39m time\u001b[38;5;241m.\u001b[39mtime()\n",
      "\u001b[0;32m---> 46\u001b[0m model \u001b[38;5;241m=\u001b[39m \u001b[43mpipeline\u001b[49m\u001b[38;5;241;43m.\u001b[39;49m\u001b[43mfit\u001b[49m\u001b[43m(\u001b[49m\u001b[43msample_df\u001b[49m\u001b[43m)\u001b[49m\n",
      "\u001b[1;32m     47\u001b[0m fit_tm \u001b[38;5;241m=\u001b[39m time\u001b[38;5;241m.\u001b[39mtime() \u001b[38;5;241m-\u001b[39m t0\n",
      "\u001b[1;32m     48\u001b[0m \u001b[38;5;28mprint\u001b[39m(\u001b[38;5;124m\"\u001b[39m\u001b[38;5;124mModel fit complete\u001b[39m\u001b[38;5;124m\"\u001b[39m)\n",
      "\n",
      "File \u001b[0;32m/usr/lib/spark/python/pyspark/ml/base.py:205\u001b[0m, in \u001b[0;36mEstimator.fit\u001b[0;34m(self, dataset, params)\u001b[0m\n",
      "\u001b[1;32m    203\u001b[0m         \u001b[38;5;28;01mreturn\u001b[39;00m \u001b[38;5;28mself\u001b[39m\u001b[38;5;241m.\u001b[39mcopy(params)\u001b[38;5;241m.\u001b[39m_fit(dataset)\n",
      "\u001b[1;32m    204\u001b[0m     \u001b[38;5;28;01melse\u001b[39;00m:\n",
      "\u001b[0;32m--> 205\u001b[0m         \u001b[38;5;28;01mreturn\u001b[39;00m \u001b[38;5;28;43mself\u001b[39;49m\u001b[38;5;241;43m.\u001b[39;49m\u001b[43m_fit\u001b[49m\u001b[43m(\u001b[49m\u001b[43mdataset\u001b[49m\u001b[43m)\u001b[49m\n",
      "\u001b[1;32m    206\u001b[0m \u001b[38;5;28;01melse\u001b[39;00m:\n",
      "\u001b[1;32m    207\u001b[0m     \u001b[38;5;28;01mraise\u001b[39;00m \u001b[38;5;167;01mTypeError\u001b[39;00m(\n",
      "\u001b[1;32m    208\u001b[0m         \u001b[38;5;124m\"\u001b[39m\u001b[38;5;124mParams must be either a param map or a list/tuple of param maps, \u001b[39m\u001b[38;5;124m\"\u001b[39m\n",
      "\u001b[1;32m    209\u001b[0m         \u001b[38;5;124m\"\u001b[39m\u001b[38;5;124mbut got \u001b[39m\u001b[38;5;132;01m%s\u001b[39;00m\u001b[38;5;124m.\u001b[39m\u001b[38;5;124m\"\u001b[39m \u001b[38;5;241m%\u001b[39m \u001b[38;5;28mtype\u001b[39m(params)\n",
      "\u001b[1;32m    210\u001b[0m     )\n",
      "\n",
      "File \u001b[0;32m/usr/lib/spark/python/pyspark/ml/pipeline.py:134\u001b[0m, in \u001b[0;36mPipeline._fit\u001b[0;34m(self, dataset)\u001b[0m\n",
      "\u001b[1;32m    132\u001b[0m     dataset \u001b[38;5;241m=\u001b[39m stage\u001b[38;5;241m.\u001b[39mtransform(dataset)\n",
      "\u001b[1;32m    133\u001b[0m \u001b[38;5;28;01melse\u001b[39;00m:  \u001b[38;5;66;03m# must be an Estimator\u001b[39;00m\n",
      "\u001b[0;32m--> 134\u001b[0m     model \u001b[38;5;241m=\u001b[39m \u001b[43mstage\u001b[49m\u001b[38;5;241;43m.\u001b[39;49m\u001b[43mfit\u001b[49m\u001b[43m(\u001b[49m\u001b[43mdataset\u001b[49m\u001b[43m)\u001b[49m\n",
      "\u001b[1;32m    135\u001b[0m     transformers\u001b[38;5;241m.\u001b[39mappend(model)\n",
      "\u001b[1;32m    136\u001b[0m     \u001b[38;5;28;01mif\u001b[39;00m i \u001b[38;5;241m<\u001b[39m indexOfLastEstimator:\n",
      "\n",
      "File \u001b[0;32m/usr/lib/spark/python/pyspark/ml/base.py:205\u001b[0m, in \u001b[0;36mEstimator.fit\u001b[0;34m(self, dataset, params)\u001b[0m\n",
      "\u001b[1;32m    203\u001b[0m         \u001b[38;5;28;01mreturn\u001b[39;00m \u001b[38;5;28mself\u001b[39m\u001b[38;5;241m.\u001b[39mcopy(params)\u001b[38;5;241m.\u001b[39m_fit(dataset)\n",
      "\u001b[1;32m    204\u001b[0m     \u001b[38;5;28;01melse\u001b[39;00m:\n",
      "\u001b[0;32m--> 205\u001b[0m         \u001b[38;5;28;01mreturn\u001b[39;00m \u001b[38;5;28;43mself\u001b[39;49m\u001b[38;5;241;43m.\u001b[39;49m\u001b[43m_fit\u001b[49m\u001b[43m(\u001b[49m\u001b[43mdataset\u001b[49m\u001b[43m)\u001b[49m\n",
      "\u001b[1;32m    206\u001b[0m \u001b[38;5;28;01melse\u001b[39;00m:\n",
      "\u001b[1;32m    207\u001b[0m     \u001b[38;5;28;01mraise\u001b[39;00m \u001b[38;5;167;01mTypeError\u001b[39;00m(\n",
      "\u001b[1;32m    208\u001b[0m         \u001b[38;5;124m\"\u001b[39m\u001b[38;5;124mParams must be either a param map or a list/tuple of param maps, \u001b[39m\u001b[38;5;124m\"\u001b[39m\n",
      "\u001b[1;32m    209\u001b[0m         \u001b[38;5;124m\"\u001b[39m\u001b[38;5;124mbut got \u001b[39m\u001b[38;5;132;01m%s\u001b[39;00m\u001b[38;5;124m.\u001b[39m\u001b[38;5;124m\"\u001b[39m \u001b[38;5;241m%\u001b[39m \u001b[38;5;28mtype\u001b[39m(params)\n",
      "\u001b[1;32m    210\u001b[0m     )\n",
      "\n",
      "File \u001b[0;32m/hadoop/spark/tmp/spark-1feedcce-344e-4e17-9db5-fb897f75dddf/userFiles-18c12734-d836-4413-b4f5-0c9370479533/com.microsoft.azure_synapseml-lightgbm_2.12-0.11.1.jar/synapse/ml/lightgbm/LightGBMClassifier.py:2062\u001b[0m, in \u001b[0;36mLightGBMClassifier._fit\u001b[0;34m(self, dataset)\u001b[0m\n",
      "\u001b[1;32m   2061\u001b[0m \u001b[38;5;28;01mdef\u001b[39;00m\u001b[38;5;250m \u001b[39m\u001b[38;5;21m_fit\u001b[39m(\u001b[38;5;28mself\u001b[39m, dataset):\n",
      "\u001b[0;32m-> 2062\u001b[0m     java_model \u001b[38;5;241m=\u001b[39m \u001b[38;5;28;43mself\u001b[39;49m\u001b[38;5;241;43m.\u001b[39;49m\u001b[43m_fit_java\u001b[49m\u001b[43m(\u001b[49m\u001b[43mdataset\u001b[49m\u001b[43m)\u001b[49m\n",
      "\u001b[1;32m   2063\u001b[0m     \u001b[38;5;28;01mreturn\u001b[39;00m \u001b[38;5;28mself\u001b[39m\u001b[38;5;241m.\u001b[39m_create_model(java_model)\n",
      "\n",
      "File \u001b[0;32m/usr/lib/spark/python/pyspark/ml/wrapper.py:378\u001b[0m, in \u001b[0;36mJavaEstimator._fit_java\u001b[0;34m(self, dataset)\u001b[0m\n",
      "\u001b[1;32m    375\u001b[0m \u001b[38;5;28;01massert\u001b[39;00m \u001b[38;5;28mself\u001b[39m\u001b[38;5;241m.\u001b[39m_java_obj \u001b[38;5;129;01mis\u001b[39;00m \u001b[38;5;129;01mnot\u001b[39;00m \u001b[38;5;28;01mNone\u001b[39;00m\n",
      "\u001b[1;32m    377\u001b[0m \u001b[38;5;28mself\u001b[39m\u001b[38;5;241m.\u001b[39m_transfer_params_to_java()\n",
      "\u001b[0;32m--> 378\u001b[0m \u001b[38;5;28;01mreturn\u001b[39;00m \u001b[38;5;28;43mself\u001b[39;49m\u001b[38;5;241;43m.\u001b[39;49m\u001b[43m_java_obj\u001b[49m\u001b[38;5;241;43m.\u001b[39;49m\u001b[43mfit\u001b[49m\u001b[43m(\u001b[49m\u001b[43mdataset\u001b[49m\u001b[38;5;241;43m.\u001b[39;49m\u001b[43m_jdf\u001b[49m\u001b[43m)\u001b[49m\n",
      "\n",
      "File \u001b[0;32m/usr/lib/spark/python/lib/py4j-0.10.9.7-src.zip/py4j/java_gateway.py:1322\u001b[0m, in \u001b[0;36mJavaMember.__call__\u001b[0;34m(self, *args)\u001b[0m\n",
      "\u001b[1;32m   1316\u001b[0m command \u001b[38;5;241m=\u001b[39m proto\u001b[38;5;241m.\u001b[39mCALL_COMMAND_NAME \u001b[38;5;241m+\u001b[39m\\\n",
      "\u001b[1;32m   1317\u001b[0m     \u001b[38;5;28mself\u001b[39m\u001b[38;5;241m.\u001b[39mcommand_header \u001b[38;5;241m+\u001b[39m\\\n",
      "\u001b[1;32m   1318\u001b[0m     args_command \u001b[38;5;241m+\u001b[39m\\\n",
      "\u001b[1;32m   1319\u001b[0m     proto\u001b[38;5;241m.\u001b[39mEND_COMMAND_PART\n",
      "\u001b[1;32m   1321\u001b[0m answer \u001b[38;5;241m=\u001b[39m \u001b[38;5;28mself\u001b[39m\u001b[38;5;241m.\u001b[39mgateway_client\u001b[38;5;241m.\u001b[39msend_command(command)\n",
      "\u001b[0;32m-> 1322\u001b[0m return_value \u001b[38;5;241m=\u001b[39m \u001b[43mget_return_value\u001b[49m\u001b[43m(\u001b[49m\n",
      "\u001b[1;32m   1323\u001b[0m \u001b[43m    \u001b[49m\u001b[43manswer\u001b[49m\u001b[43m,\u001b[49m\u001b[43m \u001b[49m\u001b[38;5;28;43mself\u001b[39;49m\u001b[38;5;241;43m.\u001b[39;49m\u001b[43mgateway_client\u001b[49m\u001b[43m,\u001b[49m\u001b[43m \u001b[49m\u001b[38;5;28;43mself\u001b[39;49m\u001b[38;5;241;43m.\u001b[39;49m\u001b[43mtarget_id\u001b[49m\u001b[43m,\u001b[49m\u001b[43m \u001b[49m\u001b[38;5;28;43mself\u001b[39;49m\u001b[38;5;241;43m.\u001b[39;49m\u001b[43mname\u001b[49m\u001b[43m)\u001b[49m\n",
      "\u001b[1;32m   1325\u001b[0m \u001b[38;5;28;01mfor\u001b[39;00m temp_arg \u001b[38;5;129;01min\u001b[39;00m temp_args:\n",
      "\u001b[1;32m   1326\u001b[0m     \u001b[38;5;28;01mif\u001b[39;00m \u001b[38;5;28mhasattr\u001b[39m(temp_arg, \u001b[38;5;124m\"\u001b[39m\u001b[38;5;124m_detach\u001b[39m\u001b[38;5;124m\"\u001b[39m):\n",
      "\n",
      "File \u001b[0;32m/usr/lib/spark/python/pyspark/errors/exceptions/captured.py:179\u001b[0m, in \u001b[0;36mcapture_sql_exception.<locals>.deco\u001b[0;34m(*a, **kw)\u001b[0m\n",
      "\u001b[1;32m    177\u001b[0m \u001b[38;5;28;01mdef\u001b[39;00m\u001b[38;5;250m \u001b[39m\u001b[38;5;21mdeco\u001b[39m(\u001b[38;5;241m*\u001b[39ma: Any, \u001b[38;5;241m*\u001b[39m\u001b[38;5;241m*\u001b[39mkw: Any) \u001b[38;5;241m-\u001b[39m\u001b[38;5;241m>\u001b[39m Any:\n",
      "\u001b[1;32m    178\u001b[0m     \u001b[38;5;28;01mtry\u001b[39;00m:\n",
      "\u001b[0;32m--> 179\u001b[0m         \u001b[38;5;28;01mreturn\u001b[39;00m \u001b[43mf\u001b[49m\u001b[43m(\u001b[49m\u001b[38;5;241;43m*\u001b[39;49m\u001b[43ma\u001b[49m\u001b[43m,\u001b[49m\u001b[43m \u001b[49m\u001b[38;5;241;43m*\u001b[39;49m\u001b[38;5;241;43m*\u001b[39;49m\u001b[43mkw\u001b[49m\u001b[43m)\u001b[49m\n",
      "\u001b[1;32m    180\u001b[0m     \u001b[38;5;28;01mexcept\u001b[39;00m Py4JJavaError \u001b[38;5;28;01mas\u001b[39;00m e:\n",
      "\u001b[1;32m    181\u001b[0m         converted \u001b[38;5;241m=\u001b[39m convert_exception(e\u001b[38;5;241m.\u001b[39mjava_exception)\n",
      "\n",
      "File \u001b[0;32m/usr/lib/spark/python/lib/py4j-0.10.9.7-src.zip/py4j/protocol.py:326\u001b[0m, in \u001b[0;36mget_return_value\u001b[0;34m(answer, gateway_client, target_id, name)\u001b[0m\n",
      "\u001b[1;32m    324\u001b[0m value \u001b[38;5;241m=\u001b[39m OUTPUT_CONVERTER[\u001b[38;5;28mtype\u001b[39m](answer[\u001b[38;5;241m2\u001b[39m:], gateway_client)\n",
      "\u001b[1;32m    325\u001b[0m \u001b[38;5;28;01mif\u001b[39;00m answer[\u001b[38;5;241m1\u001b[39m] \u001b[38;5;241m==\u001b[39m REFERENCE_TYPE:\n",
      "\u001b[0;32m--> 326\u001b[0m     \u001b[38;5;28;01mraise\u001b[39;00m Py4JJavaError(\n",
      "\u001b[1;32m    327\u001b[0m         \u001b[38;5;124m\"\u001b[39m\u001b[38;5;124mAn error occurred while calling \u001b[39m\u001b[38;5;132;01m{0}\u001b[39;00m\u001b[38;5;132;01m{1}\u001b[39;00m\u001b[38;5;132;01m{2}\u001b[39;00m\u001b[38;5;124m.\u001b[39m\u001b[38;5;130;01m\\n\u001b[39;00m\u001b[38;5;124m\"\u001b[39m\u001b[38;5;241m.\u001b[39m\n",
      "\u001b[1;32m    328\u001b[0m         \u001b[38;5;28mformat\u001b[39m(target_id, \u001b[38;5;124m\"\u001b[39m\u001b[38;5;124m.\u001b[39m\u001b[38;5;124m\"\u001b[39m, name), value)\n",
      "\u001b[1;32m    329\u001b[0m \u001b[38;5;28;01melse\u001b[39;00m:\n",
      "\u001b[1;32m    330\u001b[0m     \u001b[38;5;28;01mraise\u001b[39;00m Py4JError(\n",
      "\u001b[1;32m    331\u001b[0m         \u001b[38;5;124m\"\u001b[39m\u001b[38;5;124mAn error occurred while calling \u001b[39m\u001b[38;5;132;01m{0}\u001b[39;00m\u001b[38;5;132;01m{1}\u001b[39;00m\u001b[38;5;132;01m{2}\u001b[39;00m\u001b[38;5;124m. Trace:\u001b[39m\u001b[38;5;130;01m\\n\u001b[39;00m\u001b[38;5;132;01m{3}\u001b[39;00m\u001b[38;5;130;01m\\n\u001b[39;00m\u001b[38;5;124m\"\u001b[39m\u001b[38;5;241m.\u001b[39m\n",
      "\u001b[1;32m    332\u001b[0m         \u001b[38;5;28mformat\u001b[39m(target_id, \u001b[38;5;124m\"\u001b[39m\u001b[38;5;124m.\u001b[39m\u001b[38;5;124m\"\u001b[39m, name, value))\n",
      "\n",
      "\u001b[0;31mPy4JJavaError\u001b[0m: An error occurred while calling o123.fit.\n",
      ": org.apache.spark.SparkException: Job aborted due to stage failure: Task 0 in stage 335.0 failed 4 times, most recent failure: Lost task 0.3 in stage 335.0 (TID 2481) (st446-final-proj-w-2.europe-west2-c.c.st446-wt2025-id.internal executor 13): java.net.ConnectException: Connection refused (Connection refused)\n",
      "\tat java.base/java.net.PlainSocketImpl.socketConnect(Native Method)\n",
      "\tat java.base/java.net.AbstractPlainSocketImpl.doConnect(AbstractPlainSocketImpl.java:412)\n",
      "\tat java.base/java.net.AbstractPlainSocketImpl.connectToAddress(AbstractPlainSocketImpl.java:255)\n",
      "\tat java.base/java.net.AbstractPlainSocketImpl.connect(AbstractPlainSocketImpl.java:237)\n",
      "\tat java.base/java.net.SocksSocketImpl.connect(SocksSocketImpl.java:392)\n",
      "\tat java.base/java.net.Socket.connect(Socket.java:609)\n",
      "\tat java.base/java.net.Socket.connect(Socket.java:558)\n",
      "\tat java.base/java.net.Socket.<init>(Socket.java:454)\n",
      "\tat java.base/java.net.Socket.<init>(Socket.java:231)\n",
      "\tat com.microsoft.azure.synapse.ml.lightgbm.NetworkManager$.getNetworkTopologyInfoFromDriver(NetworkManager.scala:129)\n",
      "\tat com.microsoft.azure.synapse.ml.lightgbm.NetworkManager$.$anonfun$getGlobalNetworkInfo$2(NetworkManager.scala:116)\n",
      "\tat com.microsoft.azure.synapse.ml.core.utils.FaultToleranceUtils$.retryWithTimeout(FaultToleranceUtils.scala:24)\n",
      "\tat com.microsoft.azure.synapse.ml.core.utils.FaultToleranceUtils$.retryWithTimeout(FaultToleranceUtils.scala:29)\n",
      "\tat com.microsoft.azure.synapse.ml.core.utils.FaultToleranceUtils$.retryWithTimeout(FaultToleranceUtils.scala:29)\n",
      "\tat com.microsoft.azure.synapse.ml.core.utils.FaultToleranceUtils$.retryWithTimeout(FaultToleranceUtils.scala:29)\n",
      "\tat com.microsoft.azure.synapse.ml.core.utils.FaultToleranceUtils$.retryWithTimeout(FaultToleranceUtils.scala:29)\n",
      "\tat com.microsoft.azure.synapse.ml.lightgbm.NetworkManager$.$anonfun$getGlobalNetworkInfo$1(NetworkManager.scala:111)\n",
      "\tat com.microsoft.azure.synapse.ml.core.env.StreamUtilities$.using(StreamUtilities.scala:28)\n",
      "\tat com.microsoft.azure.synapse.ml.lightgbm.NetworkManager$.getGlobalNetworkInfo(NetworkManager.scala:107)\n",
      "\tat com.microsoft.azure.synapse.ml.lightgbm.BasePartitionTask.initialize(BasePartitionTask.scala:197)\n",
      "\tat com.microsoft.azure.synapse.ml.lightgbm.BasePartitionTask.mapPartitionTask(BasePartitionTask.scala:132)\n",
      "\tat com.microsoft.azure.synapse.ml.lightgbm.LightGBMBase.$anonfun$executePartitionTasks$1(LightGBMBase.scala:591)\n",
      "\tat org.apache.spark.sql.execution.MapPartitionsExec.$anonfun$doExecute$3(objects.scala:198)\n",
      "\tat org.apache.spark.rdd.RDD.$anonfun$mapPartitionsInternal$2(RDD.scala:893)\n",
      "\tat org.apache.spark.rdd.RDD.$anonfun$mapPartitionsInternal$2$adapted(RDD.scala:893)\n",
      "\tat org.apache.spark.rdd.MapPartitionsRDD.compute(MapPartitionsRDD.scala:52)\n",
      "\tat org.apache.spark.rdd.RDD.computeOrReadCheckpoint(RDD.scala:367)\n",
      "\tat org.apache.spark.rdd.RDD.iterator(RDD.scala:331)\n",
      "\tat org.apache.spark.rdd.MapPartitionsRDD.compute(MapPartitionsRDD.scala:52)\n",
      "\tat org.apache.spark.rdd.RDD.computeOrReadCheckpoint(RDD.scala:367)\n",
      "\tat org.apache.spark.rdd.RDD.iterator(RDD.scala:331)\n",
      "\tat org.apache.spark.rdd.MapPartitionsRDD.compute(MapPartitionsRDD.scala:52)\n",
      "\tat org.apache.spark.rdd.RDD.computeOrReadCheckpoint(RDD.scala:367)\n",
      "\tat org.apache.spark.rdd.RDD.iterator(RDD.scala:331)\n",
      "\tat org.apache.spark.scheduler.ResultTask.runTask(ResultTask.scala:93)\n",
      "\tat org.apache.spark.TaskContext.runTaskWithListeners(TaskContext.scala:166)\n",
      "\tat org.apache.spark.scheduler.Task.run(Task.scala:141)\n",
      "\tat org.apache.spark.executor.Executor$TaskRunner.$anonfun$run$4(Executor.scala:620)\n",
      "\tat org.apache.spark.util.SparkErrorUtils.tryWithSafeFinally(SparkErrorUtils.scala:64)\n",
      "\tat org.apache.spark.util.SparkErrorUtils.tryWithSafeFinally$(SparkErrorUtils.scala:61)\n",
      "\tat org.apache.spark.util.Utils$.tryWithSafeFinally(Utils.scala:96)\n",
      "\tat org.apache.spark.executor.Executor$TaskRunner.run(Executor.scala:623)\n",
      "\tat java.base/java.util.concurrent.ThreadPoolExecutor.runWorker(ThreadPoolExecutor.java:1128)\n",
      "\tat java.base/java.util.concurrent.ThreadPoolExecutor$Worker.run(ThreadPoolExecutor.java:628)\n",
      "\tat java.base/java.lang.Thread.run(Thread.java:829)\n",
      "\n",
      "Driver stacktrace:\n",
      "\tat org.apache.spark.scheduler.DAGScheduler.failJobAndIndependentStages(DAGScheduler.scala:2856)\n",
      "\tat org.apache.spark.scheduler.DAGScheduler.$anonfun$abortStage$2(DAGScheduler.scala:2792)\n",
      "\tat org.apache.spark.scheduler.DAGScheduler.$anonfun$abortStage$2$adapted(DAGScheduler.scala:2791)\n",
      "\tat scala.collection.mutable.ResizableArray.foreach(ResizableArray.scala:62)\n",
      "\tat scala.collection.mutable.ResizableArray.foreach$(ResizableArray.scala:55)\n",
      "\tat scala.collection.mutable.ArrayBuffer.foreach(ArrayBuffer.scala:49)\n",
      "\tat org.apache.spark.scheduler.DAGScheduler.abortStage(DAGScheduler.scala:2791)\n",
      "\tat org.apache.spark.scheduler.DAGScheduler.$anonfun$handleTaskSetFailed$1(DAGScheduler.scala:1247)\n",
      "\tat org.apache.spark.scheduler.DAGScheduler.$anonfun$handleTaskSetFailed$1$adapted(DAGScheduler.scala:1247)\n",
      "\tat scala.Option.foreach(Option.scala:407)\n",
      "\tat org.apache.spark.scheduler.DAGScheduler.handleTaskSetFailed(DAGScheduler.scala:1247)\n",
      "\tat org.apache.spark.scheduler.DAGSchedulerEventProcessLoop.doOnReceive(DAGScheduler.scala:3060)\n",
      "\tat org.apache.spark.scheduler.DAGSchedulerEventProcessLoop.onReceive(DAGScheduler.scala:2994)\n",
      "\tat org.apache.spark.scheduler.DAGSchedulerEventProcessLoop.onReceive(DAGScheduler.scala:2983)\n",
      "\tat org.apache.spark.util.EventLoop$$anon$1.run(EventLoop.scala:49)\n",
      "\tat org.apache.spark.scheduler.DAGScheduler.runJob(DAGScheduler.scala:989)\n",
      "\tat org.apache.spark.SparkContext.runJob(SparkContext.scala:2452)\n",
      "\tat org.apache.spark.SparkContext.runJob(SparkContext.scala:2473)\n",
      "\tat org.apache.spark.SparkContext.runJob(SparkContext.scala:2492)\n",
      "\tat org.apache.spark.SparkContext.runJob(SparkContext.scala:2517)\n",
      "\tat org.apache.spark.rdd.RDD.$anonfun$collect$1(RDD.scala:1049)\n",
      "\tat org.apache.spark.rdd.RDDOperationScope$.withScope(RDDOperationScope.scala:151)\n",
      "\tat org.apache.spark.rdd.RDDOperationScope$.withScope(RDDOperationScope.scala:112)\n",
      "\tat org.apache.spark.rdd.RDD.withScope(RDD.scala:410)\n",
      "\tat org.apache.spark.rdd.RDD.collect(RDD.scala:1048)\n",
      "\tat org.apache.spark.sql.execution.SparkPlan.executeCollect(SparkPlan.scala:448)\n",
      "\tat org.apache.spark.sql.execution.adaptive.AdaptiveSparkPlanExec.$anonfun$executeCollect$1(AdaptiveSparkPlanExec.scala:391)\n",
      "\tat org.apache.spark.sql.execution.adaptive.AdaptiveSparkPlanExec.withFinalPlanUpdate(AdaptiveSparkPlanExec.scala:419)\n",
      "\tat org.apache.spark.sql.execution.adaptive.AdaptiveSparkPlanExec.executeCollect(AdaptiveSparkPlanExec.scala:391)\n",
      "\tat org.apache.spark.sql.Dataset.collectFromPlan(Dataset.scala:4333)\n",
      "\tat org.apache.spark.sql.Dataset.$anonfun$collect$1(Dataset.scala:3575)\n",
      "\tat org.apache.spark.sql.Dataset.$anonfun$withAction$2(Dataset.scala:4323)\n",
      "\tat org.apache.spark.sql.execution.QueryExecution$.withInternalError(QueryExecution.scala:547)\n",
      "\tat org.apache.spark.sql.Dataset.$anonfun$withAction$1(Dataset.scala:4321)\n",
      "\tat org.apache.spark.sql.execution.SQLExecution$.$anonfun$withNewExecutionId$6(SQLExecution.scala:125)\n",
      "\tat org.apache.spark.sql.execution.SQLExecution$.withSQLConfPropagated(SQLExecution.scala:201)\n",
      "\tat org.apache.spark.sql.execution.SQLExecution$.$anonfun$withNewExecutionId$1(SQLExecution.scala:108)\n",
      "\tat org.apache.spark.sql.SparkSession.withActive(SparkSession.scala:900)\n",
      "\tat org.apache.spark.sql.execution.SQLExecution$.withNewExecutionId(SQLExecution.scala:66)\n",
      "\tat org.apache.spark.sql.Dataset.withAction(Dataset.scala:4321)\n",
      "\tat org.apache.spark.sql.Dataset.collect(Dataset.scala:3575)\n",
      "\tat com.microsoft.azure.synapse.ml.lightgbm.LightGBMBase.executePartitionTasks(LightGBMBase.scala:599)\n",
      "\tat com.microsoft.azure.synapse.ml.lightgbm.LightGBMBase.executePartitionTasks$(LightGBMBase.scala:584)\n",
      "\tat com.microsoft.azure.synapse.ml.lightgbm.LightGBMClassifier.executePartitionTasks(LightGBMClassifier.scala:27)\n",
      "\tat com.microsoft.azure.synapse.ml.lightgbm.LightGBMBase.executeTraining(LightGBMBase.scala:574)\n",
      "\tat com.microsoft.azure.synapse.ml.lightgbm.LightGBMBase.executeTraining$(LightGBMBase.scala:546)\n",
      "\tat com.microsoft.azure.synapse.ml.lightgbm.LightGBMClassifier.executeTraining(LightGBMClassifier.scala:27)\n",
      "\tat com.microsoft.azure.synapse.ml.lightgbm.LightGBMBase.trainOneDataBatch(LightGBMBase.scala:436)\n",
      "\tat com.microsoft.azure.synapse.ml.lightgbm.LightGBMBase.trainOneDataBatch$(LightGBMBase.scala:393)\n",
      "\tat com.microsoft.azure.synapse.ml.lightgbm.LightGBMClassifier.trainOneDataBatch(LightGBMClassifier.scala:27)\n",
      "\tat com.microsoft.azure.synapse.ml.lightgbm.LightGBMBase.$anonfun$train$2(LightGBMBase.scala:61)\n",
      "\tat com.microsoft.azure.synapse.ml.logging.SynapseMLLogging.logVerb(SynapseMLLogging.scala:87)\n",
      "\tat com.microsoft.azure.synapse.ml.logging.SynapseMLLogging.logVerb$(SynapseMLLogging.scala:84)\n",
      "\tat com.microsoft.azure.synapse.ml.lightgbm.LightGBMClassifier.logVerb(LightGBMClassifier.scala:27)\n",
      "\tat com.microsoft.azure.synapse.ml.logging.SynapseMLLogging.logTrain(SynapseMLLogging.scala:78)\n",
      "\tat com.microsoft.azure.synapse.ml.logging.SynapseMLLogging.logTrain$(SynapseMLLogging.scala:77)\n",
      "\tat com.microsoft.azure.synapse.ml.lightgbm.LightGBMClassifier.logTrain(LightGBMClassifier.scala:27)\n",
      "\tat com.microsoft.azure.synapse.ml.lightgbm.LightGBMBase.train(LightGBMBase.scala:63)\n",
      "\tat com.microsoft.azure.synapse.ml.lightgbm.LightGBMBase.train$(LightGBMBase.scala:35)\n",
      "\tat com.microsoft.azure.synapse.ml.lightgbm.LightGBMClassifier.train(LightGBMClassifier.scala:27)\n",
      "\tat com.microsoft.azure.synapse.ml.lightgbm.LightGBMClassifier.train(LightGBMClassifier.scala:27)\n",
      "\tat org.apache.spark.ml.Predictor.fit(Predictor.scala:114)\n",
      "\tat java.base/jdk.internal.reflect.NativeMethodAccessorImpl.invoke0(Native Method)\n",
      "\tat java.base/jdk.internal.reflect.NativeMethodAccessorImpl.invoke(NativeMethodAccessorImpl.java:62)\n",
      "\tat java.base/jdk.internal.reflect.DelegatingMethodAccessorImpl.invoke(DelegatingMethodAccessorImpl.java:43)\n",
      "\tat java.base/java.lang.reflect.Method.invoke(Method.java:566)\n",
      "\tat py4j.reflection.MethodInvoker.invoke(MethodInvoker.java:244)\n",
      "\tat py4j.reflection.ReflectionEngine.invoke(ReflectionEngine.java:374)\n",
      "\tat py4j.Gateway.invoke(Gateway.java:282)\n",
      "\tat py4j.commands.AbstractCommand.invokeMethod(AbstractCommand.java:132)\n",
      "\tat py4j.commands.CallCommand.execute(CallCommand.java:79)\n",
      "\tat py4j.ClientServerConnection.waitForCommands(ClientServerConnection.java:182)\n",
      "\tat py4j.ClientServerConnection.run(ClientServerConnection.java:106)\n",
      "\tat java.base/java.lang.Thread.run(Thread.java:829)\n",
      "Caused by: java.net.ConnectException: Connection refused (Connection refused)\n",
      "\tat java.base/java.net.PlainSocketImpl.socketConnect(Native Method)\n",
      "\tat java.base/java.net.AbstractPlainSocketImpl.doConnect(AbstractPlainSocketImpl.java:412)\n",
      "\tat java.base/java.net.AbstractPlainSocketImpl.connectToAddress(AbstractPlainSocketImpl.java:255)\n",
      "\tat java.base/java.net.AbstractPlainSocketImpl.connect(AbstractPlainSocketImpl.java:237)\n",
      "\tat java.base/java.net.SocksSocketImpl.connect(SocksSocketImpl.java:392)\n",
      "\tat java.base/java.net.Socket.connect(Socket.java:609)\n",
      "\tat java.base/java.net.Socket.connect(Socket.java:558)\n",
      "\tat java.base/java.net.Socket.<init>(Socket.java:454)\n",
      "\tat java.base/java.net.Socket.<init>(Socket.java:231)\n",
      "\tat com.microsoft.azure.synapse.ml.lightgbm.NetworkManager$.getNetworkTopologyInfoFromDriver(NetworkManager.scala:129)\n",
      "\tat com.microsoft.azure.synapse.ml.lightgbm.NetworkManager$.$anonfun$getGlobalNetworkInfo$2(NetworkManager.scala:116)\n",
      "\tat com.microsoft.azure.synapse.ml.core.utils.FaultToleranceUtils$.retryWithTimeout(FaultToleranceUtils.scala:24)\n",
      "\tat com.microsoft.azure.synapse.ml.core.utils.FaultToleranceUtils$.retryWithTimeout(FaultToleranceUtils.scala:29)\n",
      "\tat com.microsoft.azure.synapse.ml.core.utils.FaultToleranceUtils$.retryWithTimeout(FaultToleranceUtils.scala:29)\n",
      "\tat com.microsoft.azure.synapse.ml.core.utils.FaultToleranceUtils$.retryWithTimeout(FaultToleranceUtils.scala:29)\n",
      "\tat com.microsoft.azure.synapse.ml.core.utils.FaultToleranceUtils$.retryWithTimeout(FaultToleranceUtils.scala:29)\n",
      "\tat com.microsoft.azure.synapse.ml.lightgbm.NetworkManager$.$anonfun$getGlobalNetworkInfo$1(NetworkManager.scala:111)\n",
      "\tat com.microsoft.azure.synapse.ml.core.env.StreamUtilities$.using(StreamUtilities.scala:28)\n",
      "\tat com.microsoft.azure.synapse.ml.lightgbm.NetworkManager$.getGlobalNetworkInfo(NetworkManager.scala:107)\n",
      "\tat com.microsoft.azure.synapse.ml.lightgbm.BasePartitionTask.initialize(BasePartitionTask.scala:197)\n",
      "\tat com.microsoft.azure.synapse.ml.lightgbm.BasePartitionTask.mapPartitionTask(BasePartitionTask.scala:132)\n",
      "\tat com.microsoft.azure.synapse.ml.lightgbm.LightGBMBase.$anonfun$executePartitionTasks$1(LightGBMBase.scala:591)\n",
      "\tat org.apache.spark.sql.execution.MapPartitionsExec.$anonfun$doExecute$3(objects.scala:198)\n",
      "\tat org.apache.spark.rdd.RDD.$anonfun$mapPartitionsInternal$2(RDD.scala:893)\n",
      "\tat org.apache.spark.rdd.RDD.$anonfun$mapPartitionsInternal$2$adapted(RDD.scala:893)\n",
      "\tat org.apache.spark.rdd.MapPartitionsRDD.compute(MapPartitionsRDD.scala:52)\n",
      "\tat org.apache.spark.rdd.RDD.computeOrReadCheckpoint(RDD.scala:367)\n",
      "\tat org.apache.spark.rdd.RDD.iterator(RDD.scala:331)\n",
      "\tat org.apache.spark.rdd.MapPartitionsRDD.compute(MapPartitionsRDD.scala:52)\n",
      "\tat org.apache.spark.rdd.RDD.computeOrReadCheckpoint(RDD.scala:367)\n",
      "\tat org.apache.spark.rdd.RDD.iterator(RDD.scala:331)\n",
      "\tat org.apache.spark.rdd.MapPartitionsRDD.compute(MapPartitionsRDD.scala:52)\n",
      "\tat org.apache.spark.rdd.RDD.computeOrReadCheckpoint(RDD.scala:367)\n",
      "\tat org.apache.spark.rdd.RDD.iterator(RDD.scala:331)\n",
      "\tat org.apache.spark.scheduler.ResultTask.runTask(ResultTask.scala:93)\n",
      "\tat org.apache.spark.TaskContext.runTaskWithListeners(TaskContext.scala:166)\n",
      "\tat org.apache.spark.scheduler.Task.run(Task.scala:141)\n",
      "\tat org.apache.spark.executor.Executor$TaskRunner.$anonfun$run$4(Executor.scala:620)\n",
      "\tat org.apache.spark.util.SparkErrorUtils.tryWithSafeFinally(SparkErrorUtils.scala:64)\n",
      "\tat org.apache.spark.util.SparkErrorUtils.tryWithSafeFinally$(SparkErrorUtils.scala:61)\n",
      "\tat org.apache.spark.util.Utils$.tryWithSafeFinally(Utils.scala:96)\n",
      "\tat org.apache.spark.executor.Executor$TaskRunner.run(Executor.scala:623)\n",
      "\tat java.base/java.util.concurrent.ThreadPoolExecutor.runWorker(ThreadPoolExecutor.java:1128)\n",
      "\tat java.base/java.util.concurrent.ThreadPoolExecutor$Worker.run(ThreadPoolExecutor.java:628)\n",
      "\t... 1 more\n"
     ]
    },
    {
     "name": "stderr",
     "output_type": "stream",
     "text": [
      "[Stage 335:>                                                        (0 + 5) / 6]\r"
     ]
    }
   ],
   "source": [
    "# Define the sample sizes we want to test (5%, 25%, 100%)\n",
    "sample = [0.05, 0.25, 1.0]\n",
    "#num_workers = 2\n",
    "num_workers = 3\n",
    "\n",
    "# decide how many Spark partitions we want per worker\n",
    "partitions_per_frac = 18\n",
    "\n",
    "for frac in sample:\n",
    "    # mark the start of the sampling + fit block\n",
    "    start = datetime.now(timezone.utc)\n",
    "    print(\"Start time for sampling:\", start)\n",
    "    \n",
    "    # if 100% sample, use the full train_df dataframe\n",
    "    # else, take a stratified sample\n",
    "    if frac == 1.0:\n",
    "            # Use the full DataFrame directly\n",
    "            sample_df = train_df\n",
    "            print(\"Using full train_df (100% sample)\")\n",
    "    else:\n",
    "            # Stratified sample\n",
    "            frac_map  = {0: frac, 1: frac}\n",
    "            sample_df = train_df.stat.sampleBy(\"label\", fractions=frac_map, seed=42)\n",
    "            print(f\"Created sample df on {int(frac*100)}% sample\")\n",
    "\n",
    "    # repartition for parallelism \n",
    "    sample_df = sample_df.repartition(partitions_per_frac)\n",
    "    print(\"Repartition complete\")\n",
    "    \n",
    "    # Cache only if it's a new DataFrame (i.e. not the original train_df)\n",
    "    if frac < 1.0:\n",
    "        sample_df.cache().count()\n",
    "        print(\"Cache complete\")\n",
    "    else:\n",
    "        print(\"Skipping cache for full dataset\")\n",
    "            \n",
    "    # 5) do the model fits & evals on sample_df\n",
    "    for name, pipeline in pipelines.items():\n",
    "        \n",
    "        print(\"================================\")\n",
    "        print(f\"Fitting model: {name} on {int(frac*100)}% sample\")\n",
    "        print(\"================================\")\n",
    "\n",
    "        # 1) Fit\n",
    "        t0    = time.time()\n",
    "        model = pipeline.fit(sample_df)\n",
    "        fit_tm = time.time() - t0\n",
    "        print(\"Model fit complete\")\n",
    "\n",
    "        # 2) Inference\n",
    "        preds = model.transform(test_df)\n",
    "        print(\"Successfuly ran preds = model.transform(test_df)\")\n",
    "        \n",
    "        # 3) Decide which columns to pull for metrics\n",
    "        cols_to_collect = [\"label\", \"prediction\"]\n",
    "\n",
    "        # a) probability -> prob_score\n",
    "        if \"probability\" in preds.columns:\n",
    "            try:\n",
    "                preds = preds.withColumn(\"prob_array\", vector_to_array(\"probability\"))\n",
    "                preds = preds.withColumn(\"prob_score\", preds[\"prob_array\"][1])\n",
    "                cols_to_collect.append(\"prob_score\")\n",
    "            except Exception as e:\n",
    "                print(\"Warning: Could not extract prob_score:\", e)\n",
    "\n",
    "        # b) anomalyScore\n",
    "        if \"anomalyScore\" in preds.columns:\n",
    "            cols_to_collect.append(\"anomalyScore\")\n",
    "\n",
    "        # 4) Pull into Pandas\n",
    "        pdf   = preds.select(*cols_to_collect).toPandas()\n",
    "        y_true= pdf[\"label\"]\n",
    "        y_pred= pdf[\"prediction\"]\n",
    "\n",
    "        # 5) Choose a scoring column\n",
    "        if \"anomalyScore\" in pdf.columns:\n",
    "            y_score = -pdf[\"anomalyScore\"]\n",
    "        elif \"prob_score\" in pdf.columns:\n",
    "            y_score = pdf[\"prob_score\"]\n",
    "        else:\n",
    "            y_score = y_pred  # fallback\n",
    "\n",
    "        # 5) Compute sklearn metrics\n",
    "        accuracy  = accuracy_score(y_true, y_pred)\n",
    "        precision = precision_score(y_true, y_pred, zero_division=0)\n",
    "        recall    = recall_score(y_true, y_pred, zero_division=0)\n",
    "        f1        = f1_score(y_true, y_pred, zero_division=0)\n",
    "        try:\n",
    "            roc_auc = roc_auc_score(y_true, y_score)\n",
    "            pr_auc  = average_precision_score(y_true, y_score)\n",
    "        except ValueError:\n",
    "            roc_auc = pr_auc = float(\"nan\")\n",
    "        \n",
    "        print(\"Successfully pulled sklearn metrics \")\n",
    "\n",
    "        # 6) Record everything\n",
    "        _cell_times.append({\n",
    "            \"operation\":  f\"eval_{name}_{int(frac*100)}pct\",\n",
    "            \"start\":      start,\n",
    "            \"end\":        datetime.now(timezone.utc),\n",
    "            \"model\":      name,\n",
    "            \"fraction\":   frac,\n",
    "            \"fit_time_s\": round(fit_tm,   2),\n",
    "            \"accuracy\":   round(accuracy,  4),\n",
    "            \"precision\":  round(precision, 4),\n",
    "            \"recall\":     round(recall,    4),\n",
    "            \"f1_score\":   round(f1,        4),\n",
    "            \"roc_auc\":    round(roc_auc,   4),\n",
    "            \"pr_auc\":     round(pr_auc,    4),\n",
    "            \"partitions\": sample_df.rdd.getNumPartitions(),\n",
    "        })\n",
    "\n",
    "        print(\"\\n--- Evaluation Results ---\")\n",
    "        print(f\"Fit Time (s): {round(fit_tm, 2)}\")\n",
    "        print(f\"Accuracy: {round(accuracy, 4)} | Precision: {round(precision, 4)} | Recall: {round(recall, 4)}\")\n",
    "        print(f\"F1: {round(f1, 4)} | ROC-AUC: {round(roc_auc, 4)} | PR-AUC: {round(pr_auc, 4)}\")\n",
    "        print(f\"Partitions: {sample_df.rdd.getNumPartitions()}\")\n",
    "\n",
    "    # 6) unpersist & drop before the next iteration\n",
    "    sample_df.unpersist()\n",
    "    del sample_df"
   ]
  },
  {
   "cell_type": "markdown",
   "id": "4a092d5d",
   "metadata": {},
   "source": [
    "### LightGBM and Isolation Forest - 100% sample on 3 worker nodes"
   ]
  },
  {
   "cell_type": "code",
   "execution_count": null,
   "id": "01f720ea",
   "metadata": {},
   "outputs": [
    {
     "name": "stdout",
     "output_type": "stream",
     "text": [
      "Start time for sampling: 2025-05-06 08:19:02.284720+00:00\n",
      "Using full train_df (100% sample)\n",
      "Repartition complete\n",
      "Skipping cache for full dataset\n",
      "================================\n",
      "Fitting model: LightGBM on 100% sample\n",
      "================================\n"
     ]
    },
    {
     "name": "stderr",
     "output_type": "stream",
     "text": [
      "25/05/06 08:19:33 WARN SparkStringUtils: Truncated the string representation of a plan since it was too large. This behavior can be adjusted by setting 'spark.sql.debug.maxToStringFields'.\n",
      "                                                                                \r"
     ]
    },
    {
     "name": "stdout",
     "output_type": "stream",
     "text": [
      "Model fit complete\n",
      "Successfuly ran preds = model.transform(test_df)\n"
     ]
    },
    {
     "name": "stderr",
     "output_type": "stream",
     "text": [
      "                                                                                \r"
     ]
    },
    {
     "name": "stdout",
     "output_type": "stream",
     "text": [
      "Successfully pulled sklearn metrics \n"
     ]
    },
    {
     "name": "stderr",
     "output_type": "stream",
     "text": [
      "[Stage 33:====================================================>   (17 + 1) / 18]\r"
     ]
    },
    {
     "name": "stdout",
     "output_type": "stream",
     "text": [
      "\n",
      "--- Evaluation Results ---\n",
      "Fit Time (s): 181.84\n",
      "Accuracy: 0.999 | Precision: 0.6667 | Recall: 0.7957\n",
      "F1: 0.7255 | ROC-AUC: 0.9654 | PR-AUC: 0.6514\n",
      "Partitions: 18\n",
      "================================\n",
      "Fitting model: IsolationForest on 100% sample\n",
      "================================\n"
     ]
    },
    {
     "name": "stderr",
     "output_type": "stream",
     "text": [
      "25/05/06 08:31:04 WARN DAGScheduler: Broadcasting large task binary with size 18.9 MiB\n",
      "25/05/06 08:32:12 WARN DAGScheduler: Broadcasting large task binary with size 18.9 MiB\n",
      "25/05/06 08:32:21 WARN DAGScheduler: Broadcasting large task binary with size 18.9 MiB\n",
      "25/05/06 08:32:28 WARN BlockManagerMasterEndpoint: No more replicas available for rdd_162_2 !\n",
      "25/05/06 08:32:28 WARN BlockManagerMasterEndpoint: No more replicas available for rdd_162_17 !\n",
      "25/05/06 08:32:28 WARN BlockManagerMasterEndpoint: No more replicas available for rdd_162_10 !\n",
      "25/05/06 08:32:29 WARN YarnAllocator: Container from a bad node: container_1746518883666_0001_01_000001 on host: st446-final-proj-w-0.europe-west2-c.c.st446-wt2025-id.internal. Exit status: 143. Diagnostics: [2025-05-06 08:32:28.979]Container killed on request. Exit code is 143\n",
      "[2025-05-06 08:32:28.983]Container exited with a non-zero exit code 143. \n",
      "[2025-05-06 08:32:28.985]Killed by external signal\n",
      ".\n",
      "25/05/06 08:32:29 WARN YarnSchedulerBackend$YarnSchedulerEndpoint: Requesting driver to remove executor 1 for reason Container from a bad node: container_1746518883666_0001_01_000001 on host: st446-final-proj-w-0.europe-west2-c.c.st446-wt2025-id.internal. Exit status: 143. Diagnostics: [2025-05-06 08:32:28.979]Container killed on request. Exit code is 143\n",
      "[2025-05-06 08:32:28.983]Container exited with a non-zero exit code 143. \n",
      "[2025-05-06 08:32:28.985]Killed by external signal\n",
      ".\n",
      "25/05/06 08:32:29 ERROR YarnScheduler: Lost executor 1 on st446-final-proj-w-0.europe-west2-c.c.st446-wt2025-id.internal: Container from a bad node: container_1746518883666_0001_01_000001 on host: st446-final-proj-w-0.europe-west2-c.c.st446-wt2025-id.internal. Exit status: 143. Diagnostics: [2025-05-06 08:32:28.979]Container killed on request. Exit code is 143\n",
      "[2025-05-06 08:32:28.983]Container exited with a non-zero exit code 143. \n",
      "[2025-05-06 08:32:28.985]Killed by external signal\n",
      ".\n",
      "25/05/06 08:32:29 WARN TaskSetManager: Lost task 2.0 in stage 52.0 (TID 389) (st446-final-proj-w-0.europe-west2-c.c.st446-wt2025-id.internal executor 1): ExecutorLostFailure (executor 1 exited caused by one of the running tasks) Reason: Container from a bad node: container_1746518883666_0001_01_000001 on host: st446-final-proj-w-0.europe-west2-c.c.st446-wt2025-id.internal. Exit status: 143. Diagnostics: [2025-05-06 08:32:28.979]Container killed on request. Exit code is 143\n",
      "[2025-05-06 08:32:28.983]Container exited with a non-zero exit code 143. \n",
      "[2025-05-06 08:32:28.985]Killed by external signal\n",
      ".\n",
      "25/05/06 08:32:40 WARN DAGScheduler: Broadcasting large task binary with size 18.9 MiB\n",
      "25/05/06 08:33:04 WARN DAGScheduler: Broadcasting large task binary with size 18.9 MiB\n",
      "                                                                                \r"
     ]
    },
    {
     "name": "stdout",
     "output_type": "stream",
     "text": [
      "Model fit complete\n",
      "Successfuly ran preds = model.transform(test_df)\n"
     ]
    },
    {
     "name": "stderr",
     "output_type": "stream",
     "text": [
      "25/05/06 08:33:16 WARN DAGScheduler: Broadcasting large task binary with size 18.8 MiB\n",
      "                                                                                \r"
     ]
    },
    {
     "name": "stdout",
     "output_type": "stream",
     "text": [
      "Successfully pulled sklearn metrics \n",
      "\n",
      "--- Evaluation Results ---\n",
      "Fit Time (s): 630.9\n",
      "Accuracy: 0.998 | Precision: 0.0476 | Recall: 0.0108\n",
      "F1: 0.0175 | ROC-AUC: 0.5052 | PR-AUC: 0.0021\n",
      "Partitions: 18\n",
      "================================\n",
      "Fitting model: RandomForest on 100% sample\n",
      "================================\n"
     ]
    },
    {
     "name": "stderr",
     "output_type": "stream",
     "text": [
      "25/05/06 08:33:32 WARN BlockManagerMasterEndpoint: No more replicas available for rdd_162_3 !\n",
      "25/05/06 08:33:32 WARN BlockManagerMasterEndpoint: No more replicas available for rdd_162_9 !\n",
      "25/05/06 08:33:32 WARN BlockManagerMasterEndpoint: No more replicas available for rdd_162_17 !\n",
      "25/05/06 08:33:32 WARN BlockManagerMasterEndpoint: No more replicas available for rdd_162_15 !\n",
      "25/05/06 08:33:32 WARN YarnAllocator: Container from a bad node: container_1746518883666_0001_01_000006 on host: st446-final-proj-w-2.europe-west2-c.c.st446-wt2025-id.internal. Exit status: 143. Diagnostics: [2025-05-06 08:33:32.636]Container killed on request. Exit code is 143\n",
      "[2025-05-06 08:33:32.637]Container exited with a non-zero exit code 143. \n",
      "[2025-05-06 08:33:32.637]Killed by external signal\n",
      ".\n",
      "25/05/06 08:33:32 WARN YarnSchedulerBackend$YarnSchedulerEndpoint: Requesting driver to remove executor 6 for reason Container from a bad node: container_1746518883666_0001_01_000006 on host: st446-final-proj-w-2.europe-west2-c.c.st446-wt2025-id.internal. Exit status: 143. Diagnostics: [2025-05-06 08:33:32.636]Container killed on request. Exit code is 143\n",
      "[2025-05-06 08:33:32.637]Container exited with a non-zero exit code 143. \n",
      "[2025-05-06 08:33:32.637]Killed by external signal\n",
      ".\n",
      "25/05/06 08:33:32 ERROR YarnScheduler: Lost executor 6 on st446-final-proj-w-2.europe-west2-c.c.st446-wt2025-id.internal: Container from a bad node: container_1746518883666_0001_01_000006 on host: st446-final-proj-w-2.europe-west2-c.c.st446-wt2025-id.internal. Exit status: 143. Diagnostics: [2025-05-06 08:33:32.636]Container killed on request. Exit code is 143\n",
      "[2025-05-06 08:33:32.637]Container exited with a non-zero exit code 143. \n",
      "[2025-05-06 08:33:32.637]Killed by external signal\n",
      ".\n",
      "25/05/06 08:33:32 WARN TaskSetManager: Lost task 0.0 in stage 61.0 (TID 435) (st446-final-proj-w-2.europe-west2-c.c.st446-wt2025-id.internal executor 6): ExecutorLostFailure (executor 6 exited caused by one of the running tasks) Reason: Container from a bad node: container_1746518883666_0001_01_000006 on host: st446-final-proj-w-2.europe-west2-c.c.st446-wt2025-id.internal. Exit status: 143. Diagnostics: [2025-05-06 08:33:32.636]Container killed on request. Exit code is 143\n",
      "[2025-05-06 08:33:32.637]Container exited with a non-zero exit code 143. \n",
      "[2025-05-06 08:33:32.637]Killed by external signal\n",
      ".\n",
      "25/05/06 08:34:46 WARN BlockManagerMasterEndpoint: No more replicas available for rdd_162_0 !\n",
      "25/05/06 08:34:46 WARN BlockManagerMasterEndpoint: No more replicas available for rdd_162_16 !\n",
      "25/05/06 08:34:46 WARN BlockManagerMasterEndpoint: No more replicas available for rdd_162_11 !\n",
      "25/05/06 08:34:47 WARN YarnAllocator: Container from a bad node: container_1746518883666_0001_01_000004 on host: st446-final-proj-w-1.europe-west2-c.c.st446-wt2025-id.internal. Exit status: 143. Diagnostics: [2025-05-06 08:34:47.096]Container killed on request. Exit code is 143\n",
      "[2025-05-06 08:34:47.106]Container exited with a non-zero exit code 143. \n",
      "[2025-05-06 08:34:47.108]Killed by external signal\n",
      ".\n",
      "25/05/06 08:34:47 ERROR YarnScheduler: Lost executor 4 on st446-final-proj-w-1.europe-west2-c.c.st446-wt2025-id.internal: Container from a bad node: container_1746518883666_0001_01_000004 on host: st446-final-proj-w-1.europe-west2-c.c.st446-wt2025-id.internal. Exit status: 143. Diagnostics: [2025-05-06 08:34:47.096]Container killed on request. Exit code is 143\n",
      "[2025-05-06 08:34:47.106]Container exited with a non-zero exit code 143. \n",
      "[2025-05-06 08:34:47.108]Killed by external signal\n",
      ".\n",
      "25/05/06 08:34:47 WARN YarnSchedulerBackend$YarnSchedulerEndpoint: Requesting driver to remove executor 4 for reason Container from a bad node: container_1746518883666_0001_01_000004 on host: st446-final-proj-w-1.europe-west2-c.c.st446-wt2025-id.internal. Exit status: 143. Diagnostics: [2025-05-06 08:34:47.096]Container killed on request. Exit code is 143\n",
      "[2025-05-06 08:34:47.106]Container exited with a non-zero exit code 143. \n",
      "[2025-05-06 08:34:47.108]Killed by external signal\n",
      ".\n",
      "25/05/06 08:34:51 ERROR Instrumentation: org.apache.spark.SparkException: Job 45 cancelled because SparkContext was shut down\n",
      "\tat org.apache.spark.scheduler.DAGScheduler.$anonfun$cleanUpAfterSchedulerStop$1(DAGScheduler.scala:1253)\n",
      "\tat org.apache.spark.scheduler.DAGScheduler.$anonfun$cleanUpAfterSchedulerStop$1$adapted(DAGScheduler.scala:1251)\n",
      "\tat scala.collection.mutable.HashSet.foreach(HashSet.scala:79)\n",
      "\tat org.apache.spark.scheduler.DAGScheduler.cleanUpAfterSchedulerStop(DAGScheduler.scala:1251)\n",
      "\tat org.apache.spark.scheduler.DAGSchedulerEventProcessLoop.onStop(DAGScheduler.scala:3087)\n",
      "\tat org.apache.spark.util.EventLoop.stop(EventLoop.scala:84)\n",
      "\tat org.apache.spark.scheduler.DAGScheduler.$anonfun$stop$3(DAGScheduler.scala:2973)\n",
      "\tat org.apache.spark.util.Utils$.tryLogNonFatalError(Utils.scala:1377)\n",
      "\tat org.apache.spark.scheduler.DAGScheduler.stop(DAGScheduler.scala:2973)\n",
      "\tat org.apache.spark.SparkContext.$anonfun$stop$12(SparkContext.scala:2317)\n",
      "\tat org.apache.spark.util.Utils$.tryLogNonFatalError(Utils.scala:1377)\n",
      "\tat org.apache.spark.SparkContext.stop(SparkContext.scala:2317)\n",
      "\tat org.apache.spark.SparkContext.stop(SparkContext.scala:2270)\n",
      "\tat org.apache.spark.SparkContext.$anonfun$new$37(SparkContext.scala:732)\n",
      "\tat org.apache.spark.util.SparkShutdownHook.run(ShutdownHookManager.scala:214)\n",
      "\tat org.apache.spark.util.SparkShutdownHookManager.$anonfun$runAll$2(ShutdownHookManager.scala:188)\n",
      "\tat scala.runtime.java8.JFunction0$mcV$sp.apply(JFunction0$mcV$sp.java:23)\n",
      "\tat org.apache.spark.util.Utils$.logUncaughtExceptions(Utils.scala:1930)\n",
      "\tat org.apache.spark.util.SparkShutdownHookManager.$anonfun$runAll$1(ShutdownHookManager.scala:188)\n",
      "\tat scala.runtime.java8.JFunction0$mcV$sp.apply(JFunction0$mcV$sp.java:23)\n",
      "\tat scala.util.Try$.apply(Try.scala:213)\n",
      "\tat org.apache.spark.util.SparkShutdownHookManager.runAll(ShutdownHookManager.scala:188)\n",
      "\tat org.apache.spark.util.SparkShutdownHookManager$$anon$2.run(ShutdownHookManager.scala:178)\n",
      "\tat java.base/java.util.concurrent.Executors$RunnableAdapter.call(Executors.java:515)\n",
      "\tat java.base/java.util.concurrent.FutureTask.run(FutureTask.java:264)\n",
      "\tat java.base/java.util.concurrent.ThreadPoolExecutor.runWorker(ThreadPoolExecutor.java:1128)\n",
      "\tat java.base/java.util.concurrent.ThreadPoolExecutor$Worker.run(ThreadPoolExecutor.java:628)\n",
      "\tat java.base/java.lang.Thread.run(Thread.java:829)\n",
      "\tat org.apache.spark.scheduler.DAGScheduler.runJob(DAGScheduler.scala:989)\n",
      "\tat org.apache.spark.SparkContext.runJob(SparkContext.scala:2452)\n",
      "\tat org.apache.spark.SparkContext.runJob(SparkContext.scala:2547)\n",
      "\tat org.apache.spark.rdd.RDD.$anonfun$aggregate$1(RDD.scala:1228)\n",
      "\tat org.apache.spark.rdd.RDDOperationScope$.withScope(RDDOperationScope.scala:151)\n",
      "\tat org.apache.spark.rdd.RDDOperationScope$.withScope(RDDOperationScope.scala:112)\n",
      "\tat org.apache.spark.rdd.RDD.withScope(RDD.scala:410)\n",
      "\tat org.apache.spark.rdd.RDD.aggregate(RDD.scala:1221)\n",
      "\tat org.apache.spark.ml.tree.impl.DecisionTreeMetadata$.buildMetadata(DecisionTreeMetadata.scala:125)\n",
      "\tat org.apache.spark.ml.tree.impl.RandomForest$.run(RandomForest.scala:274)\n",
      "\tat org.apache.spark.ml.classification.RandomForestClassifier.$anonfun$train$1(RandomForestClassifier.scala:168)\n",
      "\tat org.apache.spark.ml.util.Instrumentation$.$anonfun$instrumented$1(Instrumentation.scala:191)\n",
      "\tat scala.util.Try$.apply(Try.scala:213)\n",
      "\tat org.apache.spark.ml.util.Instrumentation$.instrumented(Instrumentation.scala:191)\n",
      "\tat org.apache.spark.ml.classification.RandomForestClassifier.train(RandomForestClassifier.scala:139)\n",
      "\tat org.apache.spark.ml.classification.RandomForestClassifier.train(RandomForestClassifier.scala:47)\n",
      "\tat org.apache.spark.ml.Predictor.fit(Predictor.scala:114)\n",
      "\tat java.base/jdk.internal.reflect.NativeMethodAccessorImpl.invoke0(Native Method)\n",
      "\tat java.base/jdk.internal.reflect.NativeMethodAccessorImpl.invoke(NativeMethodAccessorImpl.java:62)\n",
      "\tat java.base/jdk.internal.reflect.DelegatingMethodAccessorImpl.invoke(DelegatingMethodAccessorImpl.java:43)\n",
      "\tat java.base/java.lang.reflect.Method.invoke(Method.java:566)\n",
      "\tat py4j.reflection.MethodInvoker.invoke(MethodInvoker.java:244)\n",
      "\tat py4j.reflection.ReflectionEngine.invoke(ReflectionEngine.java:374)\n",
      "\tat py4j.Gateway.invoke(Gateway.java:282)\n",
      "\tat py4j.commands.AbstractCommand.invokeMethod(AbstractCommand.java:132)\n",
      "\tat py4j.commands.CallCommand.execute(CallCommand.java:79)\n",
      "\tat py4j.ClientServerConnection.waitForCommands(ClientServerConnection.java:182)\n",
      "\tat py4j.ClientServerConnection.run(ClientServerConnection.java:106)\n",
      "\tat java.base/java.lang.Thread.run(Thread.java:829)\n",
      "\n"
     ]
    },
    {
     "name": "stderr",
     "output_type": "stream",
     "text": [
      "ERROR:root:Exception while sending command.\n",
      "Traceback (most recent call last):\n",
      "  File \"/opt/conda/miniconda3/lib/python3.11/site-packages/IPython/core/interactiveshell.py\", line 3579, in run_code\n",
      "    exec(code_obj, self.user_global_ns, self.user_ns)\n",
      "  File \"/tmp/ipykernel_12438/3566512511.py\", line 46, in <module>\n",
      "    model = pipeline.fit(sample_df)\n",
      "            ^^^^^^^^^^^^^^^^^^^^^^^\n",
      "  File \"/usr/lib/spark/python/pyspark/ml/base.py\", line 205, in fit\n",
      "    return self._fit(dataset)\n",
      "           ^^^^^^^^^^^^^^^^^^\n",
      "  File \"/usr/lib/spark/python/pyspark/ml/pipeline.py\", line 134, in _fit\n",
      "    model = stage.fit(dataset)\n",
      "            ^^^^^^^^^^^^^^^^^^\n",
      "  File \"/usr/lib/spark/python/pyspark/ml/base.py\", line 205, in fit\n",
      "    return self._fit(dataset)\n",
      "           ^^^^^^^^^^^^^^^^^^\n",
      "  File \"/usr/lib/spark/python/pyspark/ml/wrapper.py\", line 381, in _fit\n",
      "    java_model = self._fit_java(dataset)\n",
      "                 ^^^^^^^^^^^^^^^^^^^^^^^\n",
      "  File \"/usr/lib/spark/python/pyspark/ml/wrapper.py\", line 378, in _fit_java\n",
      "    return self._java_obj.fit(dataset._jdf)\n",
      "           ^^^^^^^^^^^^^^^^^^^^^^^^^^^^^^^^\n",
      "  File \"/usr/lib/spark/python/lib/py4j-0.10.9.7-src.zip/py4j/java_gateway.py\", line 1322, in __call__\n",
      "    return_value = get_return_value(\n",
      "                   ^^^^^^^^^^^^^^^^^\n",
      "  File \"/usr/lib/spark/python/pyspark/errors/exceptions/captured.py\", line 179, in deco\n",
      "    return f(*a, **kw)\n",
      "           ^^^^^^^^^^^\n",
      "  File \"/usr/lib/spark/python/lib/py4j-0.10.9.7-src.zip/py4j/protocol.py\", line 326, in get_return_value\n",
      "    raise Py4JJavaError(\n",
      "py4j.protocol.Py4JJavaError: <exception str() failed>\n",
      "\n",
      "During handling of the above exception, another exception occurred:\n",
      "\n",
      "Traceback (most recent call last):\n",
      "  File \"/usr/lib/spark/python/lib/py4j-0.10.9.7-src.zip/py4j/clientserver.py\", line 511, in send_command\n",
      "    answer = smart_decode(self.stream.readline()[:-1])\n",
      "                          ^^^^^^^^^^^^^^^^^^^^^^\n",
      "  File \"/opt/conda/miniconda3/lib/python3.11/socket.py\", line 706, in readinto\n",
      "    return self._sock.recv_into(b)\n",
      "           ^^^^^^^^^^^^^^^^^^^^^^^\n",
      "ConnectionResetError: [Errno 104] Connection reset by peer\n",
      "\n",
      "During handling of the above exception, another exception occurred:\n",
      "\n",
      "Traceback (most recent call last):\n",
      "  File \"/usr/lib/spark/python/lib/py4j-0.10.9.7-src.zip/py4j/java_gateway.py\", line 1038, in send_command\n",
      "    response = connection.send_command(command)\n",
      "               ^^^^^^^^^^^^^^^^^^^^^^^^^^^^^^^^\n",
      "  File \"/usr/lib/spark/python/lib/py4j-0.10.9.7-src.zip/py4j/clientserver.py\", line 539, in send_command\n",
      "    raise Py4JNetworkError(\n",
      "py4j.protocol.Py4JNetworkError: Error while sending or receiving\n"
     ]
    },
    {
     "ename": "ConnectionRefusedError",
     "evalue": "[Errno 111] Connection refused",
     "output_type": "error",
     "traceback": [
      "\u001b[0;31m---------------------------------------------------------------------------\u001b[0m\n",
      "\u001b[0;31mPy4JJavaError\u001b[0m                             Traceback (most recent call last)\n",
      "    \u001b[0;31m[... skipping hidden 1 frame]\u001b[0m\n",
      "\n",
      "Cell \u001b[0;32mIn[7], line 46\u001b[0m\n",
      "\u001b[1;32m     45\u001b[0m t0    \u001b[38;5;241m=\u001b[39m time\u001b[38;5;241m.\u001b[39mtime()\n",
      "\u001b[0;32m---> 46\u001b[0m model \u001b[38;5;241m=\u001b[39m \u001b[43mpipeline\u001b[49m\u001b[38;5;241;43m.\u001b[39;49m\u001b[43mfit\u001b[49m\u001b[43m(\u001b[49m\u001b[43msample_df\u001b[49m\u001b[43m)\u001b[49m\n",
      "\u001b[1;32m     47\u001b[0m fit_tm \u001b[38;5;241m=\u001b[39m time\u001b[38;5;241m.\u001b[39mtime() \u001b[38;5;241m-\u001b[39m t0\n",
      "\n",
      "File \u001b[0;32m/usr/lib/spark/python/pyspark/ml/base.py:205\u001b[0m, in \u001b[0;36mEstimator.fit\u001b[0;34m(self, dataset, params)\u001b[0m\n",
      "\u001b[1;32m    204\u001b[0m     \u001b[38;5;28;01melse\u001b[39;00m:\n",
      "\u001b[0;32m--> 205\u001b[0m         \u001b[38;5;28;01mreturn\u001b[39;00m \u001b[38;5;28;43mself\u001b[39;49m\u001b[38;5;241;43m.\u001b[39;49m\u001b[43m_fit\u001b[49m\u001b[43m(\u001b[49m\u001b[43mdataset\u001b[49m\u001b[43m)\u001b[49m\n",
      "\u001b[1;32m    206\u001b[0m \u001b[38;5;28;01melse\u001b[39;00m:\n",
      "\n",
      "File \u001b[0;32m/usr/lib/spark/python/pyspark/ml/pipeline.py:134\u001b[0m, in \u001b[0;36mPipeline._fit\u001b[0;34m(self, dataset)\u001b[0m\n",
      "\u001b[1;32m    133\u001b[0m \u001b[38;5;28;01melse\u001b[39;00m:  \u001b[38;5;66;03m# must be an Estimator\u001b[39;00m\n",
      "\u001b[0;32m--> 134\u001b[0m     model \u001b[38;5;241m=\u001b[39m \u001b[43mstage\u001b[49m\u001b[38;5;241;43m.\u001b[39;49m\u001b[43mfit\u001b[49m\u001b[43m(\u001b[49m\u001b[43mdataset\u001b[49m\u001b[43m)\u001b[49m\n",
      "\u001b[1;32m    135\u001b[0m     transformers\u001b[38;5;241m.\u001b[39mappend(model)\n",
      "\n",
      "File \u001b[0;32m/usr/lib/spark/python/pyspark/ml/base.py:205\u001b[0m, in \u001b[0;36mEstimator.fit\u001b[0;34m(self, dataset, params)\u001b[0m\n",
      "\u001b[1;32m    204\u001b[0m     \u001b[38;5;28;01melse\u001b[39;00m:\n",
      "\u001b[0;32m--> 205\u001b[0m         \u001b[38;5;28;01mreturn\u001b[39;00m \u001b[38;5;28;43mself\u001b[39;49m\u001b[38;5;241;43m.\u001b[39;49m\u001b[43m_fit\u001b[49m\u001b[43m(\u001b[49m\u001b[43mdataset\u001b[49m\u001b[43m)\u001b[49m\n",
      "\u001b[1;32m    206\u001b[0m \u001b[38;5;28;01melse\u001b[39;00m:\n",
      "\n",
      "File \u001b[0;32m/usr/lib/spark/python/pyspark/ml/wrapper.py:381\u001b[0m, in \u001b[0;36mJavaEstimator._fit\u001b[0;34m(self, dataset)\u001b[0m\n",
      "\u001b[1;32m    380\u001b[0m \u001b[38;5;28;01mdef\u001b[39;00m\u001b[38;5;250m \u001b[39m\u001b[38;5;21m_fit\u001b[39m(\u001b[38;5;28mself\u001b[39m, dataset: DataFrame) \u001b[38;5;241m-\u001b[39m\u001b[38;5;241m>\u001b[39m JM:\n",
      "\u001b[0;32m--> 381\u001b[0m     java_model \u001b[38;5;241m=\u001b[39m \u001b[38;5;28;43mself\u001b[39;49m\u001b[38;5;241;43m.\u001b[39;49m\u001b[43m_fit_java\u001b[49m\u001b[43m(\u001b[49m\u001b[43mdataset\u001b[49m\u001b[43m)\u001b[49m\n",
      "\u001b[1;32m    382\u001b[0m     model \u001b[38;5;241m=\u001b[39m \u001b[38;5;28mself\u001b[39m\u001b[38;5;241m.\u001b[39m_create_model(java_model)\n",
      "\n",
      "File \u001b[0;32m/usr/lib/spark/python/pyspark/ml/wrapper.py:378\u001b[0m, in \u001b[0;36mJavaEstimator._fit_java\u001b[0;34m(self, dataset)\u001b[0m\n",
      "\u001b[1;32m    377\u001b[0m \u001b[38;5;28mself\u001b[39m\u001b[38;5;241m.\u001b[39m_transfer_params_to_java()\n",
      "\u001b[0;32m--> 378\u001b[0m \u001b[38;5;28;01mreturn\u001b[39;00m \u001b[38;5;28;43mself\u001b[39;49m\u001b[38;5;241;43m.\u001b[39;49m\u001b[43m_java_obj\u001b[49m\u001b[38;5;241;43m.\u001b[39;49m\u001b[43mfit\u001b[49m\u001b[43m(\u001b[49m\u001b[43mdataset\u001b[49m\u001b[38;5;241;43m.\u001b[39;49m\u001b[43m_jdf\u001b[49m\u001b[43m)\u001b[49m\n",
      "\n",
      "File \u001b[0;32m/usr/lib/spark/python/lib/py4j-0.10.9.7-src.zip/py4j/java_gateway.py:1322\u001b[0m, in \u001b[0;36mJavaMember.__call__\u001b[0;34m(self, *args)\u001b[0m\n",
      "\u001b[1;32m   1321\u001b[0m answer \u001b[38;5;241m=\u001b[39m \u001b[38;5;28mself\u001b[39m\u001b[38;5;241m.\u001b[39mgateway_client\u001b[38;5;241m.\u001b[39msend_command(command)\n",
      "\u001b[0;32m-> 1322\u001b[0m return_value \u001b[38;5;241m=\u001b[39m \u001b[43mget_return_value\u001b[49m\u001b[43m(\u001b[49m\n",
      "\u001b[1;32m   1323\u001b[0m \u001b[43m    \u001b[49m\u001b[43manswer\u001b[49m\u001b[43m,\u001b[49m\u001b[43m \u001b[49m\u001b[38;5;28;43mself\u001b[39;49m\u001b[38;5;241;43m.\u001b[39;49m\u001b[43mgateway_client\u001b[49m\u001b[43m,\u001b[49m\u001b[43m \u001b[49m\u001b[38;5;28;43mself\u001b[39;49m\u001b[38;5;241;43m.\u001b[39;49m\u001b[43mtarget_id\u001b[49m\u001b[43m,\u001b[49m\u001b[43m \u001b[49m\u001b[38;5;28;43mself\u001b[39;49m\u001b[38;5;241;43m.\u001b[39;49m\u001b[43mname\u001b[49m\u001b[43m)\u001b[49m\n",
      "\u001b[1;32m   1325\u001b[0m \u001b[38;5;28;01mfor\u001b[39;00m temp_arg \u001b[38;5;129;01min\u001b[39;00m temp_args:\n",
      "\n",
      "File \u001b[0;32m/usr/lib/spark/python/pyspark/errors/exceptions/captured.py:179\u001b[0m, in \u001b[0;36mcapture_sql_exception.<locals>.deco\u001b[0;34m(*a, **kw)\u001b[0m\n",
      "\u001b[1;32m    178\u001b[0m \u001b[38;5;28;01mtry\u001b[39;00m:\n",
      "\u001b[0;32m--> 179\u001b[0m     \u001b[38;5;28;01mreturn\u001b[39;00m \u001b[43mf\u001b[49m\u001b[43m(\u001b[49m\u001b[38;5;241;43m*\u001b[39;49m\u001b[43ma\u001b[49m\u001b[43m,\u001b[49m\u001b[43m \u001b[49m\u001b[38;5;241;43m*\u001b[39;49m\u001b[38;5;241;43m*\u001b[39;49m\u001b[43mkw\u001b[49m\u001b[43m)\u001b[49m\n",
      "\u001b[1;32m    180\u001b[0m \u001b[38;5;28;01mexcept\u001b[39;00m Py4JJavaError \u001b[38;5;28;01mas\u001b[39;00m e:\n",
      "\n",
      "File \u001b[0;32m/usr/lib/spark/python/lib/py4j-0.10.9.7-src.zip/py4j/protocol.py:326\u001b[0m, in \u001b[0;36mget_return_value\u001b[0;34m(answer, gateway_client, target_id, name)\u001b[0m\n",
      "\u001b[1;32m    325\u001b[0m \u001b[38;5;28;01mif\u001b[39;00m answer[\u001b[38;5;241m1\u001b[39m] \u001b[38;5;241m==\u001b[39m REFERENCE_TYPE:\n",
      "\u001b[0;32m--> 326\u001b[0m     \u001b[38;5;28;01mraise\u001b[39;00m Py4JJavaError(\n",
      "\u001b[1;32m    327\u001b[0m         \u001b[38;5;124m\"\u001b[39m\u001b[38;5;124mAn error occurred while calling \u001b[39m\u001b[38;5;132;01m{0}\u001b[39;00m\u001b[38;5;132;01m{1}\u001b[39;00m\u001b[38;5;132;01m{2}\u001b[39;00m\u001b[38;5;124m.\u001b[39m\u001b[38;5;130;01m\\n\u001b[39;00m\u001b[38;5;124m\"\u001b[39m\u001b[38;5;241m.\u001b[39m\n",
      "\u001b[1;32m    328\u001b[0m         \u001b[38;5;28mformat\u001b[39m(target_id, \u001b[38;5;124m\"\u001b[39m\u001b[38;5;124m.\u001b[39m\u001b[38;5;124m\"\u001b[39m, name), value)\n",
      "\u001b[1;32m    329\u001b[0m \u001b[38;5;28;01melse\u001b[39;00m:\n",
      "\n",
      "\u001b[0;31m<class 'str'>\u001b[0m: (<class 'ConnectionRefusedError'>, ConnectionRefusedError(111, 'Connection refused'))\n",
      "\n",
      "During handling of the above exception, another exception occurred:\n",
      "\n",
      "\u001b[0;31mConnectionRefusedError\u001b[0m                    Traceback (most recent call last)\n",
      "    \u001b[0;31m[... skipping hidden 1 frame]\u001b[0m\n",
      "\n",
      "File \u001b[0;32m/opt/conda/miniconda3/lib/python3.11/site-packages/IPython/core/interactiveshell.py:2181\u001b[0m, in \u001b[0;36mInteractiveShell.showtraceback\u001b[0;34m(self, exc_tuple, filename, tb_offset, exception_only, running_compiled_code)\u001b[0m\n",
      "\u001b[1;32m   2178\u001b[0m         traceback\u001b[38;5;241m.\u001b[39mprint_exc()\n",
      "\u001b[1;32m   2179\u001b[0m         \u001b[38;5;28;01mreturn\u001b[39;00m \u001b[38;5;28;01mNone\u001b[39;00m\n",
      "\u001b[0;32m-> 2181\u001b[0m     \u001b[38;5;28;43mself\u001b[39;49m\u001b[38;5;241;43m.\u001b[39;49m\u001b[43m_showtraceback\u001b[49m\u001b[43m(\u001b[49m\u001b[43metype\u001b[49m\u001b[43m,\u001b[49m\u001b[43m \u001b[49m\u001b[43mvalue\u001b[49m\u001b[43m,\u001b[49m\u001b[43m \u001b[49m\u001b[43mstb\u001b[49m\u001b[43m)\u001b[49m\n",
      "\u001b[1;32m   2182\u001b[0m \u001b[38;5;28;01mif\u001b[39;00m \u001b[38;5;28mself\u001b[39m\u001b[38;5;241m.\u001b[39mcall_pdb:\n",
      "\u001b[1;32m   2183\u001b[0m     \u001b[38;5;66;03m# drop into debugger\u001b[39;00m\n",
      "\u001b[1;32m   2184\u001b[0m     \u001b[38;5;28mself\u001b[39m\u001b[38;5;241m.\u001b[39mdebugger(force\u001b[38;5;241m=\u001b[39m\u001b[38;5;28;01mTrue\u001b[39;00m)\n",
      "\n",
      "File \u001b[0;32m/opt/conda/miniconda3/lib/python3.11/site-packages/ipykernel/zmqshell.py:559\u001b[0m, in \u001b[0;36mZMQInteractiveShell._showtraceback\u001b[0;34m(self, etype, evalue, stb)\u001b[0m\n",
      "\u001b[1;32m    553\u001b[0m sys\u001b[38;5;241m.\u001b[39mstdout\u001b[38;5;241m.\u001b[39mflush()\n",
      "\u001b[1;32m    554\u001b[0m sys\u001b[38;5;241m.\u001b[39mstderr\u001b[38;5;241m.\u001b[39mflush()\n",
      "\u001b[1;32m    556\u001b[0m exc_content \u001b[38;5;241m=\u001b[39m {\n",
      "\u001b[1;32m    557\u001b[0m     \u001b[38;5;124m\"\u001b[39m\u001b[38;5;124mtraceback\u001b[39m\u001b[38;5;124m\"\u001b[39m: stb,\n",
      "\u001b[1;32m    558\u001b[0m     \u001b[38;5;124m\"\u001b[39m\u001b[38;5;124mename\u001b[39m\u001b[38;5;124m\"\u001b[39m: \u001b[38;5;28mstr\u001b[39m(etype\u001b[38;5;241m.\u001b[39m\u001b[38;5;18m__name__\u001b[39m),\n",
      "\u001b[0;32m--> 559\u001b[0m     \u001b[38;5;124m\"\u001b[39m\u001b[38;5;124mevalue\u001b[39m\u001b[38;5;124m\"\u001b[39m: \u001b[38;5;28;43mstr\u001b[39;49m\u001b[43m(\u001b[49m\u001b[43mevalue\u001b[49m\u001b[43m)\u001b[49m,\n",
      "\u001b[1;32m    560\u001b[0m }\n",
      "\u001b[1;32m    562\u001b[0m dh \u001b[38;5;241m=\u001b[39m \u001b[38;5;28mself\u001b[39m\u001b[38;5;241m.\u001b[39mdisplayhook\n",
      "\u001b[1;32m    563\u001b[0m \u001b[38;5;66;03m# Send exception info over pub socket for other clients than the caller\u001b[39;00m\n",
      "\u001b[1;32m    564\u001b[0m \u001b[38;5;66;03m# to pick up\u001b[39;00m\n",
      "\n",
      "File \u001b[0;32m/usr/lib/spark/python/lib/py4j-0.10.9.7-src.zip/py4j/protocol.py:471\u001b[0m, in \u001b[0;36mPy4JJavaError.__str__\u001b[0;34m(self)\u001b[0m\n",
      "\u001b[1;32m    469\u001b[0m \u001b[38;5;28;01mdef\u001b[39;00m\u001b[38;5;250m \u001b[39m\u001b[38;5;21m__str__\u001b[39m(\u001b[38;5;28mself\u001b[39m):\n",
      "\u001b[1;32m    470\u001b[0m     gateway_client \u001b[38;5;241m=\u001b[39m \u001b[38;5;28mself\u001b[39m\u001b[38;5;241m.\u001b[39mjava_exception\u001b[38;5;241m.\u001b[39m_gateway_client\n",
      "\u001b[0;32m--> 471\u001b[0m     answer \u001b[38;5;241m=\u001b[39m \u001b[43mgateway_client\u001b[49m\u001b[38;5;241;43m.\u001b[39;49m\u001b[43msend_command\u001b[49m\u001b[43m(\u001b[49m\u001b[38;5;28;43mself\u001b[39;49m\u001b[38;5;241;43m.\u001b[39;49m\u001b[43mexception_cmd\u001b[49m\u001b[43m)\u001b[49m\n",
      "\u001b[1;32m    472\u001b[0m     return_value \u001b[38;5;241m=\u001b[39m get_return_value(answer, gateway_client, \u001b[38;5;28;01mNone\u001b[39;00m, \u001b[38;5;28;01mNone\u001b[39;00m)\n",
      "\u001b[1;32m    473\u001b[0m     \u001b[38;5;66;03m# Note: technically this should return a bytestring 'str' rather than\u001b[39;00m\n",
      "\u001b[1;32m    474\u001b[0m     \u001b[38;5;66;03m# unicodes in Python 2; however, it can return unicodes for now.\u001b[39;00m\n",
      "\u001b[1;32m    475\u001b[0m     \u001b[38;5;66;03m# See https://github.com/bartdag/py4j/issues/306 for more details.\u001b[39;00m\n",
      "\n",
      "File \u001b[0;32m/usr/lib/spark/python/lib/py4j-0.10.9.7-src.zip/py4j/java_gateway.py:1036\u001b[0m, in \u001b[0;36mGatewayClient.send_command\u001b[0;34m(self, command, retry, binary)\u001b[0m\n",
      "\u001b[1;32m   1015\u001b[0m \u001b[38;5;28;01mdef\u001b[39;00m\u001b[38;5;250m \u001b[39m\u001b[38;5;21msend_command\u001b[39m(\u001b[38;5;28mself\u001b[39m, command, retry\u001b[38;5;241m=\u001b[39m\u001b[38;5;28;01mTrue\u001b[39;00m, binary\u001b[38;5;241m=\u001b[39m\u001b[38;5;28;01mFalse\u001b[39;00m):\n",
      "\u001b[1;32m   1016\u001b[0m \u001b[38;5;250m    \u001b[39m\u001b[38;5;124;03m\"\"\"Sends a command to the JVM. This method is not intended to be\u001b[39;00m\n",
      "\u001b[1;32m   1017\u001b[0m \u001b[38;5;124;03m       called directly by Py4J users. It is usually called by\u001b[39;00m\n",
      "\u001b[1;32m   1018\u001b[0m \u001b[38;5;124;03m       :class:`JavaMember` instances.\u001b[39;00m\n",
      "\u001b[0;32m   (...)\u001b[0m\n",
      "\u001b[1;32m   1034\u001b[0m \u001b[38;5;124;03m     if `binary` is `True`.\u001b[39;00m\n",
      "\u001b[1;32m   1035\u001b[0m \u001b[38;5;124;03m    \"\"\"\u001b[39;00m\n",
      "\u001b[0;32m-> 1036\u001b[0m     connection \u001b[38;5;241m=\u001b[39m \u001b[38;5;28;43mself\u001b[39;49m\u001b[38;5;241;43m.\u001b[39;49m\u001b[43m_get_connection\u001b[49m\u001b[43m(\u001b[49m\u001b[43m)\u001b[49m\n",
      "\u001b[1;32m   1037\u001b[0m     \u001b[38;5;28;01mtry\u001b[39;00m:\n",
      "\u001b[1;32m   1038\u001b[0m         response \u001b[38;5;241m=\u001b[39m connection\u001b[38;5;241m.\u001b[39msend_command(command)\n",
      "\n",
      "File \u001b[0;32m/usr/lib/spark/python/lib/py4j-0.10.9.7-src.zip/py4j/clientserver.py:284\u001b[0m, in \u001b[0;36mJavaClient._get_connection\u001b[0;34m(self)\u001b[0m\n",
      "\u001b[1;32m    281\u001b[0m     \u001b[38;5;28;01mpass\u001b[39;00m\n",
      "\u001b[1;32m    283\u001b[0m \u001b[38;5;28;01mif\u001b[39;00m connection \u001b[38;5;129;01mis\u001b[39;00m \u001b[38;5;28;01mNone\u001b[39;00m \u001b[38;5;129;01mor\u001b[39;00m connection\u001b[38;5;241m.\u001b[39msocket \u001b[38;5;129;01mis\u001b[39;00m \u001b[38;5;28;01mNone\u001b[39;00m:\n",
      "\u001b[0;32m--> 284\u001b[0m     connection \u001b[38;5;241m=\u001b[39m \u001b[38;5;28;43mself\u001b[39;49m\u001b[38;5;241;43m.\u001b[39;49m\u001b[43m_create_new_connection\u001b[49m\u001b[43m(\u001b[49m\u001b[43m)\u001b[49m\n",
      "\u001b[1;32m    285\u001b[0m \u001b[38;5;28;01mreturn\u001b[39;00m connection\n",
      "\n",
      "File \u001b[0;32m/usr/lib/spark/python/lib/py4j-0.10.9.7-src.zip/py4j/clientserver.py:291\u001b[0m, in \u001b[0;36mJavaClient._create_new_connection\u001b[0;34m(self)\u001b[0m\n",
      "\u001b[1;32m    287\u001b[0m \u001b[38;5;28;01mdef\u001b[39;00m\u001b[38;5;250m \u001b[39m\u001b[38;5;21m_create_new_connection\u001b[39m(\u001b[38;5;28mself\u001b[39m):\n",
      "\u001b[1;32m    288\u001b[0m     connection \u001b[38;5;241m=\u001b[39m ClientServerConnection(\n",
      "\u001b[1;32m    289\u001b[0m         \u001b[38;5;28mself\u001b[39m\u001b[38;5;241m.\u001b[39mjava_parameters, \u001b[38;5;28mself\u001b[39m\u001b[38;5;241m.\u001b[39mpython_parameters,\n",
      "\u001b[1;32m    290\u001b[0m         \u001b[38;5;28mself\u001b[39m\u001b[38;5;241m.\u001b[39mgateway_property, \u001b[38;5;28mself\u001b[39m)\n",
      "\u001b[0;32m--> 291\u001b[0m     \u001b[43mconnection\u001b[49m\u001b[38;5;241;43m.\u001b[39;49m\u001b[43mconnect_to_java_server\u001b[49m\u001b[43m(\u001b[49m\u001b[43m)\u001b[49m\n",
      "\u001b[1;32m    292\u001b[0m     \u001b[38;5;28mself\u001b[39m\u001b[38;5;241m.\u001b[39mset_thread_connection(connection)\n",
      "\u001b[1;32m    293\u001b[0m     \u001b[38;5;28;01mreturn\u001b[39;00m connection\n",
      "\n",
      "File \u001b[0;32m/usr/lib/spark/python/lib/py4j-0.10.9.7-src.zip/py4j/clientserver.py:438\u001b[0m, in \u001b[0;36mClientServerConnection.connect_to_java_server\u001b[0;34m(self)\u001b[0m\n",
      "\u001b[1;32m    435\u001b[0m \u001b[38;5;28;01mif\u001b[39;00m \u001b[38;5;28mself\u001b[39m\u001b[38;5;241m.\u001b[39mssl_context:\n",
      "\u001b[1;32m    436\u001b[0m     \u001b[38;5;28mself\u001b[39m\u001b[38;5;241m.\u001b[39msocket \u001b[38;5;241m=\u001b[39m \u001b[38;5;28mself\u001b[39m\u001b[38;5;241m.\u001b[39mssl_context\u001b[38;5;241m.\u001b[39mwrap_socket(\n",
      "\u001b[1;32m    437\u001b[0m         \u001b[38;5;28mself\u001b[39m\u001b[38;5;241m.\u001b[39msocket, server_hostname\u001b[38;5;241m=\u001b[39m\u001b[38;5;28mself\u001b[39m\u001b[38;5;241m.\u001b[39mjava_address)\n",
      "\u001b[0;32m--> 438\u001b[0m \u001b[38;5;28;43mself\u001b[39;49m\u001b[38;5;241;43m.\u001b[39;49m\u001b[43msocket\u001b[49m\u001b[38;5;241;43m.\u001b[39;49m\u001b[43mconnect\u001b[49m\u001b[43m(\u001b[49m\u001b[43m(\u001b[49m\u001b[38;5;28;43mself\u001b[39;49m\u001b[38;5;241;43m.\u001b[39;49m\u001b[43mjava_address\u001b[49m\u001b[43m,\u001b[49m\u001b[43m \u001b[49m\u001b[38;5;28;43mself\u001b[39;49m\u001b[38;5;241;43m.\u001b[39;49m\u001b[43mjava_port\u001b[49m\u001b[43m)\u001b[49m\u001b[43m)\u001b[49m\n",
      "\u001b[1;32m    439\u001b[0m \u001b[38;5;28mself\u001b[39m\u001b[38;5;241m.\u001b[39mstream \u001b[38;5;241m=\u001b[39m \u001b[38;5;28mself\u001b[39m\u001b[38;5;241m.\u001b[39msocket\u001b[38;5;241m.\u001b[39mmakefile(\u001b[38;5;124m\"\u001b[39m\u001b[38;5;124mrb\u001b[39m\u001b[38;5;124m\"\u001b[39m)\n",
      "\u001b[1;32m    440\u001b[0m \u001b[38;5;28mself\u001b[39m\u001b[38;5;241m.\u001b[39mis_connected \u001b[38;5;241m=\u001b[39m \u001b[38;5;28;01mTrue\u001b[39;00m\n",
      "\n",
      "\u001b[0;31mConnectionRefusedError\u001b[0m: [Errno 111] Connection refused"
     ]
    }
   ],
   "source": []
  },
  {
   "cell_type": "markdown",
   "id": "892235e5",
   "metadata": {},
   "source": [
    "### Random Forest - 100% sample on 3 worker nodes"
   ]
  },
  {
   "cell_type": "code",
   "execution_count": null,
   "id": "c0b7c07c",
   "metadata": {},
   "outputs": [
    {
     "name": "stdout",
     "output_type": "stream",
     "text": [
      "Start time for sampling: 2025-05-06 08:46:34.729575+00:00\n",
      "Using full train_df (100% sample)\n",
      "Repartition complete\n",
      "Skipping cache for full dataset\n",
      "================================\n",
      "Fitting model: RandomForest on 100% sample\n",
      "================================\n"
     ]
    },
    {
     "name": "stderr",
     "output_type": "stream",
     "text": [
      "[Stage 59:==============================================>         (15 + 3) / 18]\r"
     ]
    },
    {
     "name": "stdout",
     "output_type": "stream",
     "text": [
      "Model fit complete\n",
      "Successfuly ran preds = model.transform(test_df)\n"
     ]
    },
    {
     "name": "stderr",
     "output_type": "stream",
     "text": [
      "25/05/06 08:49:43 WARN SparkStringUtils: Truncated the string representation of a plan since it was too large. This behavior can be adjusted by setting 'spark.sql.debug.maxToStringFields'.\n",
      "                                                                                \r"
     ]
    },
    {
     "name": "stdout",
     "output_type": "stream",
     "text": [
      "Successfully pulled sklearn metrics \n"
     ]
    },
    {
     "name": "stderr",
     "output_type": "stream",
     "text": [
      "[Stage 61:=================================================>      (16 + 2) / 18]\r"
     ]
    },
    {
     "name": "stdout",
     "output_type": "stream",
     "text": [
      "\n",
      "--- Evaluation Results ---\n",
      "Fit Time (s): 188.11\n",
      "Accuracy: 0.9992 | Precision: 0.8451 | Recall: 0.6452\n",
      "F1: 0.7317 | ROC-AUC: 0.9542 | PR-AUC: 0.6172\n",
      "Partitions: 18\n"
     ]
    },
    {
     "name": "stderr",
     "output_type": "stream",
     "text": [
      "\r\n",
      "[Stage 61:====================================================>   (17 + 1) / 18]\r"
     ]
    }
   ],
   "source": []
  },
  {
   "cell_type": "markdown",
   "id": "86f6372d",
   "metadata": {},
   "source": [
    "_______________\n",
    "\n",
    "## Compute Environment Analysis\n",
    "\n",
    "To evaluate how resource usage varied across configurations, we collected and analyzed system-level metrics during each run. These included:\n",
    "\n",
    "- **CPU utilization**,\n",
    "- **Disk operations per second** (read and write throughput),\n",
    "- **YARN memory allocation** (% of allocated memory in use).\n",
    "\n",
    "Metrics were tracked for both 2-node and 3-node cluster configurations for the entire run of the notebook. Each metric was normalized by time to allow for fair comparison despite differing run lengths."
   ]
  },
  {
   "cell_type": "markdown",
   "id": "346afb05",
   "metadata": {},
   "source": [
    "## Import packages/libraries + setup"
   ]
  },
  {
   "cell_type": "code",
   "execution_count": null,
   "id": "a4dc70e2",
   "metadata": {},
   "outputs": [],
   "source": [
    "from datetime import datetime, timezone\n",
    "import time\n",
    "import pandas as pd\n",
    "\n",
    "import matplotlib.pyplot as plt\n"
   ]
  },
  {
   "cell_type": "markdown",
   "id": "046dcbd1",
   "metadata": {},
   "source": [
    "## CPU Utilization"
   ]
  },
  {
   "cell_type": "markdown",
   "id": "bc89ff4c",
   "metadata": {},
   "source": [
    "### 2 Worker Nodes"
   ]
  },
  {
   "cell_type": "code",
   "execution_count": null,
   "id": "68b65abc",
   "metadata": {},
   "outputs": [],
   "source": [
    "\n",
    "# Define the full path to the CSV file\n",
    "file_path = \"/.../CPU_utilization-3.csv\" #path removed for anonymity\n",
    "cpu_2n = pd.read_csv(file_path)\n",
    "cpu_2n = cpu_2n.drop(index=0).reset_index(drop=True)\n",
    "\n",
    "# Rename columns\n",
    "cpu_2n.columns = [\"timestamp\", \"cpu_utilization\"]\n",
    "cpu_2n[\"cpu_utilization\"] = pd.to_numeric(cpu_2n[\"cpu_utilization\"], errors=\"coerce\")\n",
    "cpu_2n[\"mins_since_start\"] = range(1, len(cpu_2n) + 1)\n",
    "cpu_2n[\"resource_type\"] = \"CPU, 2 nodes\"\n",
    "cpu_2n[\"pct_through_run\"] = cpu_2n[\"mins_since_start\"] / cpu_2n[\"mins_since_start\"].max()\n",
    "\n"
   ]
  },
  {
   "cell_type": "markdown",
   "id": "01425517",
   "metadata": {},
   "source": [
    "#### CPU Utilization Over Normalized Time"
   ]
  },
  {
   "cell_type": "code",
   "execution_count": null,
   "id": "2ee6fba4",
   "metadata": {},
   "outputs": [
    {
     "data": {
      "image/png": "[encoded data removed]",
      "text/plain": [
       "<Figure size 1000x600 with 1 Axes>"
      ]
     },
     "metadata": {},
     "output_type": "display_data"
    }
   ],
   "source": [
    "plt.figure(figsize=(10, 6))\n",
    "plt.plot(cpu_2n[\"pct_through_run\"], cpu_2n[\"cpu_utilization\"], marker='o', linestyle='-')\n",
    "\n",
    "plt.title(\"CPU Utilization Over Normalized Time (2 Worker Nodes)\")\n",
    "plt.xlabel(\"Percent of Run Completed\")\n",
    "plt.ylabel(\"CPU Utilization\")\n",
    "plt.grid(True)\n",
    "\n",
    "plt.tight_layout()\n",
    "plt.show()"
   ]
  },
  {
   "cell_type": "markdown",
   "id": "eaa71e73",
   "metadata": {},
   "source": [
    "#### CPU Utilization Summary Statistics"
   ]
  },
  {
   "cell_type": "code",
   "execution_count": null,
   "id": "736e9925",
   "metadata": {},
   "outputs": [
    {
     "name": "stdout",
     "output_type": "stream",
     "text": [
      "Max CPU utilization (2 nodes): 0.7093\n",
      "Min CPU utilization (2 nodes): 0.0860\n",
      "Avg CPU utilization (2 nodes): 0.5349\n"
     ]
    }
   ],
   "source": [
    "max_util_2n = cpu_2n[\"cpu_utilization\"].max()\n",
    "min_util_2n = cpu_2n[\"cpu_utilization\"].min()\n",
    "avg_util_2n = cpu_2n[\"cpu_utilization\"].mean()\n",
    "\n",
    "print(f\"Max CPU utilization (2 nodes): {max_util_2n:.4f}\")\n",
    "print(f\"Min CPU utilization (2 nodes): {min_util_2n:.4f}\")\n",
    "print(f\"Avg CPU utilization (2 nodes): {avg_util_2n:.4f}\")"
   ]
  },
  {
   "cell_type": "markdown",
   "id": "04e71c17",
   "metadata": {},
   "source": [
    "### 3 Worker Nodes"
   ]
  },
  {
   "cell_type": "code",
   "execution_count": null,
   "id": "ef149869",
   "metadata": {},
   "outputs": [],
   "source": [
    "\n",
    "# Base path and file list\n",
    "base_path = \"...\" # path hidden for anonymity \n",
    "\n",
    "files = [\n",
    "    f\"{base_path}/CPU_utilization.csv\",\n",
    "    f\"{base_path}/CPU_utilization-2.csv\",\n",
    "    f\"{base_path}/CPU_utilization-3.csv\"\n",
    "]\n",
    "\n",
    "# Load and clean each file, uniformly labeled\n",
    "cpu_runs = []\n",
    "for fp in files:\n",
    "    df = pd.read_csv(fp).drop(index=0).reset_index(drop=True)\n",
    "    df.columns = [\"timestamp\", \"cpu_utilization\"]\n",
    "    df[\"cpu_utilization\"] = pd.to_numeric(df[\"cpu_utilization\"], errors=\"coerce\")\n",
    "    df[\"mins_since_start\"] = range(1, len(df) + 1)\n",
    "    df[\"resource_type\"] = \"CPU, 3 nodes\"\n",
    "    cpu_runs.append(df)\n",
    "\n",
    "# Combine all\n",
    "cpu_all = pd.concat(cpu_runs, ignore_index=True)\n",
    "\n",
    "# drop specific date \n",
    "cpu_all = cpu_all[~cpu_all[\"timestamp\"].str.contains(\"May 05\")].reset_index(drop=True) #accidentally left cluster overnight so drop that day where nothing was happening\n",
    "\n",
    "# Sort and normalize time\n",
    "cpu_all = cpu_all.sort_values(\"timestamp\").reset_index(drop=True)\n",
    "cpu_all[\"mins_since_start\"] = range(1, len(cpu_all) + 1)\n",
    "cpu_all[\"pct_through_run\"] = cpu_all[\"mins_since_start\"] / cpu_all[\"mins_since_start\"].max()"
   ]
  },
  {
   "cell_type": "markdown",
   "id": "b5e62e90",
   "metadata": {},
   "source": [
    "#### Graph CPU Utilization over Normalized Time"
   ]
  },
  {
   "cell_type": "code",
   "execution_count": null,
   "id": "6d34741e",
   "metadata": {},
   "outputs": [
    {
     "data": {
      "image/png": "[encoded data removed]",
      "text/plain": [
       "<Figure size 1000x600 with 1 Axes>"
      ]
     },
     "metadata": {},
     "output_type": "display_data"
    }
   ],
   "source": [
    "\n",
    "plt.figure(figsize=(10, 6))\n",
    "\n",
    "# plot\n",
    "for label, df in cpu_all.groupby(\"resource_type\"):\n",
    "    plt.plot(df[\"pct_through_run\"], df[\"cpu_utilization\"], marker='o', linestyle='-', label=label)\n",
    "\n",
    "plt.title(\"CPU Utilization over Normalized Time (3 Worker Node Experiments)\")\n",
    "plt.xlabel(\"Percent of Run Completed\")\n",
    "plt.ylabel(\"CPU Utilization\")\n",
    "plt.legend()\n",
    "plt.grid(True)\n",
    "\n",
    "plt.tight_layout()\n",
    "plt.show()"
   ]
  },
  {
   "cell_type": "markdown",
   "id": "e367dc10",
   "metadata": {},
   "source": [
    "#### Summary Statistics"
   ]
  },
  {
   "cell_type": "code",
   "execution_count": null,
   "id": "7a463043",
   "metadata": {},
   "outputs": [
    {
     "name": "stdout",
     "output_type": "stream",
     "text": [
      "                  min     max    mean\n",
      "resource_type                        \n",
      "CPU, 3 nodes   0.0486  0.7818  0.4408\n"
     ]
    }
   ],
   "source": [
    "summary = cpu_all.groupby(\"resource_type\")[\"cpu_utilization\"].agg([\"min\", \"max\", \"mean\"]).round(4)\n",
    "print(summary)"
   ]
  },
  {
   "cell_type": "markdown",
   "id": "f7cbcca4",
   "metadata": {},
   "source": [
    "### Discussion\n",
    "\n",
    "The 2-node cluster demonstrated higher average CPU utilization (53.5% vs. 44.1%). The 2-node run shows more frequent fluctuations in CPU usage, with sharper rises and drops in utilization. In contrast, the 3-node run demonstrates longer periods of sustained low usage, suggesting less volatility but more idle time. While the 2-node setup had a higher average utilization, the 3-node run showed broader periods of underuse."
   ]
  },
  {
   "cell_type": "markdown",
   "id": "8fea4706",
   "metadata": {},
   "source": [
    "## Number of read/write operations per second"
   ]
  },
  {
   "cell_type": "markdown",
   "id": "bdccb8e7",
   "metadata": {},
   "source": [
    "### 2 Worker Nodes"
   ]
  },
  {
   "cell_type": "code",
   "execution_count": null,
   "id": "c5389f25",
   "metadata": {},
   "outputs": [],
   "source": [
    "\n",
    "# Define base path and file names\n",
    "base_path_2n = \"...\" # path hidden for anonymity\n",
    "\n",
    "read_fp_2n = f\"{base_path_2n}/Disk_operations_1.csv\"\n",
    "write_fp_2n = f\"{base_path_2n}/Disk_operations_2.csv\"\n",
    "\n",
    "# Load and clean read data\n",
    "disk_read_2n = pd.read_csv(read_fp_2n).drop(index=0).reset_index(drop=True)\n",
    "disk_read_2n.columns = [\"timestamp\", \"ops_per_sec\"]\n",
    "disk_read_2n[\"op_type\"] = \"read\"\n",
    "\n",
    "# Load and clean write data\n",
    "disk_write_2n = pd.read_csv(write_fp_2n).drop(index=0).reset_index(drop=True)\n",
    "disk_write_2n.columns = [\"timestamp\", \"ops_per_sec\"]\n",
    "disk_write_2n[\"op_type\"] = \"write\"\n",
    "\n",
    "# Combine both\n",
    "disk_2n_all = pd.concat([disk_read_2n, disk_write_2n], ignore_index=True)\n",
    "\n",
    "# Clean numeric and sort\n",
    "disk_2n_all[\"ops_per_sec\"] = pd.to_numeric(disk_2n_all[\"ops_per_sec\"], errors=\"coerce\")\n",
    "disk_2n_all = disk_2n_all.sort_values(\"timestamp\").reset_index(drop=True)\n",
    "\n",
    "# Add minutes since start\n",
    "disk_2n_all[\"mins_since_start\"] = range(1, len(disk_2n_all) + 1)\n",
    "\n",
    "disk_2n_all[\"pct_through_run\"] = disk_2n_all[\"mins_since_start\"] / disk_2n_all[\"mins_since_start\"].max()\n"
   ]
  },
  {
   "cell_type": "markdown",
   "id": "d7d4d9df",
   "metadata": {},
   "source": [
    "#### Graph Disk Operations Over Normalized Time (read/write)"
   ]
  },
  {
   "cell_type": "code",
   "execution_count": null,
   "id": "3363f8df",
   "metadata": {},
   "outputs": [
    {
     "data": {
      "image/png": "[encoded data removed]",
      "text/plain": [
       "<Figure size 1000x600 with 1 Axes>"
      ]
     },
     "metadata": {},
     "output_type": "display_data"
    }
   ],
   "source": [
    "\n",
    "plt.figure(figsize=(10, 6))\n",
    "\n",
    "# Plot read and write separately\n",
    "for op in [\"read\", \"write\"]:\n",
    "    subset = disk_2n_all[disk_2n_all[\"op_type\"] == op]\n",
    "    plt.plot(subset[\"pct_through_run\"], subset[\"ops_per_sec\"], label=op.capitalize(), marker='o')\n",
    "\n",
    "plt.title(\"Disk Operations Over Normalized Time (2 Worker Nodes)\")\n",
    "plt.xlabel(\"Percent of Run Completed\")\n",
    "plt.ylabel(\"Disk Operations per Second\")\n",
    "plt.legend()\n",
    "plt.grid(True)\n",
    "plt.tight_layout()\n",
    "plt.show()"
   ]
  },
  {
   "cell_type": "markdown",
   "id": "ae2251b6",
   "metadata": {},
   "source": [
    "#### Summary Statistics"
   ]
  },
  {
   "cell_type": "code",
   "execution_count": null,
   "id": "a5cec974",
   "metadata": {},
   "outputs": [
    {
     "name": "stdout",
     "output_type": "stream",
     "text": [
      "            min     max      mean\n",
      "op_type                          \n",
      "read     2.7000  937.90  176.5197\n",
      "write    6.7833  994.65  144.4947\n"
     ]
    }
   ],
   "source": [
    "# Summary stats for 2-node disk operations\n",
    "summary_2n = disk_2n_all.groupby(\"op_type\")[\"ops_per_sec\"].agg([\"min\", \"max\", \"mean\"]).round(4)\n",
    "print(summary_2n)"
   ]
  },
  {
   "cell_type": "markdown",
   "id": "6a377187",
   "metadata": {},
   "source": [
    "### 3 Worker Nodes"
   ]
  },
  {
   "cell_type": "code",
   "execution_count": null,
   "id": "cba1dab7",
   "metadata": {},
   "outputs": [],
   "source": [
    "import pandas as pd\n",
    "\n",
    "# Base path\n",
    "base_path = \"...\" # path hidden for anonymity\n",
    "\n",
    "# File lists\n",
    "read_files = [\n",
    "    f\"{base_path}/Disk_operations_1.csv\",\n",
    "    f\"{base_path}/Disk_operations_1_2.csv\",\n",
    "    f\"{base_path}/Disk_operations_1_3.csv\"\n",
    "]\n",
    "\n",
    "write_files = [\n",
    "    f\"{base_path}/Disk_operations_2.csv\",\n",
    "    f\"{base_path}/Disk_operations_2_2.csv\",\n",
    "    f\"{base_path}/Disk_operations_2_3.csv\"\n",
    "]\n",
    "\n",
    "# Function to load and tag\n",
    "def load_disk_ops(file_list, op_type):\n",
    "    dfs = []\n",
    "    for fp in file_list:\n",
    "        df = pd.read_csv(fp).drop(index=0).reset_index(drop=True)\n",
    "        df.columns = [\"timestamp\", \"ops_per_sec\"]\n",
    "        df[\"op_type\"] = op_type\n",
    "        dfs.append(df)\n",
    "    return pd.concat(dfs, ignore_index=True)\n",
    "\n",
    "# Load all and stack\n",
    "disk_read = load_disk_ops(read_files, \"read\")\n",
    "disk_write = load_disk_ops(write_files, \"write\")\n",
    "disk_all = pd.concat([disk_read, disk_write], ignore_index=True)\n",
    "\n",
    "# Clean and sort\n",
    "disk_all[\"ops_per_sec\"] = pd.to_numeric(disk_all[\"ops_per_sec\"], errors=\"coerce\")\n",
    "disk_all = disk_all.sort_values(\"timestamp\").reset_index(drop=True)\n",
    "disk_all[\"mins_since_start\"] = range(1, len(disk_all) + 1)\n",
    "\n",
    "disk_all[\"pct_through_run\"] = disk_all[\"mins_since_start\"] / disk_all[\"mins_since_start\"].max()"
   ]
  },
  {
   "cell_type": "markdown",
   "id": "55c6fb42",
   "metadata": {},
   "source": [
    "#### Graph Disk Operations Over Normalized Time (read/write)"
   ]
  },
  {
   "cell_type": "code",
   "execution_count": null,
   "id": "6a0e73f6",
   "metadata": {},
   "outputs": [
    {
     "data": {
      "image/png": "[encoded data removed]",
      "text/plain": [
       "<Figure size 1000x600 with 1 Axes>"
      ]
     },
     "metadata": {},
     "output_type": "display_data"
    }
   ],
   "source": [
    "import matplotlib.pyplot as plt\n",
    "\n",
    "plt.figure(figsize=(10, 6))\n",
    "\n",
    "# Plot read and write lines\n",
    "for op in [\"read\", \"write\"]:\n",
    "    subset = disk_all[disk_all[\"op_type\"] == op]\n",
    "    plt.plot(subset[\"pct_through_run\"], subset[\"ops_per_sec\"], label=op.capitalize(), marker='o')\n",
    "\n",
    "plt.title(\"Disk Operations Over Normalized Time (3 Worker Nodes)\")\n",
    "plt.xlabel(\"Percent of Run Completed\")\n",
    "plt.ylabel(\"Disk Operations per Second\")\n",
    "plt.legend()\n",
    "plt.grid(True)\n",
    "plt.tight_layout()\n",
    "plt.show()"
   ]
  },
  {
   "cell_type": "markdown",
   "id": "cb6f9d8c",
   "metadata": {},
   "source": [
    "#### Summary Statistics"
   ]
  },
  {
   "cell_type": "code",
   "execution_count": null,
   "id": "dc415ed9",
   "metadata": {},
   "outputs": [
    {
     "name": "stdout",
     "output_type": "stream",
     "text": [
      "            min        max      mean\n",
      "op_type                             \n",
      "read     0.0167  1692.9833  216.3498\n",
      "write    5.9667  1942.8333  178.3582\n"
     ]
    }
   ],
   "source": [
    "summary_stats = disk_all.groupby(\"op_type\")[\"ops_per_sec\"].agg([\"min\", \"max\", \"mean\"]).round(4)\n",
    "print(summary_stats)"
   ]
  },
  {
   "cell_type": "markdown",
   "id": "f40bd21d",
   "metadata": {},
   "source": [
    "## Discussion\n",
    "\n",
    "\n",
    "Disk operations per second (read and write ops/sec) measures how many times the system reads from or writes to disk each second. This matters because high or sudden spikes in disk activity can indicate parts of the workload that are slowed down by waiting on data access rather than computing.\n",
    "\n",
    "Disk performance improved with more workers: the 3-node setup reached much higher peaks, with reads hitting 1692.98 ops/sec and writes reaching 1942.83 ops/sec, compared to 937.90 and 994.65 ops/sec on the 2-node setup. On average, the 3-node system also handled more disk activity, with 216.35 read and 178.36 write ops/sec, versus 176.52 and 144.49 for 2 nodes.\n",
    "\n",
    "That said, the 3-node system also had more downtime between bursts—especially for reads, which dropped as low as 0.02 ops/sec. In contrast, the 2-node system did most of its disk work earlier in the run and kept a steadier level of activity, never falling below 2.70 ops/sec for reads.\n",
    "\n",
    "These results suggest that while adding more nodes gives the system more disk power, the workload doesn’t always use it steadily. Instead, the 3-node setup shows short, intense bursts followed by quiet periods, while the 2-node setup makes more consistent use of the disk over time."
   ]
  },
  {
   "cell_type": "markdown",
   "id": "9acc3ac2",
   "metadata": {},
   "source": [
    "## YARN Allocated Memory Percentage \n",
    "\n",
    "### 2 Worker Nodes"
   ]
  },
  {
   "cell_type": "code",
   "execution_count": null,
   "id": "1a6ef307",
   "metadata": {},
   "outputs": [],
   "source": [
    "# file \n",
    "file_pct_mem_2n = \"...\" # path hidden for anonymity\n",
    "\n",
    "# read and clean\n",
    "mem_2n = pd.read_csv(file_pct_mem_2n)\n",
    "mem_2n = mem_2n.drop(index=0).reset_index(drop=True)\n",
    "mem_2n.columns = [\"timestamp\", \"pct_mem\"]\n",
    "\n",
    "# sort by time\n",
    "mem_2n = mem_2n.sort_values(\"timestamp\").reset_index(drop=True)\n",
    "\n",
    "# generate mins from start \n",
    "mem_2n[\"mins_since_start\"] = range(1, len(mem_2n) + 1)\n",
    "\n",
    "#normalize time \n",
    "mem_2n[\"pct_through_run\"] = mem_2n[\"mins_since_start\"] / mem_2n[\"mins_since_start\"].max()"
   ]
  },
  {
   "cell_type": "markdown",
   "id": "dcc0d2ac",
   "metadata": {},
   "source": [
    "#### Graph of YARN Memory Utilization Over Normalized Time (2 Worker Nodes)"
   ]
  },
  {
   "cell_type": "code",
   "execution_count": null,
   "id": "f1646725",
   "metadata": {},
   "outputs": [
    {
     "data": {
      "image/png": "[encoded data removed]",
      "text/plain": [
       "<Figure size 1000x600 with 1 Axes>"
      ]
     },
     "metadata": {},
     "output_type": "display_data"
    }
   ],
   "source": [
    "plt.figure(figsize=(10, 6))\n",
    "plt.plot(mem_2n[\"pct_through_run\"], pd.to_numeric(mem_2n[\"pct_mem\"], errors=\"coerce\"), marker='o')\n",
    "\n",
    "plt.title(\"YARN Memory Utilization Over Normalized Time (2 Worker Nodes)\")\n",
    "plt.xlabel(\"Percent of Run Completed\")\n",
    "plt.ylabel(\"Percent Allocated Memory\")\n",
    "plt.grid(True)\n",
    "\n",
    "plt.tight_layout()\n",
    "plt.show()"
   ]
  },
  {
   "cell_type": "markdown",
   "id": "2f652c9a",
   "metadata": {},
   "source": [
    "#### Summary Statistics"
   ]
  },
  {
   "cell_type": "code",
   "execution_count": null,
   "id": "0aff76d6",
   "metadata": {},
   "outputs": [
    {
     "name": "stdout",
     "output_type": "stream",
     "text": [
      "min     0.0000\n",
      "max     1.0000\n",
      "mean    0.8382\n",
      "Name: pct_mem, dtype: float64\n",
      "Proportion of time at 100% memory usage: 82.35%\n"
     ]
    }
   ],
   "source": [
    "# summary stats\n",
    "mem_2n[\"pct_mem\"] = pd.to_numeric(mem_2n[\"pct_mem\"], errors=\"coerce\")\n",
    "summary = mem_2n[\"pct_mem\"].agg([\"min\", \"max\", \"mean\"]).round(4)\n",
    "print(summary)\n",
    "\n",
    "# gen pct of time at 100% mem usage since the above graph isn't as useful \n",
    "pct_maxed = (mem_2n[\"pct_mem\"] == 1.0).mean()\n",
    "print(f\"Proportion of time at 100% memory usage: {pct_maxed:.2%}\")"
   ]
  },
  {
   "cell_type": "markdown",
   "id": "5f0e977d",
   "metadata": {},
   "source": [
    "### 3 Worker Nodes"
   ]
  },
  {
   "cell_type": "code",
   "execution_count": null,
   "id": "73029a59",
   "metadata": {},
   "outputs": [],
   "source": [
    "\n",
    "# files\n",
    "base_path_3n = \"...\" # path hidden for anonymity\n",
    "\n",
    "file_list_3n = [\n",
    "    f\"{base_path_3n}/YARN_allocated_memory_percentage_for_9d7e604b-3a3c-4c17-92b7-0e5bb0a0c82f_[SUM].csv\",\n",
    "    f\"{base_path_3n}/YARN_allocated_memory_percentage_for_f771f8d4-d435-453c-8903-01f1e988b451_[SUM].csv\",\n",
    "    f\"{base_path_3n}/YARN_allocated_memory_percentage_for_f771f8d4-d435-453c-8903-01f1e988b451_[SUM]-2.csv\"\n",
    "]\n",
    "\n",
    "# load and clean \n",
    "mem_3n_list = []\n",
    "for fp in file_list_3n:\n",
    "    df = pd.read_csv(fp).drop(index=0).reset_index(drop=True)\n",
    "    df.columns = [\"timestamp\", \"pct_mem\"]\n",
    "    mem_3n_list.append(df)\n",
    "\n",
    "# Stack all cuts\n",
    "mem_3n = pd.concat(mem_3n_list, ignore_index=True)\n",
    "\n",
    "# clean and sort \n",
    "mem_3n[\"pct_mem\"] = pd.to_numeric(mem_3n[\"pct_mem\"], errors=\"coerce\")\n",
    "mem_3n = mem_3n.sort_values(\"timestamp\").reset_index(drop=True)\n",
    "mem_3n[\"mins_since_start\"] = range(1, len(mem_3n) + 1)\n",
    "\n",
    "# normalize time \n",
    "mem_3n[\"pct_through_run\"] = mem_3n[\"mins_since_start\"] / mem_3n[\"mins_since_start\"].max()"
   ]
  },
  {
   "cell_type": "markdown",
   "id": "82aaf9ae",
   "metadata": {},
   "source": [
    "#### Graph of YARN Memory Utilization Over Normalized Time (3 Worker Nodes)"
   ]
  },
  {
   "cell_type": "code",
   "execution_count": null,
   "id": "52cbc06e",
   "metadata": {},
   "outputs": [
    {
     "data": {
      "image/png": "[encoded data removed]",
      "text/plain": [
       "<Figure size 1000x600 with 1 Axes>"
      ]
     },
     "metadata": {},
     "output_type": "display_data"
    }
   ],
   "source": [
    "plt.figure(figsize=(10, 6))\n",
    "plt.plot(mem_3n[\"pct_through_run\"], mem_3n[\"pct_mem\"], marker='o')\n",
    "\n",
    "plt.title(\"YARN Memory Utilization Over Normalized Time (3 Worker Nodes)\")\n",
    "plt.xlabel(\"Percent of Run Completed\")\n",
    "plt.ylabel(\"Percent Allocated Memory\")\n",
    "plt.grid(True)\n",
    "\n",
    "plt.tight_layout()\n",
    "plt.show()"
   ]
  },
  {
   "cell_type": "markdown",
   "id": "a749f53a",
   "metadata": {},
   "source": [
    "#### Summary statistics "
   ]
  },
  {
   "cell_type": "code",
   "execution_count": null,
   "id": "cc809d3c",
   "metadata": {},
   "outputs": [
    {
     "name": "stdout",
     "output_type": "stream",
     "text": [
      "Summary (3 nodes):\n",
      "min     0.0000\n",
      "max     1.0000\n",
      "mean    0.6725\n",
      "Name: pct_mem, dtype: float64\n",
      "Proportion of time at 100% memory usage: 65.12%\n"
     ]
    }
   ],
   "source": [
    "# summary stats\n",
    "summary_3n = mem_3n[\"pct_mem\"].agg([\"min\", \"max\", \"mean\"]).round(4)\n",
    "print(\"Summary (3 nodes):\")\n",
    "print(summary_3n)\n",
    "\n",
    "# proportion at 100%\n",
    "pct_maxed_3n = (mem_3n[\"pct_mem\"] == 1.0).mean()\n",
    "print(f\"Proportion of time at 100% memory usage: {pct_maxed_3n:.2%}\")"
   ]
  },
  {
   "cell_type": "markdown",
   "id": "cef1a9a6",
   "metadata": {},
   "source": [
    "YARN memory utilization tracks the proportion of memory allocated to active tasks over time. This matters because when memory usage is consistently at 100%, it can signal a system under strain, with limited room to buffer data or handle new tasks, potentially slowing performance or increasing the chance of failures due to memory pressure.\n",
    "\n",
    "In the 2-node configuration, memory was maxed out at 100% for 82.35% of the run, with an average utilization of 83.82%. The graph shows a long sustained period of full usage, followed by a brief drop near the latter third of the run. This pattern suggests tight memory conditions throughout, which may have led to more aggressive disk activity or task queuing.\n",
    "\n",
    "In contrast, the 3-node configuration hit 100% usage 65.12% of the time, with a lower average of 67.25%. The usage was volatile, with more points spiking to full utilization, then dipping to zero or near-zero in several phases. While the 3-node setup had more available memory headroom overall, it didn’t consistently leverage it across the entire job duration.\n",
    "\n",
    "These results imply that while adding nodes eased memory pressure overall, the system still entered memory-bound phases. The 2-node setup, in particular, likely operated at or near capacity for much of the workload, which may have impacted performance elsewhere, like disk or CPU."
   ]
  }
 ],
 "metadata": {
  "kernelspec": {
   "display_name": "PySpark",
   "language": "python",
   "name": "pyspark"
  },
  "language_info": {
   "codemirror_mode": {
    "name": "ipython",
    "version": 3
   },
   "file_extension": ".py",
   "mimetype": "text/x-python",
   "name": "python",
   "nbconvert_exporter": "python",
   "pygments_lexer": "ipython3",
   "version": "3.11.8"
  }
 },
 "nbformat": 4,
 "nbformat_minor": 5
}
